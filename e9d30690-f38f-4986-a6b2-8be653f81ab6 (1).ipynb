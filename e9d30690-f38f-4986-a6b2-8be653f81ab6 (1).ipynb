{
 "cells": [
  {
   "cell_type": "markdown",
   "metadata": {},
   "source": [
    "# **Анализ данных мобильного приложения**"
   ]
  },
  {
   "cell_type": "markdown",
   "metadata": {},
   "source": [
    "### Введение"
   ]
  },
  {
   "cell_type": "markdown",
   "metadata": {},
   "source": [
    "Нашему вниманию предоставлены данные стартапа, занимающегося продажей продуктов питания. Необходимо исследовать поведение пользователей его мобильного приложения. Важно изучить воронку продаж. Затем проанализировать результаты A/A/B-эксперимента (пользователей разбили на 3 группы: 2 контрольные со старыми шрифтами и одну экспериментальную — с новыми). В нашем распоряжении один датасет с данными.\n",
    "\n",
    "\n",
    "\n",
    "   **Описание данных**\n",
    "\n",
    "Датасет /datasets/logs_exp.csv:\n",
    "\n",
    "    - EventName — название события,\n",
    "\n",
    "    - DeviceIDHash — уникальный идентификатор пользователя,\n",
    "\n",
    "    - EventTimestamp — время события,\n",
    "\n",
    "    - ExpId — номер эксперимента: 246 и 247 — контрольные группы, а 248 — экспериментальная.\n",
    "\n",
    "Каждая запись в логе — это действие пользователя, или событие.    \n",
    "\n",
    "\n",
    "   **План**\n",
    "\n",
    "1. Загрузить файл и изучить общую информацию данных.\n",
    "\n",
    "\n",
    "2. Провести предобработку данных.\n",
    "\n",
    "\n",
    "3. Исследовать и проверить  конкретные данные.\n",
    "\n",
    "\n",
    "4. Изучить воронку событий.\n",
    "\n",
    "\n",
    "5. Провести анализ результатов проводимого эксперимента.\n",
    "\n",
    "\n",
    "6. Сформулировать общий вывод."
   ]
  },
  {
   "cell_type": "markdown",
   "metadata": {},
   "source": [
    "### Загрузка файла с данными и изучение общей информации"
   ]
  },
  {
   "cell_type": "code",
   "execution_count": 1,
   "metadata": {},
   "outputs": [],
   "source": [
    "# импортируем библиотеки\n",
    "import pandas as pd\n",
    "import plotly.express as px\n",
    "import numpy as np\n",
    "import seaborn as sns\n",
    "import scipy.stats as st\n",
    "from matplotlib import pyplot as plt\n",
    "from datetime import datetime, timedelta\n",
    "from plotly import graph_objects as go\n",
    "\n",
    "import math as mth\n",
    "%matplotlib inline"
   ]
  },
  {
   "cell_type": "code",
   "execution_count": 2,
   "metadata": {},
   "outputs": [],
   "source": [
    "data = pd.read_csv('/datasets/logs_exp.csv', sep='\\t') #данные о событиях/действиях пользователя"
   ]
  },
  {
   "cell_type": "code",
   "execution_count": 3,
   "metadata": {},
   "outputs": [
    {
     "name": "stdout",
     "output_type": "stream",
     "text": [
      "\t\t\tИнформация о событиях/действиях пользователей\n"
     ]
    },
    {
     "data": {
      "text/html": [
       "<div>\n",
       "<style scoped>\n",
       "    .dataframe tbody tr th:only-of-type {\n",
       "        vertical-align: middle;\n",
       "    }\n",
       "\n",
       "    .dataframe tbody tr th {\n",
       "        vertical-align: top;\n",
       "    }\n",
       "\n",
       "    .dataframe thead th {\n",
       "        text-align: right;\n",
       "    }\n",
       "</style>\n",
       "<table border=\"1\" class=\"dataframe\">\n",
       "  <thead>\n",
       "    <tr style=\"text-align: right;\">\n",
       "      <th></th>\n",
       "      <th>EventName</th>\n",
       "      <th>DeviceIDHash</th>\n",
       "      <th>EventTimestamp</th>\n",
       "      <th>ExpId</th>\n",
       "    </tr>\n",
       "  </thead>\n",
       "  <tbody>\n",
       "    <tr>\n",
       "      <th>0</th>\n",
       "      <td>MainScreenAppear</td>\n",
       "      <td>4575588528974610257</td>\n",
       "      <td>1564029816</td>\n",
       "      <td>246</td>\n",
       "    </tr>\n",
       "    <tr>\n",
       "      <th>1</th>\n",
       "      <td>MainScreenAppear</td>\n",
       "      <td>7416695313311560658</td>\n",
       "      <td>1564053102</td>\n",
       "      <td>246</td>\n",
       "    </tr>\n",
       "    <tr>\n",
       "      <th>2</th>\n",
       "      <td>PaymentScreenSuccessful</td>\n",
       "      <td>3518123091307005509</td>\n",
       "      <td>1564054127</td>\n",
       "      <td>248</td>\n",
       "    </tr>\n",
       "    <tr>\n",
       "      <th>3</th>\n",
       "      <td>CartScreenAppear</td>\n",
       "      <td>3518123091307005509</td>\n",
       "      <td>1564054127</td>\n",
       "      <td>248</td>\n",
       "    </tr>\n",
       "    <tr>\n",
       "      <th>4</th>\n",
       "      <td>PaymentScreenSuccessful</td>\n",
       "      <td>6217807653094995999</td>\n",
       "      <td>1564055322</td>\n",
       "      <td>248</td>\n",
       "    </tr>\n",
       "  </tbody>\n",
       "</table>\n",
       "</div>"
      ],
      "text/plain": [
       "                 EventName         DeviceIDHash  EventTimestamp  ExpId\n",
       "0         MainScreenAppear  4575588528974610257      1564029816    246\n",
       "1         MainScreenAppear  7416695313311560658      1564053102    246\n",
       "2  PaymentScreenSuccessful  3518123091307005509      1564054127    248\n",
       "3         CartScreenAppear  3518123091307005509      1564054127    248\n",
       "4  PaymentScreenSuccessful  6217807653094995999      1564055322    248"
      ]
     },
     "metadata": {},
     "output_type": "display_data"
    },
    {
     "name": "stdout",
     "output_type": "stream",
     "text": [
      "\n",
      "\tИнформация о data: \n",
      "\n",
      "<class 'pandas.core.frame.DataFrame'>\n",
      "RangeIndex: 244126 entries, 0 to 244125\n",
      "Data columns (total 4 columns):\n",
      " #   Column          Non-Null Count   Dtype \n",
      "---  ------          --------------   ----- \n",
      " 0   EventName       244126 non-null  object\n",
      " 1   DeviceIDHash    244126 non-null  int64 \n",
      " 2   EventTimestamp  244126 non-null  int64 \n",
      " 3   ExpId           244126 non-null  int64 \n",
      "dtypes: int64(3), object(1)\n",
      "memory usage: 7.5+ MB\n",
      "\n",
      "Количество строк и столбцов: (244126, 4)\n"
     ]
    }
   ],
   "source": [
    "#выведем строки таблицы:\n",
    "\n",
    "print('\\t\\t\\tИнформация о событиях/действиях пользователей')\n",
    "pd.options.display.max_colwidth = 244\n",
    "display (data.head())\n",
    "\n",
    "#выведем общую информацию по таблице:\n",
    "\n",
    "print ('\\n\\tИнформация о data: \\n') \n",
    "data.info()\n",
    "\n",
    "#выведем размер исходной таблицы:\n",
    "print ('\\nКоличество строк и столбцов:', data.shape)"
   ]
  },
  {
   "cell_type": "markdown",
   "metadata": {},
   "source": [
    "**Итак, загрузили датафрейм и рассмотрели данные. В таблице `data` 244126 строк и 4 столбца. Также видим типы данных для каждого столбца, количество не нулевых значений, предполагаемые пропуски.**"
   ]
  },
  {
   "cell_type": "markdown",
   "metadata": {},
   "source": [
    "### Подготовка данных"
   ]
  },
  {
   "cell_type": "code",
   "execution_count": 4,
   "metadata": {},
   "outputs": [
    {
     "name": "stdout",
     "output_type": "stream",
     "text": [
      "\t\t\tИнформация о событиях/действиях пользователей\n"
     ]
    },
    {
     "data": {
      "text/html": [
       "<div>\n",
       "<style scoped>\n",
       "    .dataframe tbody tr th:only-of-type {\n",
       "        vertical-align: middle;\n",
       "    }\n",
       "\n",
       "    .dataframe tbody tr th {\n",
       "        vertical-align: top;\n",
       "    }\n",
       "\n",
       "    .dataframe thead th {\n",
       "        text-align: right;\n",
       "    }\n",
       "</style>\n",
       "<table border=\"1\" class=\"dataframe\">\n",
       "  <thead>\n",
       "    <tr style=\"text-align: right;\">\n",
       "      <th></th>\n",
       "      <th>event_name</th>\n",
       "      <th>user_id</th>\n",
       "      <th>event_timestamp</th>\n",
       "      <th>group</th>\n",
       "    </tr>\n",
       "  </thead>\n",
       "  <tbody>\n",
       "    <tr>\n",
       "      <th>0</th>\n",
       "      <td>MainScreenAppear</td>\n",
       "      <td>4575588528974610257</td>\n",
       "      <td>1564029816</td>\n",
       "      <td>246</td>\n",
       "    </tr>\n",
       "    <tr>\n",
       "      <th>1</th>\n",
       "      <td>MainScreenAppear</td>\n",
       "      <td>7416695313311560658</td>\n",
       "      <td>1564053102</td>\n",
       "      <td>246</td>\n",
       "    </tr>\n",
       "    <tr>\n",
       "      <th>2</th>\n",
       "      <td>PaymentScreenSuccessful</td>\n",
       "      <td>3518123091307005509</td>\n",
       "      <td>1564054127</td>\n",
       "      <td>248</td>\n",
       "    </tr>\n",
       "    <tr>\n",
       "      <th>3</th>\n",
       "      <td>CartScreenAppear</td>\n",
       "      <td>3518123091307005509</td>\n",
       "      <td>1564054127</td>\n",
       "      <td>248</td>\n",
       "    </tr>\n",
       "    <tr>\n",
       "      <th>4</th>\n",
       "      <td>PaymentScreenSuccessful</td>\n",
       "      <td>6217807653094995999</td>\n",
       "      <td>1564055322</td>\n",
       "      <td>248</td>\n",
       "    </tr>\n",
       "  </tbody>\n",
       "</table>\n",
       "</div>"
      ],
      "text/plain": [
       "                event_name              user_id  event_timestamp  group\n",
       "0         MainScreenAppear  4575588528974610257       1564029816    246\n",
       "1         MainScreenAppear  7416695313311560658       1564053102    246\n",
       "2  PaymentScreenSuccessful  3518123091307005509       1564054127    248\n",
       "3         CartScreenAppear  3518123091307005509       1564054127    248\n",
       "4  PaymentScreenSuccessful  6217807653094995999       1564055322    248"
      ]
     },
     "metadata": {},
     "output_type": "display_data"
    }
   ],
   "source": [
    "# для начала приведем к нижнему регистру все наименования столбцов в датасете data и приведем их к одному виду\n",
    "\n",
    "data.columns = data.columns.str.lower() #нижний региcтр\n",
    "\n",
    "#переименовываем некоторые столбцы в датасете orders\n",
    "data = data.rename(\n",
    "           columns={'eventname' : 'event_name',\n",
    "                    'deviceidhash' : 'user_id',\n",
    "                    'eventtimestamp' : 'event_timestamp',\n",
    "                    'expid' : 'group'\n",
    "                   }\n",
    ")\n",
    "\n",
    "#выведем таблицы после изменений\n",
    "print('\\t\\t\\tИнформация о событиях/действиях пользователей')\n",
    "display(data.head())"
   ]
  },
  {
   "cell_type": "code",
   "execution_count": 5,
   "metadata": {},
   "outputs": [
    {
     "name": "stdout",
     "output_type": "stream",
     "text": [
      "\t\t\tИнформация о событиях/действиях пользователей\n"
     ]
    },
    {
     "data": {
      "text/plain": [
       "event_name         0\n",
       "user_id            0\n",
       "event_timestamp    0\n",
       "group              0\n",
       "dtype: int64"
      ]
     },
     "metadata": {},
     "output_type": "display_data"
    }
   ],
   "source": [
    "#Проведем проверку на пропуски и типы данных. Откорректируем при необходимости, если нужно;\n",
    "\n",
    "print('\\t\\t\\tИнформация о событиях/действиях пользователей')\n",
    "display(data.isna().sum())"
   ]
  },
  {
   "cell_type": "markdown",
   "metadata": {},
   "source": [
    "**Пропущенные значения отсутствуют.**"
   ]
  },
  {
   "cell_type": "code",
   "execution_count": 6,
   "metadata": {},
   "outputs": [
    {
     "name": "stdout",
     "output_type": "stream",
     "text": [
      "\n",
      "\tИнформация о data: \n",
      "\n",
      "<class 'pandas.core.frame.DataFrame'>\n",
      "RangeIndex: 244126 entries, 0 to 244125\n",
      "Data columns (total 4 columns):\n",
      " #   Column           Non-Null Count   Dtype         \n",
      "---  ------           --------------   -----         \n",
      " 0   event_name       244126 non-null  object        \n",
      " 1   user_id          244126 non-null  int64         \n",
      " 2   event_timestamp  244126 non-null  datetime64[ns]\n",
      " 3   group            244126 non-null  int64         \n",
      "dtypes: datetime64[ns](1), int64(2), object(1)\n",
      "memory usage: 7.5+ MB\n",
      "\t\t\tИнформация о событиях/действиях пользователей\n"
     ]
    },
    {
     "data": {
      "text/html": [
       "<div>\n",
       "<style scoped>\n",
       "    .dataframe tbody tr th:only-of-type {\n",
       "        vertical-align: middle;\n",
       "    }\n",
       "\n",
       "    .dataframe tbody tr th {\n",
       "        vertical-align: top;\n",
       "    }\n",
       "\n",
       "    .dataframe thead th {\n",
       "        text-align: right;\n",
       "    }\n",
       "</style>\n",
       "<table border=\"1\" class=\"dataframe\">\n",
       "  <thead>\n",
       "    <tr style=\"text-align: right;\">\n",
       "      <th></th>\n",
       "      <th>event_name</th>\n",
       "      <th>user_id</th>\n",
       "      <th>event_timestamp</th>\n",
       "      <th>group</th>\n",
       "    </tr>\n",
       "  </thead>\n",
       "  <tbody>\n",
       "    <tr>\n",
       "      <th>0</th>\n",
       "      <td>MainScreenAppear</td>\n",
       "      <td>4575588528974610257</td>\n",
       "      <td>2019-07-25 04:43:36</td>\n",
       "      <td>246</td>\n",
       "    </tr>\n",
       "    <tr>\n",
       "      <th>1</th>\n",
       "      <td>MainScreenAppear</td>\n",
       "      <td>7416695313311560658</td>\n",
       "      <td>2019-07-25 11:11:42</td>\n",
       "      <td>246</td>\n",
       "    </tr>\n",
       "    <tr>\n",
       "      <th>2</th>\n",
       "      <td>PaymentScreenSuccessful</td>\n",
       "      <td>3518123091307005509</td>\n",
       "      <td>2019-07-25 11:28:47</td>\n",
       "      <td>248</td>\n",
       "    </tr>\n",
       "    <tr>\n",
       "      <th>3</th>\n",
       "      <td>CartScreenAppear</td>\n",
       "      <td>3518123091307005509</td>\n",
       "      <td>2019-07-25 11:28:47</td>\n",
       "      <td>248</td>\n",
       "    </tr>\n",
       "    <tr>\n",
       "      <th>4</th>\n",
       "      <td>PaymentScreenSuccessful</td>\n",
       "      <td>6217807653094995999</td>\n",
       "      <td>2019-07-25 11:48:42</td>\n",
       "      <td>248</td>\n",
       "    </tr>\n",
       "  </tbody>\n",
       "</table>\n",
       "</div>"
      ],
      "text/plain": [
       "                event_name              user_id     event_timestamp  group\n",
       "0         MainScreenAppear  4575588528974610257 2019-07-25 04:43:36    246\n",
       "1         MainScreenAppear  7416695313311560658 2019-07-25 11:11:42    246\n",
       "2  PaymentScreenSuccessful  3518123091307005509 2019-07-25 11:28:47    248\n",
       "3         CartScreenAppear  3518123091307005509 2019-07-25 11:28:47    248\n",
       "4  PaymentScreenSuccessful  6217807653094995999 2019-07-25 11:48:42    248"
      ]
     },
     "metadata": {},
     "output_type": "display_data"
    }
   ],
   "source": [
    "# проведем замену типа данных в столбце event_timestamp    \n",
    "data['event_timestamp'] = pd.to_datetime(data['event_timestamp'], unit='s')\n",
    "\n",
    "#выведем общую информацию по таблице:\n",
    "\n",
    "print ('\\n\\tИнформация о data: \\n') \n",
    "data.info()\n",
    "\n",
    "print('\\t\\t\\tИнформация о событиях/действиях пользователей')\n",
    "display (data.head())"
   ]
  },
  {
   "cell_type": "code",
   "execution_count": 7,
   "metadata": {},
   "outputs": [
    {
     "name": "stdout",
     "output_type": "stream",
     "text": [
      "\n",
      "\tИнформация о data\n",
      "Минимальная дата совершения события: 2019-07-25 04:43:36\n",
      "Максимальная дата совершения события: 2019-08-07 21:15:17\n"
     ]
    }
   ],
   "source": [
    "#рассмотрим временной интервал проводимого теста\n",
    "print('\\n\\tИнформация о data')\n",
    "print('Минимальная дата совершения события:', data['event_timestamp'].min())\n",
    "print('Максимальная дата совершения события:', data['event_timestamp'].max())"
   ]
  },
  {
   "cell_type": "markdown",
   "metadata": {},
   "source": [
    "**Исходя из полученных данных, можем заметить, что начало исследуемого периода - это 25 июля 2019  04:43:36 г, а конец - 07 августа 21:15:17 2019 г.**"
   ]
  },
  {
   "cell_type": "code",
   "execution_count": 8,
   "metadata": {},
   "outputs": [
    {
     "name": "stdout",
     "output_type": "stream",
     "text": [
      "Количество явных дубликатов data: 413\n",
      "\t\tУникальные значения в data:\n",
      "\n",
      " Значения в столбце event_name\n",
      "['MainScreenAppear' 'PaymentScreenSuccessful' 'CartScreenAppear'\n",
      " 'OffersScreenAppear' 'Tutorial']\n",
      "\n",
      " Значения в столбце group\n",
      "[246 248 247]\n"
     ]
    }
   ],
   "source": [
    "#проведем проверку на дубликаты\n",
    "print ('Количество явных дубликатов data:', data.duplicated().sum())\n",
    "\n",
    "#выведем уникальные значения\n",
    "\n",
    "print('\\t\\tУникальные значения в data:')\n",
    "\n",
    "print('\\n Значения в столбце event_name')\n",
    "print(data['event_name'].unique())\n",
    "\n",
    "\n",
    "print('\\n Значения в столбце group')\n",
    "print(data['group'].unique())"
   ]
  },
  {
   "cell_type": "code",
   "execution_count": 9,
   "metadata": {},
   "outputs": [
    {
     "name": "stdout",
     "output_type": "stream",
     "text": [
      "Процент дубликатов: 0.17\n"
     ]
    }
   ],
   "source": [
    "#проверим процентное отношение дубликатов к общему количеству записей\n",
    "print ('Процент дубликатов:', round((data.duplicated().sum() * 100 / len(data)),2))"
   ]
  },
  {
   "cell_type": "code",
   "execution_count": 10,
   "metadata": {},
   "outputs": [
    {
     "name": "stdout",
     "output_type": "stream",
     "text": [
      "Количество явных дубликатов data: 0\n"
     ]
    }
   ],
   "source": [
    "# удалим дубликаты и проведем проверку еще раз, \n",
    "data = data.drop_duplicates().reset_index(drop=True)\n",
    "print ('Количество явных дубликатов data:', data.duplicated().sum())"
   ]
  },
  {
   "cell_type": "code",
   "execution_count": 11,
   "metadata": {},
   "outputs": [
    {
     "name": "stdout",
     "output_type": "stream",
     "text": [
      "\t\t\tИнформация о событиях/действиях пользователей\n"
     ]
    },
    {
     "data": {
      "text/html": [
       "<div>\n",
       "<style scoped>\n",
       "    .dataframe tbody tr th:only-of-type {\n",
       "        vertical-align: middle;\n",
       "    }\n",
       "\n",
       "    .dataframe tbody tr th {\n",
       "        vertical-align: top;\n",
       "    }\n",
       "\n",
       "    .dataframe thead th {\n",
       "        text-align: right;\n",
       "    }\n",
       "</style>\n",
       "<table border=\"1\" class=\"dataframe\">\n",
       "  <thead>\n",
       "    <tr style=\"text-align: right;\">\n",
       "      <th></th>\n",
       "      <th>event_name</th>\n",
       "      <th>user_id</th>\n",
       "      <th>event_timestamp</th>\n",
       "      <th>group</th>\n",
       "      <th>date</th>\n",
       "    </tr>\n",
       "  </thead>\n",
       "  <tbody>\n",
       "    <tr>\n",
       "      <th>0</th>\n",
       "      <td>MainScreenAppear</td>\n",
       "      <td>4575588528974610257</td>\n",
       "      <td>2019-07-25 04:43:36</td>\n",
       "      <td>246</td>\n",
       "      <td>2019-07-25</td>\n",
       "    </tr>\n",
       "    <tr>\n",
       "      <th>1</th>\n",
       "      <td>MainScreenAppear</td>\n",
       "      <td>7416695313311560658</td>\n",
       "      <td>2019-07-25 11:11:42</td>\n",
       "      <td>246</td>\n",
       "      <td>2019-07-25</td>\n",
       "    </tr>\n",
       "    <tr>\n",
       "      <th>2</th>\n",
       "      <td>PaymentScreenSuccessful</td>\n",
       "      <td>3518123091307005509</td>\n",
       "      <td>2019-07-25 11:28:47</td>\n",
       "      <td>248</td>\n",
       "      <td>2019-07-25</td>\n",
       "    </tr>\n",
       "    <tr>\n",
       "      <th>3</th>\n",
       "      <td>CartScreenAppear</td>\n",
       "      <td>3518123091307005509</td>\n",
       "      <td>2019-07-25 11:28:47</td>\n",
       "      <td>248</td>\n",
       "      <td>2019-07-25</td>\n",
       "    </tr>\n",
       "    <tr>\n",
       "      <th>4</th>\n",
       "      <td>PaymentScreenSuccessful</td>\n",
       "      <td>6217807653094995999</td>\n",
       "      <td>2019-07-25 11:48:42</td>\n",
       "      <td>248</td>\n",
       "      <td>2019-07-25</td>\n",
       "    </tr>\n",
       "  </tbody>\n",
       "</table>\n",
       "</div>"
      ],
      "text/plain": [
       "                event_name              user_id     event_timestamp  group  \\\n",
       "0         MainScreenAppear  4575588528974610257 2019-07-25 04:43:36    246   \n",
       "1         MainScreenAppear  7416695313311560658 2019-07-25 11:11:42    246   \n",
       "2  PaymentScreenSuccessful  3518123091307005509 2019-07-25 11:28:47    248   \n",
       "3         CartScreenAppear  3518123091307005509 2019-07-25 11:28:47    248   \n",
       "4  PaymentScreenSuccessful  6217807653094995999 2019-07-25 11:48:42    248   \n",
       "\n",
       "        date  \n",
       "0 2019-07-25  \n",
       "1 2019-07-25  \n",
       "2 2019-07-25  \n",
       "3 2019-07-25  \n",
       "4 2019-07-25  "
      ]
     },
     "metadata": {},
     "output_type": "display_data"
    },
    {
     "name": "stdout",
     "output_type": "stream",
     "text": [
      "\n",
      "\tИнформация о data: \n",
      "\n",
      "<class 'pandas.core.frame.DataFrame'>\n",
      "RangeIndex: 243713 entries, 0 to 243712\n",
      "Data columns (total 5 columns):\n",
      " #   Column           Non-Null Count   Dtype         \n",
      "---  ------           --------------   -----         \n",
      " 0   event_name       243713 non-null  object        \n",
      " 1   user_id          243713 non-null  int64         \n",
      " 2   event_timestamp  243713 non-null  datetime64[ns]\n",
      " 3   group            243713 non-null  int64         \n",
      " 4   date             243713 non-null  datetime64[ns]\n",
      "dtypes: datetime64[ns](2), int64(2), object(1)\n",
      "memory usage: 9.3+ MB\n"
     ]
    }
   ],
   "source": [
    "# добавим поле с датой:\n",
    "data['date'] = pd.to_datetime(data['event_timestamp'].dt.date)\n",
    "\n",
    "print('\\t\\t\\tИнформация о событиях/действиях пользователей')\n",
    "\n",
    "display (data.head())\n",
    "print ('\\n\\tИнформация о data: \\n') \n",
    "data.info()"
   ]
  },
  {
   "cell_type": "code",
   "execution_count": 12,
   "metadata": {},
   "outputs": [
    {
     "name": "stdout",
     "output_type": "stream",
     "text": [
      "\n",
      "\tИнформация о data\n",
      "Минимальная дата совершения события по event_timestamp: 2019-07-25 04:43:36\n",
      "Максимальная дата совершения события по event_timestamp: 2019-08-07 21:15:17\n",
      "Минимальная дата совершения события по date: 2019-07-25 00:00:00\n",
      "Максимальная дата совершения события по date: 2019-08-07 00:00:00\n"
     ]
    }
   ],
   "source": [
    "#проверим временной интервал проводимого теста в столбцах event_timestamp и date после изменений\n",
    "print('\\n\\tИнформация о data')\n",
    "print('Минимальная дата совершения события по event_timestamp:', data['event_timestamp'].min())\n",
    "print('Максимальная дата совершения события по event_timestamp:', data['event_timestamp'].max())\n",
    "\n",
    "print('Минимальная дата совершения события по date:', data['date'].min())\n",
    "print('Максимальная дата совершения события по date:', data['date'].max())"
   ]
  },
  {
   "cell_type": "markdown",
   "metadata": {},
   "source": [
    "**Как видим, данные не изменились.**"
   ]
  },
  {
   "cell_type": "markdown",
   "metadata": {},
   "source": [
    "**Таким образом, была проведена предобработка данных. В частности, таблица была проверена на дубликаты и пропущенные значения (последние отсутствуют).  В ходе проверки обнаружено 413 дубликатов, после чего было подсчитано соотношение дубликатов от общего числа записей, т.к. число получилось небольшим, то дубликаты были удалены. Также в столбце event_timestamp была произведена замена типа данных. Кроме того, наименования столбцов были приведены к нижнему регистру, а также некоторые столбцы были переименованы. Добавлен отдельный столбец дат. Был рассмотрен временной интервал проводимого теста: с 25 июля по 07 августа 2019 г (минимальные и максимальные даты).**"
   ]
  },
  {
   "cell_type": "markdown",
   "metadata": {},
   "source": [
    "### Изучение и проверка данных"
   ]
  },
  {
   "cell_type": "code",
   "execution_count": 13,
   "metadata": {},
   "outputs": [
    {
     "name": "stdout",
     "output_type": "stream",
     "text": [
      "Количество событий в логе: 243713\n"
     ]
    },
    {
     "data": {
      "text/plain": [
       "MainScreenAppear           119101\n",
       "OffersScreenAppear          46808\n",
       "CartScreenAppear            42668\n",
       "PaymentScreenSuccessful     34118\n",
       "Tutorial                     1018\n",
       "Name: event_name, dtype: int64"
      ]
     },
     "metadata": {},
     "output_type": "display_data"
    }
   ],
   "source": [
    "#проверим сколько всего событий в логе\n",
    "\n",
    "print ('Количество событий в логе:', data['event_name'].count())\n",
    " \n",
    "display(data['event_name'].value_counts())"
   ]
  },
  {
   "cell_type": "code",
   "execution_count": 14,
   "metadata": {},
   "outputs": [
    {
     "name": "stdout",
     "output_type": "stream",
     "text": [
      "Количество пользователей в логе: 7551\n"
     ]
    }
   ],
   "source": [
    "#проверим сколько всего пользователей в логе\n",
    "\n",
    "print ('Количество пользователей в логе:', data['user_id'].nunique())"
   ]
  },
  {
   "cell_type": "code",
   "execution_count": 15,
   "metadata": {},
   "outputs": [
    {
     "data": {
      "text/html": [
       "<div>\n",
       "<style scoped>\n",
       "    .dataframe tbody tr th:only-of-type {\n",
       "        vertical-align: middle;\n",
       "    }\n",
       "\n",
       "    .dataframe tbody tr th {\n",
       "        vertical-align: top;\n",
       "    }\n",
       "\n",
       "    .dataframe thead th {\n",
       "        text-align: right;\n",
       "    }\n",
       "</style>\n",
       "<table border=\"1\" class=\"dataframe\">\n",
       "  <thead>\n",
       "    <tr style=\"text-align: right;\">\n",
       "      <th></th>\n",
       "      <th>event_name</th>\n",
       "      <th>user_id</th>\n",
       "    </tr>\n",
       "  </thead>\n",
       "  <tbody>\n",
       "    <tr>\n",
       "      <th>0</th>\n",
       "      <td>CartScreenAppear</td>\n",
       "      <td>3749</td>\n",
       "    </tr>\n",
       "    <tr>\n",
       "      <th>1</th>\n",
       "      <td>MainScreenAppear</td>\n",
       "      <td>7439</td>\n",
       "    </tr>\n",
       "    <tr>\n",
       "      <th>2</th>\n",
       "      <td>OffersScreenAppear</td>\n",
       "      <td>4613</td>\n",
       "    </tr>\n",
       "    <tr>\n",
       "      <th>3</th>\n",
       "      <td>PaymentScreenSuccessful</td>\n",
       "      <td>3547</td>\n",
       "    </tr>\n",
       "    <tr>\n",
       "      <th>4</th>\n",
       "      <td>Tutorial</td>\n",
       "      <td>847</td>\n",
       "    </tr>\n",
       "  </tbody>\n",
       "</table>\n",
       "</div>"
      ],
      "text/plain": [
       "                event_name  user_id\n",
       "0         CartScreenAppear     3749\n",
       "1         MainScreenAppear     7439\n",
       "2       OffersScreenAppear     4613\n",
       "3  PaymentScreenSuccessful     3547\n",
       "4                 Tutorial      847"
      ]
     },
     "metadata": {},
     "output_type": "display_data"
    }
   ],
   "source": [
    "#посмотрим количество уникальных пользователей для каждого события\n",
    "new_table = data.groupby('event_name').agg({'user_id': 'nunique'}).reset_index()\n",
    "display (new_table)"
   ]
  },
  {
   "cell_type": "code",
   "execution_count": 16,
   "metadata": {},
   "outputs": [
    {
     "data": {
      "text/plain": [
       "count    7551.000000\n",
       "mean       32.275593\n",
       "std        65.154219\n",
       "min         1.000000\n",
       "25%         9.000000\n",
       "50%        20.000000\n",
       "75%        37.000000\n",
       "max      2307.000000\n",
       "Name: event_name_count, dtype: float64"
      ]
     },
     "metadata": {},
     "output_type": "display_data"
    }
   ],
   "source": [
    "#проверим колько в среднем событий приходится на пользователя\n",
    "new_table = data.groupby('user_id', as_index=False).agg(event_name_count = ('event_name', 'count'))\n",
    "display(new_table.event_name_count.describe())"
   ]
  },
  {
   "cell_type": "markdown",
   "metadata": {},
   "source": [
    "*Как видим, среднее значение 32 события, однако в данных могут быть выбросы, что влияет на корректность полученных значений. Следовательно, обратим внимание на медиану: указано 20 событий.*"
   ]
  },
  {
   "cell_type": "code",
   "execution_count": 17,
   "metadata": {},
   "outputs": [
    {
     "name": "stdout",
     "output_type": "stream",
     "text": [
      "\n",
      "\tИнформация о data\n",
      "Минимальная дата совершения события по event_timestamp: 2019-07-25 04:43:36\n",
      "Максимальная дата совершения события по event_timestamp: 2019-08-07 21:15:17\n",
      "Минимальная дата совершения события по date: 2019-07-25 00:00:00\n",
      "Максимальная дата совершения события по date: 2019-08-07 00:00:00\n"
     ]
    }
   ],
   "source": [
    "#проверим период, за который располагаем данными. Найдем максимальную и минимальную дату (продублируем раннее указаный код)\n",
    "print('\\n\\tИнформация о data')\n",
    "print('Минимальная дата совершения события по event_timestamp:', data['event_timestamp'].min())\n",
    "print('Максимальная дата совершения события по event_timestamp:', data['event_timestamp'].max())\n",
    "\n",
    "print('Минимальная дата совершения события по date:', data['date'].min())\n",
    "print('Максимальная дата совершения события по date:', data['date'].max())"
   ]
  },
  {
   "cell_type": "markdown",
   "metadata": {},
   "source": [
    "*Изучим, как меняется количество данных: построим столбчатую диаграмму, которая отобразит количество событий в зависимости от времени в разрезе групп. Можем ли быть уверенными, что у нас одинаково полные данные за весь период? Технически в логи новых дней по некоторым пользователям могут «доезжать» события из прошлого — это может «перекашивать данные». Определим, с какого момента данные полные и отбросим более старые. Данными за какой период времени мы располагаем на самом деле?*"
   ]
  },
  {
   "cell_type": "code",
   "execution_count": 18,
   "metadata": {},
   "outputs": [
    {
     "data": {
      "image/png": "[encoded data removed]",
      "text/plain": [
       "<Figure size 1512x576 with 1 Axes>"
      ]
     },
     "metadata": {
      "needs_background": "light"
     },
     "output_type": "display_data"
    }
   ],
   "source": [
    "#Изучим, как меняется количество данных: построим столбчатую диаграмму, которая отобразит количество событий в зависимости от времени в разрезе групп.\n",
    "\n",
    "plt.figure(figsize =(21, 8))\n",
    "data['date'].hist(\n",
    "                bins=20, ec='red', lw= 3\n",
    "                )\n",
    "plt.title('Количество событий в зависимости от времени в разрезе групп')\n",
    "plt.xlabel('Дата')\n",
    "plt.ylabel('Количество событий')\n",
    "plt.show()"
   ]
  },
  {
   "cell_type": "markdown",
   "metadata": {},
   "source": [
    "**Исходя из полученной гистограммы, видим, что данных за июль почти нет, т.е. их очень мало. Данное обстоятельство может повлиять на дальнейшее исследование.**"
   ]
  },
  {
   "cell_type": "code",
   "execution_count": 19,
   "metadata": {},
   "outputs": [
    {
     "data": {
      "text/html": [
       "<div>\n",
       "<style scoped>\n",
       "    .dataframe tbody tr th:only-of-type {\n",
       "        vertical-align: middle;\n",
       "    }\n",
       "\n",
       "    .dataframe tbody tr th {\n",
       "        vertical-align: top;\n",
       "    }\n",
       "\n",
       "    .dataframe thead th {\n",
       "        text-align: right;\n",
       "    }\n",
       "</style>\n",
       "<table border=\"1\" class=\"dataframe\">\n",
       "  <thead>\n",
       "    <tr style=\"text-align: right;\">\n",
       "      <th></th>\n",
       "      <th>index</th>\n",
       "      <th>date</th>\n",
       "    </tr>\n",
       "  </thead>\n",
       "  <tbody>\n",
       "    <tr>\n",
       "      <th>0</th>\n",
       "      <td>2019-08-01</td>\n",
       "      <td>36141</td>\n",
       "    </tr>\n",
       "    <tr>\n",
       "      <th>1</th>\n",
       "      <td>2019-08-05</td>\n",
       "      <td>36058</td>\n",
       "    </tr>\n",
       "    <tr>\n",
       "      <th>2</th>\n",
       "      <td>2019-08-06</td>\n",
       "      <td>35788</td>\n",
       "    </tr>\n",
       "    <tr>\n",
       "      <th>3</th>\n",
       "      <td>2019-08-02</td>\n",
       "      <td>35554</td>\n",
       "    </tr>\n",
       "    <tr>\n",
       "      <th>4</th>\n",
       "      <td>2019-08-03</td>\n",
       "      <td>33282</td>\n",
       "    </tr>\n",
       "    <tr>\n",
       "      <th>5</th>\n",
       "      <td>2019-08-04</td>\n",
       "      <td>32968</td>\n",
       "    </tr>\n",
       "    <tr>\n",
       "      <th>6</th>\n",
       "      <td>2019-08-07</td>\n",
       "      <td>31096</td>\n",
       "    </tr>\n",
       "    <tr>\n",
       "      <th>7</th>\n",
       "      <td>2019-07-31</td>\n",
       "      <td>2030</td>\n",
       "    </tr>\n",
       "    <tr>\n",
       "      <th>8</th>\n",
       "      <td>2019-07-30</td>\n",
       "      <td>412</td>\n",
       "    </tr>\n",
       "    <tr>\n",
       "      <th>9</th>\n",
       "      <td>2019-07-29</td>\n",
       "      <td>184</td>\n",
       "    </tr>\n",
       "    <tr>\n",
       "      <th>10</th>\n",
       "      <td>2019-07-28</td>\n",
       "      <td>105</td>\n",
       "    </tr>\n",
       "    <tr>\n",
       "      <th>11</th>\n",
       "      <td>2019-07-27</td>\n",
       "      <td>55</td>\n",
       "    </tr>\n",
       "    <tr>\n",
       "      <th>12</th>\n",
       "      <td>2019-07-26</td>\n",
       "      <td>31</td>\n",
       "    </tr>\n",
       "    <tr>\n",
       "      <th>13</th>\n",
       "      <td>2019-07-25</td>\n",
       "      <td>9</td>\n",
       "    </tr>\n",
       "  </tbody>\n",
       "</table>\n",
       "</div>"
      ],
      "text/plain": [
       "        index   date\n",
       "0  2019-08-01  36141\n",
       "1  2019-08-05  36058\n",
       "2  2019-08-06  35788\n",
       "3  2019-08-02  35554\n",
       "4  2019-08-03  33282\n",
       "5  2019-08-04  32968\n",
       "6  2019-08-07  31096\n",
       "7  2019-07-31   2030\n",
       "8  2019-07-30    412\n",
       "9  2019-07-29    184\n",
       "10 2019-07-28    105\n",
       "11 2019-07-27     55\n",
       "12 2019-07-26     31\n",
       "13 2019-07-25      9"
      ]
     },
     "execution_count": 19,
     "metadata": {},
     "output_type": "execute_result"
    }
   ],
   "source": [
    "#посмотрим количество событий по каждой дате \n",
    "data_new = data['date'].value_counts().reset_index()\n",
    "data_new.sort_values(by='date', ascending=False)"
   ]
  },
  {
   "cell_type": "code",
   "execution_count": 20,
   "metadata": {},
   "outputs": [
    {
     "name": "stdout",
     "output_type": "stream",
     "text": [
      "<class 'pandas.core.frame.DataFrame'>\n",
      "Int64Index: 240887 entries, 2826 to 243712\n",
      "Data columns (total 5 columns):\n",
      " #   Column           Non-Null Count   Dtype         \n",
      "---  ------           --------------   -----         \n",
      " 0   event_name       240887 non-null  object        \n",
      " 1   user_id          240887 non-null  int64         \n",
      " 2   event_timestamp  240887 non-null  datetime64[ns]\n",
      " 3   group            240887 non-null  int64         \n",
      " 4   date             240887 non-null  datetime64[ns]\n",
      "dtypes: datetime64[ns](2), int64(2), object(1)\n",
      "memory usage: 11.0+ MB\n"
     ]
    },
    {
     "data": {
      "text/plain": [
       "None"
      ]
     },
     "metadata": {},
     "output_type": "display_data"
    },
    {
     "name": "stdout",
     "output_type": "stream",
     "text": [
      "Минимальная дата совершения события по date: 2019-08-01 00:00:00\n",
      "Максимальная дата совершения события по date: 2019-08-07 00:00:00\n"
     ]
    }
   ],
   "source": [
    "#Отбросим данные за июль\n",
    "\n",
    "new_data = data.query('date >= \"2019-08-01\"')\n",
    "display (new_data.info())\n",
    "\n",
    "#проверим полученный период\n",
    "print('Минимальная дата совершения события по date:', new_data['date'].min())\n",
    "print('Максимальная дата совершения события по date:', new_data['date'].max())"
   ]
  },
  {
   "cell_type": "code",
   "execution_count": 21,
   "metadata": {},
   "outputs": [
    {
     "name": "stdout",
     "output_type": "stream",
     "text": [
      "Количество событий в логе до изменений: 243713\n"
     ]
    },
    {
     "data": {
      "text/plain": [
       "MainScreenAppear           119101\n",
       "OffersScreenAppear          46808\n",
       "CartScreenAppear            42668\n",
       "PaymentScreenSuccessful     34118\n",
       "Tutorial                     1018\n",
       "Name: event_name, dtype: int64"
      ]
     },
     "metadata": {},
     "output_type": "display_data"
    },
    {
     "name": "stdout",
     "output_type": "stream",
     "text": [
      "Количество событий в логе после изменений: 240887\n"
     ]
    },
    {
     "data": {
      "text/plain": [
       "MainScreenAppear           117328\n",
       "OffersScreenAppear          46333\n",
       "CartScreenAppear            42303\n",
       "PaymentScreenSuccessful     33918\n",
       "Tutorial                     1005\n",
       "Name: event_name, dtype: int64"
      ]
     },
     "metadata": {},
     "output_type": "display_data"
    },
    {
     "name": "stdout",
     "output_type": "stream",
     "text": [
      "Количество пользователей в логе до изменений: 7551\n",
      "Количество пользователей в логе после изменений: 7534\n"
     ]
    }
   ],
   "source": [
    "#проверим сколько всего событий в логе после изменений\n",
    "\n",
    "print ('Количество событий в логе до изменений:', data['event_name'].count())\n",
    "display(data['event_name'].value_counts())\n",
    "print ('Количество событий в логе после изменений:', new_data['event_name'].count())\n",
    "display(new_data['event_name'].value_counts())\n",
    "\n",
    "\n",
    "#проверим сколько всего пользователей в логе после изменений\n",
    "\n",
    "print ('Количество пользователей в логе до изменений:', data['user_id'].nunique())\n",
    "print ('Количество пользователей в логе после изменений:', new_data['user_id'].nunique())"
   ]
  },
  {
   "cell_type": "code",
   "execution_count": 22,
   "metadata": {},
   "outputs": [
    {
     "data": {
      "image/png": "[encoded data removed]",
      "text/plain": [
       "<Figure size 792x432 with 1 Axes>"
      ]
     },
     "metadata": {
      "needs_background": "light"
     },
     "output_type": "display_data"
    }
   ],
   "source": [
    "#построим новый график\n",
    "plt.figure(figsize =(11, 6))\n",
    "new_data['date'].hist(\n",
    "                bins=10, ec='red', lw= 3\n",
    "                )\n",
    "plt.title('Количество событий в зависимости от времени в разрезе групп после изменений')\n",
    "plt.xlabel('Дата')\n",
    "plt.ylabel('Количество событий')\n",
    "plt.show()"
   ]
  },
  {
   "cell_type": "markdown",
   "metadata": {},
   "source": [
    "**Как видим, больше всего событий произошло 01, 02, 05, 06 августа 2019 года. Меньше всего событий было в последний день исследования - 07 августа 2019 г.** "
   ]
  },
  {
   "cell_type": "code",
   "execution_count": 23,
   "metadata": {},
   "outputs": [
    {
     "name": "stdout",
     "output_type": "stream",
     "text": [
      "Количество потерянных событий: 2826\n",
      "Потери событий составили: 1.16%\n",
      "Количество потерянных пользователей в логе после изменений: 17\n",
      "Потери пользователей составили: 0.23%\n"
     ]
    }
   ],
   "source": [
    "# проверим сколько событий и пользователей мы потеряли, отбросив старые данные\n",
    "\n",
    "ab = data['event_name'].count()\n",
    "cd = new_data['event_name'].count()\n",
    "diff_1 = ab - cd\n",
    "print ('Количество потерянных событий:', diff_1)\n",
    "print ('Потери событий составили:', '{:.2%}'.format(diff_1/ab))\n",
    "\n",
    "ef = data['user_id'].nunique()\n",
    "gh = new_data['user_id'].nunique()\n",
    "diff_2 = ef - gh\n",
    "print ('Количество потерянных пользователей в логе после изменений:', diff_2)\n",
    "print ('Потери пользователей составили:', '{:.2%}'.format(diff_2/ef))\n"
   ]
  },
  {
   "cell_type": "code",
   "execution_count": 24,
   "metadata": {},
   "outputs": [
    {
     "data": {
      "text/html": [
       "<div>\n",
       "<style scoped>\n",
       "    .dataframe tbody tr th:only-of-type {\n",
       "        vertical-align: middle;\n",
       "    }\n",
       "\n",
       "    .dataframe tbody tr th {\n",
       "        vertical-align: top;\n",
       "    }\n",
       "\n",
       "    .dataframe thead th {\n",
       "        text-align: right;\n",
       "    }\n",
       "</style>\n",
       "<table border=\"1\" class=\"dataframe\">\n",
       "  <thead>\n",
       "    <tr style=\"text-align: right;\">\n",
       "      <th></th>\n",
       "      <th>group</th>\n",
       "      <th>user_id</th>\n",
       "    </tr>\n",
       "  </thead>\n",
       "  <tbody>\n",
       "    <tr>\n",
       "      <th>0</th>\n",
       "      <td>246</td>\n",
       "      <td>2484</td>\n",
       "    </tr>\n",
       "    <tr>\n",
       "      <th>1</th>\n",
       "      <td>247</td>\n",
       "      <td>2513</td>\n",
       "    </tr>\n",
       "    <tr>\n",
       "      <th>2</th>\n",
       "      <td>248</td>\n",
       "      <td>2537</td>\n",
       "    </tr>\n",
       "  </tbody>\n",
       "</table>\n",
       "</div>"
      ],
      "text/plain": [
       "   group  user_id\n",
       "0    246     2484\n",
       "1    247     2513\n",
       "2    248     2537"
      ]
     },
     "metadata": {},
     "output_type": "display_data"
    }
   ],
   "source": [
    "#Проверим, что у нас есть пользователи из всех трёх экспериментальных групп.\n",
    "\n",
    "new_table = new_data.groupby('group').agg({'user_id': 'nunique'}).reset_index()\n",
    "display (new_table)"
   ]
  },
  {
   "cell_type": "markdown",
   "metadata": {},
   "source": [
    "**Как видим, количество пользователей в группе \"246\" - 2484 пользователя, \"247\" - 2513 пользователей, \"248\" -  2537.**"
   ]
  },
  {
   "cell_type": "markdown",
   "metadata": {},
   "source": [
    "**Таким образом, мы проверили количество событий (243713) и уникальных пользователей в логе (7551), дополнительно проверили количество пользователей для каждого события. Проверили количество в среднем событий на пользователя: среднее значение 32 события, однако в данных могут быть выбросы, что влияет на корректность полученных значений. Следовательно, обратим внимание на медиану: указано 20 событий. Построили столбчатую диаграмму, которая отображает количество событий в зависимости от времени в разрезе групп. На основании полученного графика, пришли к выводу, что данных за июль очень мало, что в свою очередь может повлиять на результаты исследования в дальнейшем, поэтому удалили данные за этот период. Проверили период эксперимента после изменений: с 01 по 07 августа 2019 года. Кроме того, проверили сколько событий и пользователей мы потеряли, отбросив старые данные: 2826 событий и 17 пользователей. Также провели проверку на наличие пользователей во всех трёх экспериментальных группах : \"246\" - 2484 пользователя, \"247\" - 2513 пользователей, \"248\" -  2537. Дополнительно построили еще одну столбчатую диаграмму после изменений. Как видим, больше всего событий произошло 01, 02, 05, 06 августа 2019 года. Меньше всего событий было в последний день исследования - 07 августа 2019 г.** "
   ]
  },
  {
   "cell_type": "markdown",
   "metadata": {},
   "source": [
    "### Исследование воронки событий"
   ]
  },
  {
   "cell_type": "code",
   "execution_count": 25,
   "metadata": {},
   "outputs": [
    {
     "data": {
      "text/html": [
       "<div>\n",
       "<style scoped>\n",
       "    .dataframe tbody tr th:only-of-type {\n",
       "        vertical-align: middle;\n",
       "    }\n",
       "\n",
       "    .dataframe tbody tr th {\n",
       "        vertical-align: top;\n",
       "    }\n",
       "\n",
       "    .dataframe thead th {\n",
       "        text-align: right;\n",
       "    }\n",
       "</style>\n",
       "<table border=\"1\" class=\"dataframe\">\n",
       "  <thead>\n",
       "    <tr style=\"text-align: right;\">\n",
       "      <th></th>\n",
       "      <th>index</th>\n",
       "      <th>event_name</th>\n",
       "    </tr>\n",
       "  </thead>\n",
       "  <tbody>\n",
       "    <tr>\n",
       "      <th>0</th>\n",
       "      <td>MainScreenAppear</td>\n",
       "      <td>117328</td>\n",
       "    </tr>\n",
       "    <tr>\n",
       "      <th>1</th>\n",
       "      <td>OffersScreenAppear</td>\n",
       "      <td>46333</td>\n",
       "    </tr>\n",
       "    <tr>\n",
       "      <th>2</th>\n",
       "      <td>CartScreenAppear</td>\n",
       "      <td>42303</td>\n",
       "    </tr>\n",
       "    <tr>\n",
       "      <th>3</th>\n",
       "      <td>PaymentScreenSuccessful</td>\n",
       "      <td>33918</td>\n",
       "    </tr>\n",
       "    <tr>\n",
       "      <th>4</th>\n",
       "      <td>Tutorial</td>\n",
       "      <td>1005</td>\n",
       "    </tr>\n",
       "  </tbody>\n",
       "</table>\n",
       "</div>"
      ],
      "text/plain": [
       "                     index  event_name\n",
       "0         MainScreenAppear      117328\n",
       "1       OffersScreenAppear       46333\n",
       "2         CartScreenAppear       42303\n",
       "3  PaymentScreenSuccessful       33918\n",
       "4                 Tutorial        1005"
      ]
     },
     "execution_count": 25,
     "metadata": {},
     "output_type": "execute_result"
    }
   ],
   "source": [
    "#Посмотрим, какие события есть в логах, как часто они встречаются. Отсортируем события по частоте.\n",
    "\n",
    "new_data['event_name'].value_counts().reset_index().sort_values(by ='event_name', ascending=False)"
   ]
  },
  {
   "cell_type": "markdown",
   "metadata": {},
   "source": [
    "*Как видим, больше всего событий приходится на MainScreenAppear (появление главного экрана) - 117328 событий, меньше всего на Tutorial (руководство/инструкция) - 1005 событий. На OffersScreenAppear (появление предложение на экране) - 46333 события, CartScreenAppear (появление корзины на экране (скорей всего с товаром) - 42303 события, PaymentScreenSuccessful (платеж прошел успешно) - 33918 событий.*"
   ]
  },
  {
   "cell_type": "code",
   "execution_count": 26,
   "metadata": {},
   "outputs": [
    {
     "data": {
      "text/html": [
       "<div>\n",
       "<style scoped>\n",
       "    .dataframe tbody tr th:only-of-type {\n",
       "        vertical-align: middle;\n",
       "    }\n",
       "\n",
       "    .dataframe tbody tr th {\n",
       "        vertical-align: top;\n",
       "    }\n",
       "\n",
       "    .dataframe thead th {\n",
       "        text-align: right;\n",
       "    }\n",
       "</style>\n",
       "<table border=\"1\" class=\"dataframe\">\n",
       "  <thead>\n",
       "    <tr style=\"text-align: right;\">\n",
       "      <th></th>\n",
       "      <th>event_name</th>\n",
       "      <th>count_events</th>\n",
       "      <th>count_users</th>\n",
       "      <th>ratio_user</th>\n",
       "    </tr>\n",
       "  </thead>\n",
       "  <tbody>\n",
       "    <tr>\n",
       "      <th>0</th>\n",
       "      <td>MainScreenAppear</td>\n",
       "      <td>117328</td>\n",
       "      <td>7419</td>\n",
       "      <td>98.47%</td>\n",
       "    </tr>\n",
       "    <tr>\n",
       "      <th>1</th>\n",
       "      <td>OffersScreenAppear</td>\n",
       "      <td>46333</td>\n",
       "      <td>4593</td>\n",
       "      <td>60.96%</td>\n",
       "    </tr>\n",
       "    <tr>\n",
       "      <th>2</th>\n",
       "      <td>CartScreenAppear</td>\n",
       "      <td>42303</td>\n",
       "      <td>3734</td>\n",
       "      <td>49.56%</td>\n",
       "    </tr>\n",
       "    <tr>\n",
       "      <th>3</th>\n",
       "      <td>PaymentScreenSuccessful</td>\n",
       "      <td>33918</td>\n",
       "      <td>3539</td>\n",
       "      <td>46.97%</td>\n",
       "    </tr>\n",
       "    <tr>\n",
       "      <th>4</th>\n",
       "      <td>Tutorial</td>\n",
       "      <td>1005</td>\n",
       "      <td>840</td>\n",
       "      <td>11.15%</td>\n",
       "    </tr>\n",
       "  </tbody>\n",
       "</table>\n",
       "</div>"
      ],
      "text/plain": [
       "                event_name  count_events  count_users ratio_user\n",
       "0         MainScreenAppear        117328         7419     98.47%\n",
       "1       OffersScreenAppear         46333         4593     60.96%\n",
       "2         CartScreenAppear         42303         3734     49.56%\n",
       "3  PaymentScreenSuccessful         33918         3539     46.97%\n",
       "4                 Tutorial          1005          840     11.15%"
      ]
     },
     "metadata": {},
     "output_type": "display_data"
    }
   ],
   "source": [
    "#Посчитаем, сколько пользователей совершали каждое из этих событий. Отсортируем события по числу пользователей.  Также посчитаем долю пользователей, которые хоть раз совершали событие.\n",
    "\n",
    "count_user = new_data['user_id'].nunique()\n",
    "table_1 = new_data.groupby('event_name').agg({'event_name':'count', 'user_id':'nunique'}).sort_values(by='user_id', ascending=False)\n",
    "table_1.columns = ['count_events', 'count_users']\n",
    "table_1 = table_1.reset_index()\n",
    "table_1['ratio_user'] = (table_1['count_users'] / count_user).map('{:.2%}'.format)\n",
    "display(table_1)"
   ]
  },
  {
   "cell_type": "markdown",
   "metadata": {},
   "source": [
    "*Заметим, что на событие MainScreenAppear (появление главного экрана) приходится 98.47% пользователей из всех, что вполне объяснимо. На Tutorial (руководство/инструкция) приходится всего лишь 11.15%. Возможно это связано с легкостью в использовании приложения (следовательно, пользователи не переходят к руководству пользования, не пользуются инструкциями) либо техническими сбоями/багами при открытии инструкции/переходе к странице с руководством.*"
   ]
  },
  {
   "cell_type": "code",
   "execution_count": 27,
   "metadata": {},
   "outputs": [],
   "source": [
    "#Предположим, в каком порядке происходят события. Все ли они выстраиваются в последовательную цепочку  (их не нужно учитывать при расчёте воронки)."
   ]
  },
  {
   "cell_type": "markdown",
   "metadata": {},
   "source": [
    "Полагаем, что для большинства пользователей последовательность событий выглядит следующим образом:\n",
    "\n",
    "1. MainScreenAppear - главный экран.\n",
    "\n",
    "2. OffersScreenAppear - экран с предложениями (товарами).\n",
    "\n",
    "3. CartScreenAppear - экран с корзиной (товаров).\n",
    "\n",
    "4. PaymentScreenSuccessful - экран с подтверждением оплаты.\n",
    "\n",
    "Как уже отметили ранее, к шагу Tutorial прибегает сравнительно небольшой процент пользователей. Возможно это связано с легкостью в использовании приложения (следовательно, пользователи не переходят к руководству пользования, не пользуются инструкциями) либо техническими сбоями/багами при открытии инструкции/переходе к странице с руководством. Считаем вполне логичным убрать данный шаг из последовательности событий."
   ]
  },
  {
   "cell_type": "code",
   "execution_count": 27,
   "metadata": {},
   "outputs": [
    {
     "name": "stdout",
     "output_type": "stream",
     "text": [
      "Всего пользователей: 100 %\n",
      "Перешли к экрану с предложениями (товарами): 61.91%\n",
      "Перешли к корзине: 81.30%\n",
      "Оплатили товары (переход к экрану с подтверждением оплаты): 94.78%\n"
     ]
    }
   ],
   "source": [
    "#По воронке событий посчитаем, какая доля пользователей проходит на следующий шаг воронки (от числа пользователей на предыдущем). То есть для последовательности событий A → B → C посчитаем отношение числа пользователей с событием B к количеству пользователей с событием A, а также отношение числа пользователей с событием C к количеству пользователей с событием B.\n",
    "\n",
    "#строим сводную таблицу\n",
    "table_3 = new_data.pivot_table(\n",
    "    index='user_id', \n",
    "    columns='event_name', \n",
    "    values='date',\n",
    "    aggfunc='min')\n",
    "\n",
    "print('Всего пользователей: 100 %')\n",
    "print('Перешли к экрану с предложениями (товарами):', \n",
    "     '{:.2%}'.format(table_3['OffersScreenAppear'].count() / table_3['MainScreenAppear'].count()))\n",
    "print('Перешли к корзине:', \n",
    "      '{:.2%}'.format(table_3['CartScreenAppear'].count() / table_3['OffersScreenAppear'].count()))\n",
    "print('Оплатили товары (переход к экрану с подтверждением оплаты):',\n",
    "      '{:.2%}'.format(table_3['PaymentScreenSuccessful'].count() / table_3['CartScreenAppear'].count()))"
   ]
  },
  {
   "cell_type": "code",
   "execution_count": 29,
   "metadata": {},
   "outputs": [
    {
     "name": "stdout",
     "output_type": "stream",
     "text": [
      "Перешли к экрану с руководством: 11.32%\n"
     ]
    }
   ],
   "source": [
    "#дополнительно посмотрим сколько пользоватлей после главного экрана все-таки перешли к иснтрукции\n",
    "print('Перешли к экрану с руководством:', \n",
    "     '{:.2%}'.format(table_3['Tutorial'].count() / table_3['MainScreenAppear'].count()))"
   ]
  },
  {
   "cell_type": "markdown",
   "metadata": {},
   "source": [
    "*Таким образом, видим, что не все пользователи, заходящие в приложение доходят до последнего шага. Всего лишь 61.91% переходят к экрану с предложениями (товарами). Большая часть пользователей после просмотра товаром все-таки добавляет их в корзину и переходит к просмотру - 81.30%. Почти все пользователи после просмотра корзины переходят к оплате товаров - 94.78%.*"
   ]
  },
  {
   "cell_type": "code",
   "execution_count": 29,
   "metadata": {},
   "outputs": [
    {
     "data": {
      "text/html": [
       "<div>\n",
       "<style scoped>\n",
       "    .dataframe tbody tr th:only-of-type {\n",
       "        vertical-align: middle;\n",
       "    }\n",
       "\n",
       "    .dataframe tbody tr th {\n",
       "        vertical-align: top;\n",
       "    }\n",
       "\n",
       "    .dataframe thead th {\n",
       "        text-align: right;\n",
       "    }\n",
       "</style>\n",
       "<table border=\"1\" class=\"dataframe\">\n",
       "  <thead>\n",
       "    <tr style=\"text-align: right;\">\n",
       "      <th></th>\n",
       "      <th>event_name</th>\n",
       "      <th>user_id</th>\n",
       "    </tr>\n",
       "  </thead>\n",
       "  <tbody>\n",
       "    <tr>\n",
       "      <th>1</th>\n",
       "      <td>MainScreenAppear</td>\n",
       "      <td>7419</td>\n",
       "    </tr>\n",
       "    <tr>\n",
       "      <th>2</th>\n",
       "      <td>OffersScreenAppear</td>\n",
       "      <td>4593</td>\n",
       "    </tr>\n",
       "    <tr>\n",
       "      <th>0</th>\n",
       "      <td>CartScreenAppear</td>\n",
       "      <td>3734</td>\n",
       "    </tr>\n",
       "    <tr>\n",
       "      <th>3</th>\n",
       "      <td>PaymentScreenSuccessful</td>\n",
       "      <td>3539</td>\n",
       "    </tr>\n",
       "    <tr>\n",
       "      <th>4</th>\n",
       "      <td>Tutorial</td>\n",
       "      <td>840</td>\n",
       "    </tr>\n",
       "  </tbody>\n",
       "</table>\n",
       "</div>"
      ],
      "text/plain": [
       "                event_name  user_id\n",
       "1         MainScreenAppear     7419\n",
       "2       OffersScreenAppear     4593\n",
       "0         CartScreenAppear     3734\n",
       "3  PaymentScreenSuccessful     3539\n",
       "4                 Tutorial      840"
      ]
     },
     "metadata": {},
     "output_type": "display_data"
    },
    {
     "data": {
      "application/vnd.plotly.v1+json": {
       "config": {
        "plotlyServerURL": "https://plot.ly"
       },
       "data": [
        {
         "type": "funnel",
         "x": [
          7419,
          4593,
          3734,
          3539
         ],
         "y": [
          "MainScreenAppear",
          "OffersScreenAppear",
          "CartScreenAppear",
          "PaymentScreenSuccessful"
         ]
        }
       ],
       "layout": {
        "template": {
         "data": {
          "bar": [
           {
            "error_x": {
             "color": "#2a3f5f"
            },
            "error_y": {
             "color": "#2a3f5f"
            },
            "marker": {
             "line": {
              "color": "#E5ECF6",
              "width": 0.5
             },
             "pattern": {
              "fillmode": "overlay",
              "size": 10,
              "solidity": 0.2
             }
            },
            "type": "bar"
           }
          ],
          "barpolar": [
           {
            "marker": {
             "line": {
              "color": "#E5ECF6",
              "width": 0.5
             },
             "pattern": {
              "fillmode": "overlay",
              "size": 10,
              "solidity": 0.2
             }
            },
            "type": "barpolar"
           }
          ],
          "carpet": [
           {
            "aaxis": {
             "endlinecolor": "#2a3f5f",
             "gridcolor": "white",
             "linecolor": "white",
             "minorgridcolor": "white",
             "startlinecolor": "#2a3f5f"
            },
            "baxis": {
             "endlinecolor": "#2a3f5f",
             "gridcolor": "white",
             "linecolor": "white",
             "minorgridcolor": "white",
             "startlinecolor": "#2a3f5f"
            },
            "type": "carpet"
           }
          ],
          "choropleth": [
           {
            "colorbar": {
             "outlinewidth": 0,
             "ticks": ""
            },
            "type": "choropleth"
           }
          ],
          "contour": [
           {
            "colorbar": {
             "outlinewidth": 0,
             "ticks": ""
            },
            "colorscale": [
             [
              0,
              "#0d0887"
             ],
             [
              0.1111111111111111,
              "#46039f"
             ],
             [
              0.2222222222222222,
              "#7201a8"
             ],
             [
              0.3333333333333333,
              "#9c179e"
             ],
             [
              0.4444444444444444,
              "#bd3786"
             ],
             [
              0.5555555555555556,
              "#d8576b"
             ],
             [
              0.6666666666666666,
              "#ed7953"
             ],
             [
              0.7777777777777778,
              "#fb9f3a"
             ],
             [
              0.8888888888888888,
              "#fdca26"
             ],
             [
              1,
              "#f0f921"
             ]
            ],
            "type": "contour"
           }
          ],
          "contourcarpet": [
           {
            "colorbar": {
             "outlinewidth": 0,
             "ticks": ""
            },
            "type": "contourcarpet"
           }
          ],
          "heatmap": [
           {
            "colorbar": {
             "outlinewidth": 0,
             "ticks": ""
            },
            "colorscale": [
             [
              0,
              "#0d0887"
             ],
             [
              0.1111111111111111,
              "#46039f"
             ],
             [
              0.2222222222222222,
              "#7201a8"
             ],
             [
              0.3333333333333333,
              "#9c179e"
             ],
             [
              0.4444444444444444,
              "#bd3786"
             ],
             [
              0.5555555555555556,
              "#d8576b"
             ],
             [
              0.6666666666666666,
              "#ed7953"
             ],
             [
              0.7777777777777778,
              "#fb9f3a"
             ],
             [
              0.8888888888888888,
              "#fdca26"
             ],
             [
              1,
              "#f0f921"
             ]
            ],
            "type": "heatmap"
           }
          ],
          "heatmapgl": [
           {
            "colorbar": {
             "outlinewidth": 0,
             "ticks": ""
            },
            "colorscale": [
             [
              0,
              "#0d0887"
             ],
             [
              0.1111111111111111,
              "#46039f"
             ],
             [
              0.2222222222222222,
              "#7201a8"
             ],
             [
              0.3333333333333333,
              "#9c179e"
             ],
             [
              0.4444444444444444,
              "#bd3786"
             ],
             [
              0.5555555555555556,
              "#d8576b"
             ],
             [
              0.6666666666666666,
              "#ed7953"
             ],
             [
              0.7777777777777778,
              "#fb9f3a"
             ],
             [
              0.8888888888888888,
              "#fdca26"
             ],
             [
              1,
              "#f0f921"
             ]
            ],
            "type": "heatmapgl"
           }
          ],
          "histogram": [
           {
            "marker": {
             "pattern": {
              "fillmode": "overlay",
              "size": 10,
              "solidity": 0.2
             }
            },
            "type": "histogram"
           }
          ],
          "histogram2d": [
           {
            "colorbar": {
             "outlinewidth": 0,
             "ticks": ""
            },
            "colorscale": [
             [
              0,
              "#0d0887"
             ],
             [
              0.1111111111111111,
              "#46039f"
             ],
             [
              0.2222222222222222,
              "#7201a8"
             ],
             [
              0.3333333333333333,
              "#9c179e"
             ],
             [
              0.4444444444444444,
              "#bd3786"
             ],
             [
              0.5555555555555556,
              "#d8576b"
             ],
             [
              0.6666666666666666,
              "#ed7953"
             ],
             [
              0.7777777777777778,
              "#fb9f3a"
             ],
             [
              0.8888888888888888,
              "#fdca26"
             ],
             [
              1,
              "#f0f921"
             ]
            ],
            "type": "histogram2d"
           }
          ],
          "histogram2dcontour": [
           {
            "colorbar": {
             "outlinewidth": 0,
             "ticks": ""
            },
            "colorscale": [
             [
              0,
              "#0d0887"
             ],
             [
              0.1111111111111111,
              "#46039f"
             ],
             [
              0.2222222222222222,
              "#7201a8"
             ],
             [
              0.3333333333333333,
              "#9c179e"
             ],
             [
              0.4444444444444444,
              "#bd3786"
             ],
             [
              0.5555555555555556,
              "#d8576b"
             ],
             [
              0.6666666666666666,
              "#ed7953"
             ],
             [
              0.7777777777777778,
              "#fb9f3a"
             ],
             [
              0.8888888888888888,
              "#fdca26"
             ],
             [
              1,
              "#f0f921"
             ]
            ],
            "type": "histogram2dcontour"
           }
          ],
          "mesh3d": [
           {
            "colorbar": {
             "outlinewidth": 0,
             "ticks": ""
            },
            "type": "mesh3d"
           }
          ],
          "parcoords": [
           {
            "line": {
             "colorbar": {
              "outlinewidth": 0,
              "ticks": ""
             }
            },
            "type": "parcoords"
           }
          ],
          "pie": [
           {
            "automargin": true,
            "type": "pie"
           }
          ],
          "scatter": [
           {
            "marker": {
             "colorbar": {
              "outlinewidth": 0,
              "ticks": ""
             }
            },
            "type": "scatter"
           }
          ],
          "scatter3d": [
           {
            "line": {
             "colorbar": {
              "outlinewidth": 0,
              "ticks": ""
             }
            },
            "marker": {
             "colorbar": {
              "outlinewidth": 0,
              "ticks": ""
             }
            },
            "type": "scatter3d"
           }
          ],
          "scattercarpet": [
           {
            "marker": {
             "colorbar": {
              "outlinewidth": 0,
              "ticks": ""
             }
            },
            "type": "scattercarpet"
           }
          ],
          "scattergeo": [
           {
            "marker": {
             "colorbar": {
              "outlinewidth": 0,
              "ticks": ""
             }
            },
            "type": "scattergeo"
           }
          ],
          "scattergl": [
           {
            "marker": {
             "colorbar": {
              "outlinewidth": 0,
              "ticks": ""
             }
            },
            "type": "scattergl"
           }
          ],
          "scattermapbox": [
           {
            "marker": {
             "colorbar": {
              "outlinewidth": 0,
              "ticks": ""
             }
            },
            "type": "scattermapbox"
           }
          ],
          "scatterpolar": [
           {
            "marker": {
             "colorbar": {
              "outlinewidth": 0,
              "ticks": ""
             }
            },
            "type": "scatterpolar"
           }
          ],
          "scatterpolargl": [
           {
            "marker": {
             "colorbar": {
              "outlinewidth": 0,
              "ticks": ""
             }
            },
            "type": "scatterpolargl"
           }
          ],
          "scatterternary": [
           {
            "marker": {
             "colorbar": {
              "outlinewidth": 0,
              "ticks": ""
             }
            },
            "type": "scatterternary"
           }
          ],
          "surface": [
           {
            "colorbar": {
             "outlinewidth": 0,
             "ticks": ""
            },
            "colorscale": [
             [
              0,
              "#0d0887"
             ],
             [
              0.1111111111111111,
              "#46039f"
             ],
             [
              0.2222222222222222,
              "#7201a8"
             ],
             [
              0.3333333333333333,
              "#9c179e"
             ],
             [
              0.4444444444444444,
              "#bd3786"
             ],
             [
              0.5555555555555556,
              "#d8576b"
             ],
             [
              0.6666666666666666,
              "#ed7953"
             ],
             [
              0.7777777777777778,
              "#fb9f3a"
             ],
             [
              0.8888888888888888,
              "#fdca26"
             ],
             [
              1,
              "#f0f921"
             ]
            ],
            "type": "surface"
           }
          ],
          "table": [
           {
            "cells": {
             "fill": {
              "color": "#EBF0F8"
             },
             "line": {
              "color": "white"
             }
            },
            "header": {
             "fill": {
              "color": "#C8D4E3"
             },
             "line": {
              "color": "white"
             }
            },
            "type": "table"
           }
          ]
         },
         "layout": {
          "annotationdefaults": {
           "arrowcolor": "#2a3f5f",
           "arrowhead": 0,
           "arrowwidth": 1
          },
          "autotypenumbers": "strict",
          "coloraxis": {
           "colorbar": {
            "outlinewidth": 0,
            "ticks": ""
           }
          },
          "colorscale": {
           "diverging": [
            [
             0,
             "#8e0152"
            ],
            [
             0.1,
             "#c51b7d"
            ],
            [
             0.2,
             "#de77ae"
            ],
            [
             0.3,
             "#f1b6da"
            ],
            [
             0.4,
             "#fde0ef"
            ],
            [
             0.5,
             "#f7f7f7"
            ],
            [
             0.6,
             "#e6f5d0"
            ],
            [
             0.7,
             "#b8e186"
            ],
            [
             0.8,
             "#7fbc41"
            ],
            [
             0.9,
             "#4d9221"
            ],
            [
             1,
             "#276419"
            ]
           ],
           "sequential": [
            [
             0,
             "#0d0887"
            ],
            [
             0.1111111111111111,
             "#46039f"
            ],
            [
             0.2222222222222222,
             "#7201a8"
            ],
            [
             0.3333333333333333,
             "#9c179e"
            ],
            [
             0.4444444444444444,
             "#bd3786"
            ],
            [
             0.5555555555555556,
             "#d8576b"
            ],
            [
             0.6666666666666666,
             "#ed7953"
            ],
            [
             0.7777777777777778,
             "#fb9f3a"
            ],
            [
             0.8888888888888888,
             "#fdca26"
            ],
            [
             1,
             "#f0f921"
            ]
           ],
           "sequentialminus": [
            [
             0,
             "#0d0887"
            ],
            [
             0.1111111111111111,
             "#46039f"
            ],
            [
             0.2222222222222222,
             "#7201a8"
            ],
            [
             0.3333333333333333,
             "#9c179e"
            ],
            [
             0.4444444444444444,
             "#bd3786"
            ],
            [
             0.5555555555555556,
             "#d8576b"
            ],
            [
             0.6666666666666666,
             "#ed7953"
            ],
            [
             0.7777777777777778,
             "#fb9f3a"
            ],
            [
             0.8888888888888888,
             "#fdca26"
            ],
            [
             1,
             "#f0f921"
            ]
           ]
          },
          "colorway": [
           "#636efa",
           "#EF553B",
           "#00cc96",
           "#ab63fa",
           "#FFA15A",
           "#19d3f3",
           "#FF6692",
           "#B6E880",
           "#FF97FF",
           "#FECB52"
          ],
          "font": {
           "color": "#2a3f5f"
          },
          "geo": {
           "bgcolor": "white",
           "lakecolor": "white",
           "landcolor": "#E5ECF6",
           "showlakes": true,
           "showland": true,
           "subunitcolor": "white"
          },
          "hoverlabel": {
           "align": "left"
          },
          "hovermode": "closest",
          "mapbox": {
           "style": "light"
          },
          "paper_bgcolor": "white",
          "plot_bgcolor": "#E5ECF6",
          "polar": {
           "angularaxis": {
            "gridcolor": "white",
            "linecolor": "white",
            "ticks": ""
           },
           "bgcolor": "#E5ECF6",
           "radialaxis": {
            "gridcolor": "white",
            "linecolor": "white",
            "ticks": ""
           }
          },
          "scene": {
           "xaxis": {
            "backgroundcolor": "#E5ECF6",
            "gridcolor": "white",
            "gridwidth": 2,
            "linecolor": "white",
            "showbackground": true,
            "ticks": "",
            "zerolinecolor": "white"
           },
           "yaxis": {
            "backgroundcolor": "#E5ECF6",
            "gridcolor": "white",
            "gridwidth": 2,
            "linecolor": "white",
            "showbackground": true,
            "ticks": "",
            "zerolinecolor": "white"
           },
           "zaxis": {
            "backgroundcolor": "#E5ECF6",
            "gridcolor": "white",
            "gridwidth": 2,
            "linecolor": "white",
            "showbackground": true,
            "ticks": "",
            "zerolinecolor": "white"
           }
          },
          "shapedefaults": {
           "line": {
            "color": "#2a3f5f"
           }
          },
          "ternary": {
           "aaxis": {
            "gridcolor": "white",
            "linecolor": "white",
            "ticks": ""
           },
           "baxis": {
            "gridcolor": "white",
            "linecolor": "white",
            "ticks": ""
           },
           "bgcolor": "#E5ECF6",
           "caxis": {
            "gridcolor": "white",
            "linecolor": "white",
            "ticks": ""
           }
          },
          "title": {
           "x": 0.05
          },
          "xaxis": {
           "automargin": true,
           "gridcolor": "white",
           "linecolor": "white",
           "ticks": "",
           "title": {
            "standoff": 15
           },
           "zerolinecolor": "white",
           "zerolinewidth": 2
          },
          "yaxis": {
           "automargin": true,
           "gridcolor": "white",
           "linecolor": "white",
           "ticks": "",
           "title": {
            "standoff": 15
           },
           "zerolinecolor": "white",
           "zerolinewidth": 2
          }
         }
        },
        "title": {
         "text": "Диаграмма воронки пользователей для каждого события",
         "x": 0.5
        }
       }
      },
      "text/html": [
       "<div>                            <div id=\"8af20b0d-9cd9-4e6e-9295-0548c9f544ad\" class=\"plotly-graph-div\" style=\"height:525px; width:100%;\"></div>            <script type=\"text/javascript\">                require([\"plotly\"], function(Plotly) {                    window.PLOTLYENV=window.PLOTLYENV || {};                                    if (document.getElementById(\"8af20b0d-9cd9-4e6e-9295-0548c9f544ad\")) {                    Plotly.newPlot(                        \"8af20b0d-9cd9-4e6e-9295-0548c9f544ad\",                        [{\"x\":[7419,4593,3734,3539],\"y\":[\"MainScreenAppear\",\"OffersScreenAppear\",\"CartScreenAppear\",\"PaymentScreenSuccessful\"],\"type\":\"funnel\"}],                        {\"template\":{\"data\":{\"bar\":[{\"error_x\":{\"color\":\"#2a3f5f\"},\"error_y\":{\"color\":\"#2a3f5f\"},\"marker\":{\"line\":{\"color\":\"#E5ECF6\",\"width\":0.5},\"pattern\":{\"fillmode\":\"overlay\",\"size\":10,\"solidity\":0.2}},\"type\":\"bar\"}],\"barpolar\":[{\"marker\":{\"line\":{\"color\":\"#E5ECF6\",\"width\":0.5},\"pattern\":{\"fillmode\":\"overlay\",\"size\":10,\"solidity\":0.2}},\"type\":\"barpolar\"}],\"carpet\":[{\"aaxis\":{\"endlinecolor\":\"#2a3f5f\",\"gridcolor\":\"white\",\"linecolor\":\"white\",\"minorgridcolor\":\"white\",\"startlinecolor\":\"#2a3f5f\"},\"baxis\":{\"endlinecolor\":\"#2a3f5f\",\"gridcolor\":\"white\",\"linecolor\":\"white\",\"minorgridcolor\":\"white\",\"startlinecolor\":\"#2a3f5f\"},\"type\":\"carpet\"}],\"choropleth\":[{\"colorbar\":{\"outlinewidth\":0,\"ticks\":\"\"},\"type\":\"choropleth\"}],\"contour\":[{\"colorbar\":{\"outlinewidth\":0,\"ticks\":\"\"},\"colorscale\":[[0.0,\"#0d0887\"],[0.1111111111111111,\"#46039f\"],[0.2222222222222222,\"#7201a8\"],[0.3333333333333333,\"#9c179e\"],[0.4444444444444444,\"#bd3786\"],[0.5555555555555556,\"#d8576b\"],[0.6666666666666666,\"#ed7953\"],[0.7777777777777778,\"#fb9f3a\"],[0.8888888888888888,\"#fdca26\"],[1.0,\"#f0f921\"]],\"type\":\"contour\"}],\"contourcarpet\":[{\"colorbar\":{\"outlinewidth\":0,\"ticks\":\"\"},\"type\":\"contourcarpet\"}],\"heatmap\":[{\"colorbar\":{\"outlinewidth\":0,\"ticks\":\"\"},\"colorscale\":[[0.0,\"#0d0887\"],[0.1111111111111111,\"#46039f\"],[0.2222222222222222,\"#7201a8\"],[0.3333333333333333,\"#9c179e\"],[0.4444444444444444,\"#bd3786\"],[0.5555555555555556,\"#d8576b\"],[0.6666666666666666,\"#ed7953\"],[0.7777777777777778,\"#fb9f3a\"],[0.8888888888888888,\"#fdca26\"],[1.0,\"#f0f921\"]],\"type\":\"heatmap\"}],\"heatmapgl\":[{\"colorbar\":{\"outlinewidth\":0,\"ticks\":\"\"},\"colorscale\":[[0.0,\"#0d0887\"],[0.1111111111111111,\"#46039f\"],[0.2222222222222222,\"#7201a8\"],[0.3333333333333333,\"#9c179e\"],[0.4444444444444444,\"#bd3786\"],[0.5555555555555556,\"#d8576b\"],[0.6666666666666666,\"#ed7953\"],[0.7777777777777778,\"#fb9f3a\"],[0.8888888888888888,\"#fdca26\"],[1.0,\"#f0f921\"]],\"type\":\"heatmapgl\"}],\"histogram\":[{\"marker\":{\"pattern\":{\"fillmode\":\"overlay\",\"size\":10,\"solidity\":0.2}},\"type\":\"histogram\"}],\"histogram2d\":[{\"colorbar\":{\"outlinewidth\":0,\"ticks\":\"\"},\"colorscale\":[[0.0,\"#0d0887\"],[0.1111111111111111,\"#46039f\"],[0.2222222222222222,\"#7201a8\"],[0.3333333333333333,\"#9c179e\"],[0.4444444444444444,\"#bd3786\"],[0.5555555555555556,\"#d8576b\"],[0.6666666666666666,\"#ed7953\"],[0.7777777777777778,\"#fb9f3a\"],[0.8888888888888888,\"#fdca26\"],[1.0,\"#f0f921\"]],\"type\":\"histogram2d\"}],\"histogram2dcontour\":[{\"colorbar\":{\"outlinewidth\":0,\"ticks\":\"\"},\"colorscale\":[[0.0,\"#0d0887\"],[0.1111111111111111,\"#46039f\"],[0.2222222222222222,\"#7201a8\"],[0.3333333333333333,\"#9c179e\"],[0.4444444444444444,\"#bd3786\"],[0.5555555555555556,\"#d8576b\"],[0.6666666666666666,\"#ed7953\"],[0.7777777777777778,\"#fb9f3a\"],[0.8888888888888888,\"#fdca26\"],[1.0,\"#f0f921\"]],\"type\":\"histogram2dcontour\"}],\"mesh3d\":[{\"colorbar\":{\"outlinewidth\":0,\"ticks\":\"\"},\"type\":\"mesh3d\"}],\"parcoords\":[{\"line\":{\"colorbar\":{\"outlinewidth\":0,\"ticks\":\"\"}},\"type\":\"parcoords\"}],\"pie\":[{\"automargin\":true,\"type\":\"pie\"}],\"scatter\":[{\"marker\":{\"colorbar\":{\"outlinewidth\":0,\"ticks\":\"\"}},\"type\":\"scatter\"}],\"scatter3d\":[{\"line\":{\"colorbar\":{\"outlinewidth\":0,\"ticks\":\"\"}},\"marker\":{\"colorbar\":{\"outlinewidth\":0,\"ticks\":\"\"}},\"type\":\"scatter3d\"}],\"scattercarpet\":[{\"marker\":{\"colorbar\":{\"outlinewidth\":0,\"ticks\":\"\"}},\"type\":\"scattercarpet\"}],\"scattergeo\":[{\"marker\":{\"colorbar\":{\"outlinewidth\":0,\"ticks\":\"\"}},\"type\":\"scattergeo\"}],\"scattergl\":[{\"marker\":{\"colorbar\":{\"outlinewidth\":0,\"ticks\":\"\"}},\"type\":\"scattergl\"}],\"scattermapbox\":[{\"marker\":{\"colorbar\":{\"outlinewidth\":0,\"ticks\":\"\"}},\"type\":\"scattermapbox\"}],\"scatterpolar\":[{\"marker\":{\"colorbar\":{\"outlinewidth\":0,\"ticks\":\"\"}},\"type\":\"scatterpolar\"}],\"scatterpolargl\":[{\"marker\":{\"colorbar\":{\"outlinewidth\":0,\"ticks\":\"\"}},\"type\":\"scatterpolargl\"}],\"scatterternary\":[{\"marker\":{\"colorbar\":{\"outlinewidth\":0,\"ticks\":\"\"}},\"type\":\"scatterternary\"}],\"surface\":[{\"colorbar\":{\"outlinewidth\":0,\"ticks\":\"\"},\"colorscale\":[[0.0,\"#0d0887\"],[0.1111111111111111,\"#46039f\"],[0.2222222222222222,\"#7201a8\"],[0.3333333333333333,\"#9c179e\"],[0.4444444444444444,\"#bd3786\"],[0.5555555555555556,\"#d8576b\"],[0.6666666666666666,\"#ed7953\"],[0.7777777777777778,\"#fb9f3a\"],[0.8888888888888888,\"#fdca26\"],[1.0,\"#f0f921\"]],\"type\":\"surface\"}],\"table\":[{\"cells\":{\"fill\":{\"color\":\"#EBF0F8\"},\"line\":{\"color\":\"white\"}},\"header\":{\"fill\":{\"color\":\"#C8D4E3\"},\"line\":{\"color\":\"white\"}},\"type\":\"table\"}]},\"layout\":{\"annotationdefaults\":{\"arrowcolor\":\"#2a3f5f\",\"arrowhead\":0,\"arrowwidth\":1},\"autotypenumbers\":\"strict\",\"coloraxis\":{\"colorbar\":{\"outlinewidth\":0,\"ticks\":\"\"}},\"colorscale\":{\"diverging\":[[0,\"#8e0152\"],[0.1,\"#c51b7d\"],[0.2,\"#de77ae\"],[0.3,\"#f1b6da\"],[0.4,\"#fde0ef\"],[0.5,\"#f7f7f7\"],[0.6,\"#e6f5d0\"],[0.7,\"#b8e186\"],[0.8,\"#7fbc41\"],[0.9,\"#4d9221\"],[1,\"#276419\"]],\"sequential\":[[0.0,\"#0d0887\"],[0.1111111111111111,\"#46039f\"],[0.2222222222222222,\"#7201a8\"],[0.3333333333333333,\"#9c179e\"],[0.4444444444444444,\"#bd3786\"],[0.5555555555555556,\"#d8576b\"],[0.6666666666666666,\"#ed7953\"],[0.7777777777777778,\"#fb9f3a\"],[0.8888888888888888,\"#fdca26\"],[1.0,\"#f0f921\"]],\"sequentialminus\":[[0.0,\"#0d0887\"],[0.1111111111111111,\"#46039f\"],[0.2222222222222222,\"#7201a8\"],[0.3333333333333333,\"#9c179e\"],[0.4444444444444444,\"#bd3786\"],[0.5555555555555556,\"#d8576b\"],[0.6666666666666666,\"#ed7953\"],[0.7777777777777778,\"#fb9f3a\"],[0.8888888888888888,\"#fdca26\"],[1.0,\"#f0f921\"]]},\"colorway\":[\"#636efa\",\"#EF553B\",\"#00cc96\",\"#ab63fa\",\"#FFA15A\",\"#19d3f3\",\"#FF6692\",\"#B6E880\",\"#FF97FF\",\"#FECB52\"],\"font\":{\"color\":\"#2a3f5f\"},\"geo\":{\"bgcolor\":\"white\",\"lakecolor\":\"white\",\"landcolor\":\"#E5ECF6\",\"showlakes\":true,\"showland\":true,\"subunitcolor\":\"white\"},\"hoverlabel\":{\"align\":\"left\"},\"hovermode\":\"closest\",\"mapbox\":{\"style\":\"light\"},\"paper_bgcolor\":\"white\",\"plot_bgcolor\":\"#E5ECF6\",\"polar\":{\"angularaxis\":{\"gridcolor\":\"white\",\"linecolor\":\"white\",\"ticks\":\"\"},\"bgcolor\":\"#E5ECF6\",\"radialaxis\":{\"gridcolor\":\"white\",\"linecolor\":\"white\",\"ticks\":\"\"}},\"scene\":{\"xaxis\":{\"backgroundcolor\":\"#E5ECF6\",\"gridcolor\":\"white\",\"gridwidth\":2,\"linecolor\":\"white\",\"showbackground\":true,\"ticks\":\"\",\"zerolinecolor\":\"white\"},\"yaxis\":{\"backgroundcolor\":\"#E5ECF6\",\"gridcolor\":\"white\",\"gridwidth\":2,\"linecolor\":\"white\",\"showbackground\":true,\"ticks\":\"\",\"zerolinecolor\":\"white\"},\"zaxis\":{\"backgroundcolor\":\"#E5ECF6\",\"gridcolor\":\"white\",\"gridwidth\":2,\"linecolor\":\"white\",\"showbackground\":true,\"ticks\":\"\",\"zerolinecolor\":\"white\"}},\"shapedefaults\":{\"line\":{\"color\":\"#2a3f5f\"}},\"ternary\":{\"aaxis\":{\"gridcolor\":\"white\",\"linecolor\":\"white\",\"ticks\":\"\"},\"baxis\":{\"gridcolor\":\"white\",\"linecolor\":\"white\",\"ticks\":\"\"},\"bgcolor\":\"#E5ECF6\",\"caxis\":{\"gridcolor\":\"white\",\"linecolor\":\"white\",\"ticks\":\"\"}},\"title\":{\"x\":0.05},\"xaxis\":{\"automargin\":true,\"gridcolor\":\"white\",\"linecolor\":\"white\",\"ticks\":\"\",\"title\":{\"standoff\":15},\"zerolinecolor\":\"white\",\"zerolinewidth\":2},\"yaxis\":{\"automargin\":true,\"gridcolor\":\"white\",\"linecolor\":\"white\",\"ticks\":\"\",\"title\":{\"standoff\":15},\"zerolinecolor\":\"white\",\"zerolinewidth\":2}}},\"title\":{\"text\":\"\\u0414\\u0438\\u0430\\u0433\\u0440\\u0430\\u043c\\u043c\\u0430 \\u0432\\u043e\\u0440\\u043e\\u043d\\u043a\\u0438 \\u043f\\u043e\\u043b\\u044c\\u0437\\u043e\\u0432\\u0430\\u0442\\u0435\\u043b\\u0435\\u0439 \\u0434\\u043b\\u044f \\u043a\\u0430\\u0436\\u0434\\u043e\\u0433\\u043e \\u0441\\u043e\\u0431\\u044b\\u0442\\u0438\\u044f\",\"x\":0.5}},                        {\"responsive\": true}                    ).then(function(){\n",
       "                            \n",
       "var gd = document.getElementById('8af20b0d-9cd9-4e6e-9295-0548c9f544ad');\n",
       "var x = new MutationObserver(function (mutations, observer) {{\n",
       "        var display = window.getComputedStyle(gd).display;\n",
       "        if (!display || display === 'none') {{\n",
       "            console.log([gd, 'removed!']);\n",
       "            Plotly.purge(gd);\n",
       "            observer.disconnect();\n",
       "        }}\n",
       "}});\n",
       "\n",
       "// Listen for the removal of the full notebook cells\n",
       "var notebookContainer = gd.closest('#notebook-container');\n",
       "if (notebookContainer) {{\n",
       "    x.observe(notebookContainer, {childList: true});\n",
       "}}\n",
       "\n",
       "// Listen for the clearing of the current output cell\n",
       "var outputEl = gd.closest('.output');\n",
       "if (outputEl) {{\n",
       "    x.observe(outputEl, {childList: true});\n",
       "}}\n",
       "\n",
       "                        })                };                });            </script>        </div>"
      ]
     },
     "metadata": {},
     "output_type": "display_data"
    }
   ],
   "source": [
    "# Выясним на каком шаге теряем больше всего пользователей\n",
    "\n",
    "# Посчитаем количество уникальных пользователей для каждого события\n",
    "table_new = new_data.groupby('event_name')['user_id'].nunique().reset_index().sort_values(by='user_id', ascending=False)\n",
    "display (table_new)\n",
    "\n",
    "# построим диаграмму воронки\n",
    "table_new = table_new[table_new['event_name'] != 'Tutorial']\n",
    "fig = go.Figure(go.Funnel(\n",
    "     y = table_new ['event_name'],\n",
    "     x = table_new ['user_id']))\n",
    "fig.update_layout(title_text='Диаграмма воронки пользователей для каждого события', title_x=0.5)\n",
    "fig.show()"
   ]
  },
  {
   "cell_type": "markdown",
   "metadata": {},
   "source": [
    "*Как видим, больше всего пользователей теряется при переходе к OffersScreenAppear (экрану с предложениями (товарами) от MainScreenAppear (главного экрана).*"
   ]
  },
  {
   "cell_type": "code",
   "execution_count": 30,
   "metadata": {},
   "outputs": [
    {
     "data": {
      "text/plain": [
       "1         NaN\n",
       "2   -0.380914\n",
       "0   -0.187024\n",
       "3   -0.052223\n",
       "Name: user_id, dtype: float64"
      ]
     },
     "metadata": {},
     "output_type": "display_data"
    }
   ],
   "source": [
    "# Выясним какая доля пользователей доходит от первого события до оплаты\n",
    "\n",
    "#рассчитаем процентное изменение на каждом этапе\n",
    "new_type = table_new.sort_values('user_id', ascending=False)['user_id'].pct_change()\n",
    "display (new_type)"
   ]
  },
  {
   "cell_type": "markdown",
   "metadata": {},
   "source": [
    "Получаем:\n",
    "    \n",
    "    -OffersScreenAppear - 38% ;\n",
    "    \n",
    "    -CartScreenAppear  - 19% ;\n",
    "    \n",
    "    -PaymentScreenSuccessful - 5%.\n",
    "Следовательно, теряется 62% пользователей. Таким образом, от первого события до оплаты доходит 38%."
   ]
  },
  {
   "cell_type": "markdown",
   "metadata": {},
   "source": [
    "**Таким образом, получаем 5 видов событий. Как видим, больше всего событий приходится на MainScreenAppear (появление главного экрана) - 117328 событий, меньше всего на Tutorial (руководство/инструкция) - 1005 событий. На OffersScreenAppear (появление предложение на экране) - 46333 события, CartScreenAppear (появление корзины на экране (скорей всего с товаром) - 42303 события, PaymentScreenSuccessful (платеж прошел успешно) - 33918 событий.**\n",
    "\n",
    "**Отметим, что на событие MainScreenAppear (появление главного экрана) приходится 98.47% пользователей из всех, что вполне объяснимо. На Tutorial (руководство/инструкция) приходится всего лишь 11.15%. Возможно это связано с легкостью в использовании приложения (следовательно, пользователи не переходят к руководству пользования, не пользуются инструкциями) либо техническими сбоями/багами при открытии инструкции/переходе к странице с руководством.**\n",
    "\n",
    "**Полагаем, что для большинства пользователей последовательность событий выглядит следующим образом:**\n",
    "\n",
    "1. MainScreenAppear - главный экран.\n",
    "\n",
    "2. OffersScreenAppear - экран с предложениями (товарами).\n",
    "\n",
    "3. CartScreenAppear - экран с корзиной (товаров).\n",
    "\n",
    "4. PaymentScreenSuccessful - экран с подтверждением оплаты.\n",
    "\n",
    "**Как уже отметили ранее, к шагу Tutorial прибегает сравнительно небольшой процент пользователей. Возможно это связано с легкостью в использовании приложения (следовательно, пользователи не переходят к руководству пользования, не пользуются инструкциями) либо техническими сбоями/багами при открытии инструкции/переходе к странице с руководством. Считаем вполне логичным убрать данный шаг из последовательности событий.**\n",
    "\n",
    "**Кроме того, видим, что не все пользователи, заходящие в приложение доходят до последнего шага. Всего лишь 61.91% переходят к экрану с предложениями (товарами). Большая часть пользователей после просмотра товаром все-таки добавляет их в корзину и переходит к просмотру - 81.30%. Почти все пользователи после просмотра корзины переходят к оплате товаров - 94.78%.**\n",
    "\n",
    "**Отметим, больше всего пользователей теряется при переходе к OffersScreenAppear (экрану с предложениями (товарами) от MainScreenAppear (главного экрана).**\n",
    "\n",
    "**Выяснисли, что теряется 62% пользователей. Таким образом, от первого события до оплаты доходит 38%.**"
   ]
  },
  {
   "cell_type": "markdown",
   "metadata": {},
   "source": [
    "### Изучение результатов эксперимента"
   ]
  },
  {
   "cell_type": "code",
   "execution_count": 31,
   "metadata": {},
   "outputs": [
    {
     "data": {
      "text/html": [
       "<div>\n",
       "<style scoped>\n",
       "    .dataframe tbody tr th:only-of-type {\n",
       "        vertical-align: middle;\n",
       "    }\n",
       "\n",
       "    .dataframe tbody tr th {\n",
       "        vertical-align: top;\n",
       "    }\n",
       "\n",
       "    .dataframe thead th {\n",
       "        text-align: right;\n",
       "    }\n",
       "</style>\n",
       "<table border=\"1\" class=\"dataframe\">\n",
       "  <thead>\n",
       "    <tr style=\"text-align: right;\">\n",
       "      <th></th>\n",
       "      <th>group</th>\n",
       "      <th>user_id</th>\n",
       "    </tr>\n",
       "  </thead>\n",
       "  <tbody>\n",
       "    <tr>\n",
       "      <th>0</th>\n",
       "      <td>246</td>\n",
       "      <td>2484</td>\n",
       "    </tr>\n",
       "    <tr>\n",
       "      <th>1</th>\n",
       "      <td>247</td>\n",
       "      <td>2513</td>\n",
       "    </tr>\n",
       "    <tr>\n",
       "      <th>2</th>\n",
       "      <td>248</td>\n",
       "      <td>2537</td>\n",
       "    </tr>\n",
       "  </tbody>\n",
       "</table>\n",
       "</div>"
      ],
      "text/plain": [
       "   group  user_id\n",
       "0    246     2484\n",
       "1    247     2513\n",
       "2    248     2537"
      ]
     },
     "metadata": {},
     "output_type": "display_data"
    }
   ],
   "source": [
    "# Рассчитаем пользователей в каждой экспериментальной группе \n",
    "\n",
    "#продублируем ранее проведенный расчет\n",
    "new_table = new_data.groupby('group').agg({'user_id': 'nunique'}).reset_index()\n",
    "display (new_table)"
   ]
  },
  {
   "cell_type": "markdown",
   "metadata": {},
   "source": [
    "**Таким образом, на группу \"246\" приходится 2484 пользователя, \"247\" - 2513 пользователей, \"248\" - 2537 пользователей.**\n"
   ]
  },
  {
   "cell_type": "markdown",
   "metadata": {},
   "source": [
    "*Есть 2 контрольные группы для А/А-эксперимента, чтобы проверить корректность всех механизмов и расчётов. Проверьте, находят ли статистические критерии разницу между выборками 246 и 247.*"
   ]
  },
  {
   "cell_type": "code",
   "execution_count": 32,
   "metadata": {},
   "outputs": [
    {
     "name": "stdout",
     "output_type": "stream",
     "text": [
      "Разница между  группам 246 и 247: 1.2%\n"
     ]
    }
   ],
   "source": [
    "# Рассчитаем разницу между 246 и 247 группам\n",
    "group_246 = new_data.query('group == 246').groupby('group')['user_id'].nunique().reset_index()\n",
    "group_247 = new_data.query('group == 247').groupby('group')['user_id'].nunique().reset_index()\n",
    "difference = 1 - group_246.iloc[0]['user_id'] / group_247.iloc[0]['user_id']\n",
    "print('Разница между  группам 246 и 247: {:.1%}'.format(difference))"
   ]
  },
  {
   "cell_type": "markdown",
   "metadata": {},
   "source": [
    "**Разница между выборками 246 и 247 составляет 1.2%. Это довольно незначительный коэффициент.**"
   ]
  },
  {
   "cell_type": "code",
   "execution_count": 33,
   "metadata": {},
   "outputs": [
    {
     "name": "stdout",
     "output_type": "stream",
     "text": [
      "Количество пользователей, попавших в обе группы (246 и 247): 0\n",
      "Количество пользователей, попавших в обе группы (246 и 248): 0\n",
      "Количество пользователей, попавших в обе группы (247 и 248): 0\n"
     ]
    }
   ],
   "source": [
    "# отбираем группы  \n",
    "group_a = new_data.query('group == \"246\"') \n",
    "group_b = new_data.query('group == \"247\"') \n",
    "group_c = new_data.query('group == \"248\"') \n",
    "  \n",
    "# получаем id пользователей, попавших в обе группы \n",
    "group_double=list(np.intersect1d(group_a['user_id'], group_b['user_id']))\n",
    "print ('Количество пользователей, попавших в обе группы (246 и 247):', len(group_double))\n",
    "group_double_2=list(np.intersect1d(group_a['user_id'], group_c['user_id']))\n",
    "print ('Количество пользователей, попавших в обе группы (246 и 248):', len(group_double_2))\n",
    "\n",
    "group_double_3=list(np.intersect1d(group_b['user_id'], group_c['user_id']))\n",
    "print ('Количество пользователей, попавших в обе группы (247 и 248):', len(group_double_3))"
   ]
  },
  {
   "cell_type": "markdown",
   "metadata": {},
   "source": [
    "*Как видим, пользователей одновременно попавших в 2 группы нет.*"
   ]
  },
  {
   "cell_type": "code",
   "execution_count": 34,
   "metadata": {},
   "outputs": [
    {
     "data": {
      "text/html": [
       "<div>\n",
       "<style scoped>\n",
       "    .dataframe tbody tr th:only-of-type {\n",
       "        vertical-align: middle;\n",
       "    }\n",
       "\n",
       "    .dataframe tbody tr th {\n",
       "        vertical-align: top;\n",
       "    }\n",
       "\n",
       "    .dataframe thead th {\n",
       "        text-align: right;\n",
       "    }\n",
       "</style>\n",
       "<table border=\"1\" class=\"dataframe\">\n",
       "  <thead>\n",
       "    <tr style=\"text-align: right;\">\n",
       "      <th></th>\n",
       "      <th>group</th>\n",
       "    </tr>\n",
       "    <tr>\n",
       "      <th>user_id</th>\n",
       "      <th></th>\n",
       "    </tr>\n",
       "  </thead>\n",
       "  <tbody>\n",
       "  </tbody>\n",
       "</table>\n",
       "</div>"
      ],
      "text/plain": [
       "Empty DataFrame\n",
       "Columns: [group]\n",
       "Index: []"
      ]
     },
     "execution_count": 34,
     "metadata": {},
     "output_type": "execute_result"
    }
   ],
   "source": [
    "# Проверим пользователей, которые могли участвовать в двух или нескольких группах одновременно:\n",
    "new_data.groupby('user_id').agg({'group':'nunique'}).query('group > 1') "
   ]
  },
  {
   "cell_type": "markdown",
   "metadata": {},
   "source": [
    "*Выберем самое популярное событие. Посчитаем число пользователей, совершивших это событие в каждой из контрольных групп. Посчитаем долю пользователей, совершивших это событие. Проверим, будет ли отличие между группами статистически достоверным. Проделаем то же самое для всех других событий (удобно обернуть проверку в отдельную функцию). Можно ли сказать, что разбиение на группы работает корректно?*"
   ]
  },
  {
   "cell_type": "markdown",
   "metadata": {},
   "source": [
    "*Сформулируем гипотезы:*\n",
    "\n",
    "H0: нет оснований считать доли разными\n",
    "\n",
    "H1: между долями есть значимая разница"
   ]
  },
  {
   "cell_type": "code",
   "execution_count": 35,
   "metadata": {},
   "outputs": [],
   "source": [
    "# Создадим функцию, считающую статистическую значимость между группами. Датафрейм будем обрабатывать внутри функции, группы будем передавать в виде списка\n",
    "def abcd (new_data, group_new, alpha):\n",
    "    #найдем уникальных пользователей в каждой группе\n",
    "    users = [new_data.query('group == @group_id')['user_id'].nunique() for group_id in group_new]\n",
    "    #перебираем все экспериментальные группы для каждого события, считаем количество пользователей и долю\n",
    "    for event in new_data.event_name.unique():\n",
    "        events = [new_data.query('group == %d and event_name == \"%s\"' % (group_id, event))['user_id'].nunique() for group_id in group_new]\n",
    "        # сравниваем кол-во уникальных юзеров на каждом шаге группы к кол-ву уникальных юзеров в этой группе всего\n",
    "        p1 = events[0] / users[0] #считаем долю для 1 группы\n",
    "        p2 = events[1] / users[1] #считаем долю для 2 группы\n",
    "        \n",
    "        p_combined = sum(events) / sum(users) \n",
    "        \n",
    "        difference = p1 - p2 # разница в датасетах\n",
    "        \n",
    "        z_value = difference / mth.sqrt(\n",
    "            p_combined * (1 - p_combined) * (1 / users[0] + 1 / users[1]) #считаем z-value, которая покажет, насколько она далека от среднего значения точки данных\n",
    "        )\n",
    "        \n",
    "        distr = st.norm(0, 1) #распределение\n",
    "        p_value = (1 - distr.cdf(abs(z_value))) * 2 #считаем p-value\n",
    "        \n",
    "        print(event)\n",
    "        print(p1, p2)\n",
    "        print('p-значение: ', p_value)\n",
    "        #сравниваем p-value и alpha\n",
    "        if p_value < alpha:\n",
    "            print('Отвергаем нулевую гипотезу по событию %s: между долями есть значимая разница' % (event))\n",
    "        else:\n",
    "            print('Не получилось отвергнуть нулевую гипотезу по событию %s: нет оснований считать доли разными' % (event))\n",
    "            \n",
    "        print('_____________________________________________')\n",
    "        print(' ')"
   ]
  },
  {
   "cell_type": "code",
   "execution_count": 36,
   "metadata": {},
   "outputs": [
    {
     "name": "stdout",
     "output_type": "stream",
     "text": [
      "Tutorial\n",
      "0.11191626409017713 0.11261440509351373\n",
      "p-значение:  0.9376996189257114\n",
      "Не получилось отвергнуть нулевую гипотезу по событию Tutorial: нет оснований считать доли разными\n",
      "_____________________________________________\n",
      " \n",
      "MainScreenAppear\n",
      "0.9863123993558777 0.9852765618782332\n",
      "p-значение:  0.7570597232046099\n",
      "Не получилось отвергнуть нулевую гипотезу по событию MainScreenAppear: нет оснований считать доли разными\n",
      "_____________________________________________\n",
      " \n",
      "OffersScreenAppear\n",
      "0.6207729468599034 0.6048547552725826\n",
      "p-значение:  0.2480954578522181\n",
      "Не получилось отвергнуть нулевую гипотезу по событию OffersScreenAppear: нет оснований считать доли разными\n",
      "_____________________________________________\n",
      " \n",
      "CartScreenAppear\n",
      "0.5096618357487923 0.4926382809391166\n",
      "p-значение:  0.22883372237997213\n",
      "Не получилось отвергнуть нулевую гипотезу по событию CartScreenAppear: нет оснований считать доли разными\n",
      "_____________________________________________\n",
      " \n",
      "PaymentScreenSuccessful\n",
      "0.4830917874396135 0.46080382013529647\n",
      "p-значение:  0.11456679313141849\n",
      "Не получилось отвергнуть нулевую гипотезу по событию PaymentScreenSuccessful: нет оснований считать доли разными\n",
      "_____________________________________________\n",
      " \n"
     ]
    }
   ],
   "source": [
    "#посмотрим на события в 246 и 247 группах\n",
    "abcd(new_data, [246, 247], 0.05)"
   ]
  },
  {
   "cell_type": "code",
   "execution_count": 37,
   "metadata": {},
   "outputs": [
    {
     "name": "stdout",
     "output_type": "stream",
     "text": [
      "Tutorial\n",
      "0.11191626409017713 0.11261440509351373\n",
      "p-значение:  0.9376996189257114\n",
      "Не получилось отвергнуть нулевую гипотезу по событию Tutorial: нет оснований считать доли разными\n",
      "_____________________________________________\n",
      " \n",
      "MainScreenAppear\n",
      "0.9863123993558777 0.9852765618782332\n",
      "p-значение:  0.7570597232046099\n",
      "Не получилось отвергнуть нулевую гипотезу по событию MainScreenAppear: нет оснований считать доли разными\n",
      "_____________________________________________\n",
      " \n",
      "OffersScreenAppear\n",
      "0.6207729468599034 0.6048547552725826\n",
      "p-значение:  0.2480954578522181\n",
      "Не получилось отвергнуть нулевую гипотезу по событию OffersScreenAppear: нет оснований считать доли разными\n",
      "_____________________________________________\n",
      " \n",
      "CartScreenAppear\n",
      "0.5096618357487923 0.4926382809391166\n",
      "p-значение:  0.22883372237997213\n",
      "Не получилось отвергнуть нулевую гипотезу по событию CartScreenAppear: нет оснований считать доли разными\n",
      "_____________________________________________\n",
      " \n",
      "PaymentScreenSuccessful\n",
      "0.4830917874396135 0.46080382013529647\n",
      "p-значение:  0.11456679313141849\n",
      "Не получилось отвергнуть нулевую гипотезу по событию PaymentScreenSuccessful: нет оснований считать доли разными\n",
      "_____________________________________________\n",
      " \n"
     ]
    }
   ],
   "source": [
    "#посмотрим на события в 246 и 247 группах при alpha 0.01\n",
    "abcd(new_data, [246, 247], 0.01)"
   ]
  },
  {
   "cell_type": "markdown",
   "metadata": {},
   "source": [
    "*Как видим, между группами 246 и 247 нет статистически значимых различий.*"
   ]
  },
  {
   "cell_type": "code",
   "execution_count": 38,
   "metadata": {},
   "outputs": [
    {
     "name": "stdout",
     "output_type": "stream",
     "text": [
      "Tutorial\n",
      "0.11191626409017713 0.10997240835632636\n",
      "p-значение:  0.8264294010087645\n",
      "Не получилось отвергнуть нулевую гипотезу по событию Tutorial: нет оснований считать доли разными\n",
      "_____________________________________________\n",
      " \n",
      "MainScreenAppear\n",
      "0.9863123993558777 0.9826566811194324\n",
      "p-значение:  0.2949721933554552\n",
      "Не получилось отвергнуть нулевую гипотезу по событию MainScreenAppear: нет оснований считать доли разными\n",
      "_____________________________________________\n",
      " \n",
      "OffersScreenAppear\n",
      "0.6207729468599034 0.6034686637761135\n",
      "p-значение:  0.20836205402738917\n",
      "Не получилось отвергнуть нулевую гипотезу по событию OffersScreenAppear: нет оснований считать доли разными\n",
      "_____________________________________________\n",
      " \n",
      "CartScreenAppear\n",
      "0.5096618357487923 0.48482459597950334\n",
      "p-значение:  0.07842923237520116\n",
      "Не получилось отвергнуть нулевую гипотезу по событию CartScreenAppear: нет оснований считать доли разными\n",
      "_____________________________________________\n",
      " \n",
      "PaymentScreenSuccessful\n",
      "0.4830917874396135 0.46551044540796216\n",
      "p-значение:  0.2122553275697796\n",
      "Не получилось отвергнуть нулевую гипотезу по событию PaymentScreenSuccessful: нет оснований считать доли разными\n",
      "_____________________________________________\n",
      " \n"
     ]
    }
   ],
   "source": [
    "#посмотрим на события в 246 и 248 группах\n",
    "abcd(new_data, [246, 248], 0.05)"
   ]
  },
  {
   "cell_type": "code",
   "execution_count": 39,
   "metadata": {},
   "outputs": [
    {
     "name": "stdout",
     "output_type": "stream",
     "text": [
      "Tutorial\n",
      "0.11191626409017713 0.10997240835632636\n",
      "p-значение:  0.8264294010087645\n",
      "Не получилось отвергнуть нулевую гипотезу по событию Tutorial: нет оснований считать доли разными\n",
      "_____________________________________________\n",
      " \n",
      "MainScreenAppear\n",
      "0.9863123993558777 0.9826566811194324\n",
      "p-значение:  0.2949721933554552\n",
      "Не получилось отвергнуть нулевую гипотезу по событию MainScreenAppear: нет оснований считать доли разными\n",
      "_____________________________________________\n",
      " \n",
      "OffersScreenAppear\n",
      "0.6207729468599034 0.6034686637761135\n",
      "p-значение:  0.20836205402738917\n",
      "Не получилось отвергнуть нулевую гипотезу по событию OffersScreenAppear: нет оснований считать доли разными\n",
      "_____________________________________________\n",
      " \n",
      "CartScreenAppear\n",
      "0.5096618357487923 0.48482459597950334\n",
      "p-значение:  0.07842923237520116\n",
      "Не получилось отвергнуть нулевую гипотезу по событию CartScreenAppear: нет оснований считать доли разными\n",
      "_____________________________________________\n",
      " \n",
      "PaymentScreenSuccessful\n",
      "0.4830917874396135 0.46551044540796216\n",
      "p-значение:  0.2122553275697796\n",
      "Не получилось отвергнуть нулевую гипотезу по событию PaymentScreenSuccessful: нет оснований считать доли разными\n",
      "_____________________________________________\n",
      " \n"
     ]
    }
   ],
   "source": [
    "#посмотрим на события в 246 и 248 группах\n",
    "abcd(new_data, [246, 248], 0.01)"
   ]
  },
  {
   "cell_type": "markdown",
   "metadata": {},
   "source": [
    "*Как видим, между группами 246 и 248 нет статистически значимых различий.*"
   ]
  },
  {
   "cell_type": "code",
   "execution_count": 40,
   "metadata": {},
   "outputs": [
    {
     "name": "stdout",
     "output_type": "stream",
     "text": [
      "Tutorial\n",
      "0.11261440509351373 0.10997240835632636\n",
      "p-значение:  0.765323922474501\n",
      "Не получилось отвергнуть нулевую гипотезу по событию Tutorial: нет оснований считать доли разными\n",
      "_____________________________________________\n",
      " \n",
      "MainScreenAppear\n",
      "0.9852765618782332 0.9826566811194324\n",
      "p-значение:  0.4587053616621515\n",
      "Не получилось отвергнуть нулевую гипотезу по событию MainScreenAppear: нет оснований считать доли разными\n",
      "_____________________________________________\n",
      " \n",
      "OffersScreenAppear\n",
      "0.6048547552725826 0.6034686637761135\n",
      "p-значение:  0.9197817830592261\n",
      "Не получилось отвергнуть нулевую гипотезу по событию OffersScreenAppear: нет оснований считать доли разными\n",
      "_____________________________________________\n",
      " \n",
      "CartScreenAppear\n",
      "0.4926382809391166 0.48482459597950334\n",
      "p-значение:  0.5786197879539783\n",
      "Не получилось отвергнуть нулевую гипотезу по событию CartScreenAppear: нет оснований считать доли разными\n",
      "_____________________________________________\n",
      " \n",
      "PaymentScreenSuccessful\n",
      "0.46080382013529647 0.46551044540796216\n",
      "p-значение:  0.7373415053803964\n",
      "Не получилось отвергнуть нулевую гипотезу по событию PaymentScreenSuccessful: нет оснований считать доли разными\n",
      "_____________________________________________\n",
      " \n"
     ]
    }
   ],
   "source": [
    "#посмотрим на события в 247 и 248 группах\n",
    "abcd(new_data, [247, 248], 0.05)"
   ]
  },
  {
   "cell_type": "code",
   "execution_count": 41,
   "metadata": {},
   "outputs": [
    {
     "name": "stdout",
     "output_type": "stream",
     "text": [
      "Tutorial\n",
      "0.11261440509351373 0.10997240835632636\n",
      "p-значение:  0.765323922474501\n",
      "Не получилось отвергнуть нулевую гипотезу по событию Tutorial: нет оснований считать доли разными\n",
      "_____________________________________________\n",
      " \n",
      "MainScreenAppear\n",
      "0.9852765618782332 0.9826566811194324\n",
      "p-значение:  0.4587053616621515\n",
      "Не получилось отвергнуть нулевую гипотезу по событию MainScreenAppear: нет оснований считать доли разными\n",
      "_____________________________________________\n",
      " \n",
      "OffersScreenAppear\n",
      "0.6048547552725826 0.6034686637761135\n",
      "p-значение:  0.9197817830592261\n",
      "Не получилось отвергнуть нулевую гипотезу по событию OffersScreenAppear: нет оснований считать доли разными\n",
      "_____________________________________________\n",
      " \n",
      "CartScreenAppear\n",
      "0.4926382809391166 0.48482459597950334\n",
      "p-значение:  0.5786197879539783\n",
      "Не получилось отвергнуть нулевую гипотезу по событию CartScreenAppear: нет оснований считать доли разными\n",
      "_____________________________________________\n",
      " \n",
      "PaymentScreenSuccessful\n",
      "0.46080382013529647 0.46551044540796216\n",
      "p-значение:  0.7373415053803964\n",
      "Не получилось отвергнуть нулевую гипотезу по событию PaymentScreenSuccessful: нет оснований считать доли разными\n",
      "_____________________________________________\n",
      " \n"
     ]
    }
   ],
   "source": [
    "#посмотрим на события в 247 и 248 группах\n",
    "abcd(new_data, [247, 248], 0.01)"
   ]
  },
  {
   "cell_type": "markdown",
   "metadata": {},
   "source": [
    "*Как видим, между группами 246 и 248 нет статистически значимых различий.*"
   ]
  },
  {
   "cell_type": "code",
   "execution_count": 42,
   "metadata": {
    "scrolled": true
   },
   "outputs": [],
   "source": [
    "# объединим две контрольные группы в одну и оставим ее под номером 247.\n",
    "sum_dats = new_data.copy()\n",
    "sum_dats[\"user_id\"].replace({246:247}, inplace=True)"
   ]
  },
  {
   "cell_type": "code",
   "execution_count": 43,
   "metadata": {},
   "outputs": [
    {
     "name": "stdout",
     "output_type": "stream",
     "text": [
      "Tutorial\n",
      "0.11261440509351373 0.10997240835632636\n",
      "p-значение:  0.765323922474501\n",
      "Не получилось отвергнуть нулевую гипотезу по событию Tutorial: нет оснований считать доли разными\n",
      "_____________________________________________\n",
      " \n",
      "MainScreenAppear\n",
      "0.9852765618782332 0.9826566811194324\n",
      "p-значение:  0.4587053616621515\n",
      "Не получилось отвергнуть нулевую гипотезу по событию MainScreenAppear: нет оснований считать доли разными\n",
      "_____________________________________________\n",
      " \n",
      "OffersScreenAppear\n",
      "0.6048547552725826 0.6034686637761135\n",
      "p-значение:  0.9197817830592261\n",
      "Не получилось отвергнуть нулевую гипотезу по событию OffersScreenAppear: нет оснований считать доли разными\n",
      "_____________________________________________\n",
      " \n",
      "CartScreenAppear\n",
      "0.4926382809391166 0.48482459597950334\n",
      "p-значение:  0.5786197879539783\n",
      "Не получилось отвергнуть нулевую гипотезу по событию CartScreenAppear: нет оснований считать доли разными\n",
      "_____________________________________________\n",
      " \n",
      "PaymentScreenSuccessful\n",
      "0.46080382013529647 0.46551044540796216\n",
      "p-значение:  0.7373415053803964\n",
      "Не получилось отвергнуть нулевую гипотезу по событию PaymentScreenSuccessful: нет оснований считать доли разными\n",
      "_____________________________________________\n",
      " \n"
     ]
    }
   ],
   "source": [
    "abcd(sum_dats, [247, 248], 0.01)"
   ]
  },
  {
   "cell_type": "code",
   "execution_count": 44,
   "metadata": {},
   "outputs": [
    {
     "name": "stdout",
     "output_type": "stream",
     "text": [
      "Tutorial\n",
      "0.11261440509351373 0.10997240835632636\n",
      "p-значение:  0.765323922474501\n",
      "Не получилось отвергнуть нулевую гипотезу по событию Tutorial: нет оснований считать доли разными\n",
      "_____________________________________________\n",
      " \n",
      "MainScreenAppear\n",
      "0.9852765618782332 0.9826566811194324\n",
      "p-значение:  0.4587053616621515\n",
      "Не получилось отвергнуть нулевую гипотезу по событию MainScreenAppear: нет оснований считать доли разными\n",
      "_____________________________________________\n",
      " \n",
      "OffersScreenAppear\n",
      "0.6048547552725826 0.6034686637761135\n",
      "p-значение:  0.9197817830592261\n",
      "Не получилось отвергнуть нулевую гипотезу по событию OffersScreenAppear: нет оснований считать доли разными\n",
      "_____________________________________________\n",
      " \n",
      "CartScreenAppear\n",
      "0.4926382809391166 0.48482459597950334\n",
      "p-значение:  0.5786197879539783\n",
      "Не получилось отвергнуть нулевую гипотезу по событию CartScreenAppear: нет оснований считать доли разными\n",
      "_____________________________________________\n",
      " \n",
      "PaymentScreenSuccessful\n",
      "0.46080382013529647 0.46551044540796216\n",
      "p-значение:  0.7373415053803964\n",
      "Не получилось отвергнуть нулевую гипотезу по событию PaymentScreenSuccessful: нет оснований считать доли разными\n",
      "_____________________________________________\n",
      " \n"
     ]
    }
   ],
   "source": [
    "abcd(sum_dats, [247, 248], 0.05)"
   ]
  },
  {
   "cell_type": "markdown",
   "metadata": {},
   "source": [
    "*Как видим, между группами объединенными группам 246+247 и 248 нет статистически значимых различий.*"
   ]
  },
  {
   "cell_type": "markdown",
   "metadata": {},
   "source": [
    "*Были проведены проверки при разных уровнях .01 и .05. Всего было сделано 20 проверок статистических гипотез  при каждом урвоне.*"
   ]
  },
  {
   "cell_type": "markdown",
   "metadata": {},
   "source": [
    "**Таким образом, на группу \"246\" приходится 2484 пользователя, \"247\" - 2513 пользователей, \"248\" - 2537 пользователей. **Разница между выборками 246 и 247 составляет 1.2%. Это довольно незначительный коэффициент. Были проведены проверки при разных уровнях значимости  .01 и .05. Всего было сделано 20 проверок статистических гипотез  при каждом урвоне. В ходе проверки не было выявлено значимой разницы между группами.  Следовательно, считаем, что на поведение пользователей изменение шрифта не оказало значимого эффекта.**"
   ]
  },
  {
   "cell_type": "markdown",
   "metadata": {},
   "source": [
    "### Общий вывод\n",
    "_В ходе проведенной работы было выполнено следующее:_\n",
    "\n",
    "**1. Загрузили датафрейм /datasets/logs_exp.csv - data. Рассмотрели данные указанного датафрейма.**\n",
    "\n",
    "**2. Провели поиск пропущенных значений, в ходе которого пришли к выводу, что пропущенные значения отсутствуют.**\n",
    "\n",
    "**3. Обнаружено 413 дубликатов, после чего было подсчитано соотношение дубликатов от общего числа записей, т.к. число получилось небольшим, то дубликаты были удалены.**\n",
    "\n",
    "**4. Произвели замену наименований столбцов, в частности привели к нижнему регистру все наименования столбцов в датасете data, \n",
    "а также переименовали некоторые столбцы**.\n",
    "\n",
    "**5. Заменили следующий типы данных:**\n",
    "\n",
    "* с object на datetime64[ns] в столбце event_timestamp   - необходимо для удобства дальнейшей работы с указанными данными.\n",
    "\n",
    "**6. Был рассмотрен временной интервал проводимого теста: с 25 июля по 07 августа 2019 г (минимальные и максимальные даты).**\n",
    "\n",
    "**7. Проведены подсчеты общего количества событий (243713) и уникальных пользователей (7551) в логе, дополнительно проверили количество пользователей для каждого события. Проверили количество в среднем событий на пользователя: среднее значение 32 события, однако в данных могут быть выбросы, что влияет на корректность полученных значений. Следовательно, обратим внимание на медиану: указано 20 событий. Построили столбчатую диаграмму, которая отображает количество событий в зависимости от времени в разрезе групп. На основании полученного графика, пришли к выводу, что данных за июль очень мало, что в свою очередь может повлиять на результаты исследования в дальнейшем, поэтому удалили данные за этот период. Проверили период эксперимента после изменений: с 01 по 07 августа 2019 года. Кроме того, проверили сколько событий и пользователей мы потеряли, отбросив старые данные: 2826 событий и 17 пользователей. Также провели проверку на наличие пользователей во всех трёх экспериментальных группах : \"246\" - 2484 пользователя, \"247\" - 2513 пользователей, \"248\" -  2537. Дополнительно построили еще одну столбчатую диаграмму после изменений. Как видим, больше всего событий произошло 01, 02, 05, 06 августа 2019 года. Меньше всего событий было в последний день исследования - 07 августа 2019 г.** \n",
    "\n",
    "**8. Таким образом, получаем 5 видов событий. Как видим, больше всего событий приходится на MainScreenAppear (появление главного экрана) - 117328 событий, меньше всего на Tutorial (руководство/инструкция) - 1005 событий. На OffersScreenAppear (появление предложение на экране) - 46333 события, CartScreenAppear (появление корзины на экране (скорей всего с товаром) - 42303 события, PaymentScreenSuccessful (платеж прошел успешно) - 33918 событий.**\n",
    "\n",
    "**Отметим, что на событие MainScreenAppear (появление главного экрана) приходится 98.47% пользователей из всех, что вполне объяснимо. На Tutorial (руководство/инструкция) приходится всего лишь 11.15%. Возможно это связано с легкостью в использовании приложения (следовательно, пользователи не переходят к руководству пользования, не пользуются инструкциями) либо техническими сбоями/багами при открытии инструкции/переходе к странице с руководством.**\n",
    "\n",
    "**Полагаем, что для большинства пользователей последовательность событий выглядит следующим образом:**\n",
    "\n",
    "1. MainScreenAppear - главный экран.\n",
    "\n",
    "2. OffersScreenAppear - экран с предложениями (товарами).\n",
    "\n",
    "3. CartScreenAppear - экран с корзиной (товаров).\n",
    "\n",
    "4. PaymentScreenSuccessful - экран с подтверждением оплаты.\n",
    "\n",
    "**Как уже отметили ранее, к шагу Tutorial прибегает сравнительно небольшой процент пользователей. Возможно это связано с легкостью в использовании приложения (следовательно, пользователи не переходят к руководству пользования, не пользуются инструкциями) либо техническими сбоями/багами при открытии инструкции/переходе к странице с руководством. Считаем вполне логичным убрать данный шаг из последовательности событий.**\n",
    "\n",
    "**Кроме того, видим, что не все пользователи, заходящие в приложение доходят до последнего шага. Всего лишь 61.91% переходят к экрану с предложениями (товарами). Большая часть пользователей после просмотра товаром все-таки добавляет их в корзину и переходит к просмотру - 81.30%. Почти все пользователи после просмотра корзины переходят к оплате товаров - 94.78%.**\n",
    "\n",
    "**Отметим, больше всего пользователей теряется при переходе к OffersScreenAppear (экрану с предложениями (товарами) от MainScreenAppear (главного экрана).**\n",
    "\n",
    "**Выяснили, что теряется 62% пользователей. Таким образом, от первого события до оплаты доходит 38%.**\n",
    "\n",
    "**9. Таким образом, на группу \"246\" приходится 2484 пользователя, \"247\" - 2513 пользователей, \"248\" - 2537 пользователей. Разница между выборками 246 и 247 составляет 1.2%. Это довольно незначительный коэффициент. Кроме того, рассмотрели возможность присутствия однгого пользователя в разных группах. Пришли к выводу, что пользователей одновременно попавших в 2 группы нет. Были проведены проверки при разных уровнях значимости  .01 и .05. Всего было сделано 20 проверок статистических гипотез  при каждом урвоне. В ходе проверки не было выявлено значимой разницы между группами.  Следовательно, считаем, что на поведение пользователей изменение шрифта не оказало значимого эффекта.**"
   ]
  }
 ],
 "metadata": {
  "ExecuteTimeLog": [
   {
    "duration": 5,
    "start_time": "2023-12-17T09:44:29.689Z"
   },
   {
    "duration": 2,
    "start_time": "2023-12-17T09:57:15.607Z"
   },
   {
    "duration": 1314,
    "start_time": "2023-12-17T09:58:28.398Z"
   },
   {
    "duration": 4,
    "start_time": "2023-12-17T09:58:30.166Z"
   },
   {
    "duration": 598,
    "start_time": "2023-12-17T09:59:24.759Z"
   },
   {
    "duration": 303,
    "start_time": "2023-12-17T09:59:26.232Z"
   },
   {
    "duration": 32,
    "start_time": "2023-12-17T10:01:08.254Z"
   },
   {
    "duration": 84,
    "start_time": "2023-12-17T10:01:37.911Z"
   },
   {
    "duration": 294,
    "start_time": "2023-12-17T10:01:49.490Z"
   },
   {
    "duration": 26,
    "start_time": "2023-12-17T10:01:51.879Z"
   },
   {
    "duration": 102,
    "start_time": "2023-12-17T10:02:02.091Z"
   },
   {
    "duration": 292,
    "start_time": "2023-12-17T10:02:37.876Z"
   },
   {
    "duration": 641,
    "start_time": "2023-12-17T10:06:20.617Z"
   },
   {
    "duration": 257,
    "start_time": "2023-12-17T10:06:33.168Z"
   },
   {
    "duration": 252,
    "start_time": "2023-12-17T10:06:48.009Z"
   },
   {
    "duration": 23,
    "start_time": "2023-12-17T10:06:49.823Z"
   },
   {
    "duration": 25,
    "start_time": "2023-12-17T10:06:52.857Z"
   },
   {
    "duration": 26,
    "start_time": "2023-12-17T10:06:55.232Z"
   },
   {
    "duration": 26,
    "start_time": "2023-12-17T10:06:57.610Z"
   },
   {
    "duration": 242,
    "start_time": "2023-12-17T10:07:47.738Z"
   },
   {
    "duration": 23,
    "start_time": "2023-12-17T10:07:50.114Z"
   },
   {
    "duration": 25,
    "start_time": "2023-12-17T10:07:51.306Z"
   },
   {
    "duration": 24,
    "start_time": "2023-12-17T10:07:52.466Z"
   },
   {
    "duration": 71,
    "start_time": "2023-12-17T10:09:07.884Z"
   },
   {
    "duration": 68,
    "start_time": "2023-12-17T10:09:11.507Z"
   },
   {
    "duration": 90,
    "start_time": "2023-12-17T10:09:14.011Z"
   },
   {
    "duration": 25,
    "start_time": "2023-12-17T10:09:15.441Z"
   },
   {
    "duration": 99,
    "start_time": "2023-12-17T10:09:18.092Z"
   },
   {
    "duration": 156,
    "start_time": "2023-12-17T10:09:25.996Z"
   },
   {
    "duration": 23,
    "start_time": "2023-12-17T10:09:28.308Z"
   },
   {
    "duration": 24,
    "start_time": "2023-12-17T10:09:30.652Z"
   },
   {
    "duration": 24,
    "start_time": "2023-12-17T10:09:31.517Z"
   },
   {
    "duration": 25,
    "start_time": "2023-12-17T10:09:32.325Z"
   },
   {
    "duration": 98,
    "start_time": "2023-12-17T10:11:34.605Z"
   },
   {
    "duration": 78,
    "start_time": "2023-12-17T10:11:42.591Z"
   },
   {
    "duration": 83,
    "start_time": "2023-12-17T10:11:51.487Z"
   },
   {
    "duration": 71,
    "start_time": "2023-12-17T10:11:54.664Z"
   },
   {
    "duration": 98,
    "start_time": "2023-12-17T10:12:04.072Z"
   },
   {
    "duration": 25,
    "start_time": "2023-12-17T10:12:17.593Z"
   },
   {
    "duration": 3,
    "start_time": "2023-12-17T10:13:42.947Z"
   },
   {
    "duration": 25,
    "start_time": "2023-12-17T10:15:25.197Z"
   },
   {
    "duration": 26,
    "start_time": "2023-12-17T10:15:28.828Z"
   },
   {
    "duration": 36,
    "start_time": "2023-12-17T10:15:29.853Z"
   },
   {
    "duration": 27,
    "start_time": "2023-12-17T10:15:30.757Z"
   },
   {
    "duration": 24,
    "start_time": "2023-12-17T10:15:32.037Z"
   },
   {
    "duration": 26,
    "start_time": "2023-12-17T10:15:37.917Z"
   },
   {
    "duration": 25,
    "start_time": "2023-12-17T10:15:43.504Z"
   },
   {
    "duration": 23,
    "start_time": "2023-12-17T10:15:45.301Z"
   },
   {
    "duration": 23,
    "start_time": "2023-12-17T10:15:46.677Z"
   },
   {
    "duration": 27,
    "start_time": "2023-12-17T10:15:50.085Z"
   },
   {
    "duration": 12,
    "start_time": "2023-12-17T10:18:12.793Z"
   },
   {
    "duration": 54,
    "start_time": "2023-12-17T10:20:57.659Z"
   },
   {
    "duration": 1454,
    "start_time": "2023-12-17T10:21:30.213Z"
   },
   {
    "duration": 18,
    "start_time": "2023-12-17T10:22:14.821Z"
   },
   {
    "duration": 17,
    "start_time": "2023-12-17T10:22:39.361Z"
   },
   {
    "duration": 48,
    "start_time": "2023-12-17T10:24:35.769Z"
   },
   {
    "duration": 54,
    "start_time": "2023-12-17T10:24:42.057Z"
   },
   {
    "duration": 55,
    "start_time": "2023-12-17T10:24:45.977Z"
   },
   {
    "duration": 62,
    "start_time": "2023-12-17T10:24:50.954Z"
   },
   {
    "duration": 60,
    "start_time": "2023-12-17T10:25:02.642Z"
   },
   {
    "duration": 120,
    "start_time": "2023-12-17T10:26:40.294Z"
   },
   {
    "duration": 109,
    "start_time": "2023-12-17T10:26:52.243Z"
   },
   {
    "duration": 104,
    "start_time": "2023-12-17T10:27:03.196Z"
   },
   {
    "duration": 145,
    "start_time": "2023-12-17T10:31:15.202Z"
   },
   {
    "duration": 24,
    "start_time": "2023-12-17T10:31:20.210Z"
   },
   {
    "duration": 160,
    "start_time": "2023-12-17T10:31:27.050Z"
   },
   {
    "duration": 29,
    "start_time": "2023-12-17T10:31:29.163Z"
   },
   {
    "duration": 1325,
    "start_time": "2023-12-17T10:32:39.364Z"
   },
   {
    "duration": 1299,
    "start_time": "2023-12-17T10:33:05.213Z"
   },
   {
    "duration": 16,
    "start_time": "2023-12-17T10:33:11.213Z"
   },
   {
    "duration": 10,
    "start_time": "2023-12-17T10:33:17.061Z"
   },
   {
    "duration": 10,
    "start_time": "2023-12-17T10:33:19.373Z"
   },
   {
    "duration": 10,
    "start_time": "2023-12-17T10:33:20.845Z"
   },
   {
    "duration": 15,
    "start_time": "2023-12-17T10:33:30.157Z"
   },
   {
    "duration": 57,
    "start_time": "2023-12-17T10:33:37.061Z"
   },
   {
    "duration": 62,
    "start_time": "2023-12-17T10:34:29.430Z"
   },
   {
    "duration": 56,
    "start_time": "2023-12-17T10:34:31.294Z"
   },
   {
    "duration": 84,
    "start_time": "2023-12-17T10:34:37.654Z"
   },
   {
    "duration": 91,
    "start_time": "2023-12-17T10:35:01.895Z"
   },
   {
    "duration": 35,
    "start_time": "2023-12-17T10:39:15.781Z"
   },
   {
    "duration": 61,
    "start_time": "2023-12-17T10:39:18.221Z"
   },
   {
    "duration": 27,
    "start_time": "2023-12-17T10:39:31.517Z"
   },
   {
    "duration": 43,
    "start_time": "2023-12-17T10:39:53.766Z"
   },
   {
    "duration": 44,
    "start_time": "2023-12-17T10:43:39.378Z"
   },
   {
    "duration": 31,
    "start_time": "2023-12-17T10:44:32.340Z"
   },
   {
    "duration": 30,
    "start_time": "2023-12-17T10:44:35.908Z"
   },
   {
    "duration": 32,
    "start_time": "2023-12-17T10:44:53.203Z"
   },
   {
    "duration": 31,
    "start_time": "2023-12-17T10:45:09.419Z"
   },
   {
    "duration": 30,
    "start_time": "2023-12-17T10:45:10.987Z"
   },
   {
    "duration": 31,
    "start_time": "2023-12-17T10:45:12.500Z"
   },
   {
    "duration": 77,
    "start_time": "2023-12-17T10:50:12.867Z"
   },
   {
    "duration": 130,
    "start_time": "2023-12-17T10:50:24.291Z"
   },
   {
    "duration": 85,
    "start_time": "2023-12-17T10:50:43.080Z"
   },
   {
    "duration": 83,
    "start_time": "2023-12-17T10:50:48.946Z"
   },
   {
    "duration": 57,
    "start_time": "2023-12-17T10:50:56.107Z"
   },
   {
    "duration": 94,
    "start_time": "2023-12-17T10:50:58.963Z"
   },
   {
    "duration": 52,
    "start_time": "2023-12-17T10:51:09.426Z"
   },
   {
    "duration": 41,
    "start_time": "2023-12-17T10:51:14.915Z"
   },
   {
    "duration": 47,
    "start_time": "2023-12-17T10:56:37.939Z"
   },
   {
    "duration": 43,
    "start_time": "2023-12-17T10:56:52.997Z"
   },
   {
    "duration": 42,
    "start_time": "2023-12-17T10:56:58.579Z"
   },
   {
    "duration": 46,
    "start_time": "2023-12-17T10:57:20.732Z"
   },
   {
    "duration": 42,
    "start_time": "2023-12-17T10:58:26.030Z"
   },
   {
    "duration": 61,
    "start_time": "2023-12-17T10:58:36.877Z"
   },
   {
    "duration": 15,
    "start_time": "2023-12-17T10:58:41.373Z"
   },
   {
    "duration": 16,
    "start_time": "2023-12-17T10:58:47.957Z"
   },
   {
    "duration": 57,
    "start_time": "2023-12-17T10:58:50.909Z"
   },
   {
    "duration": 44,
    "start_time": "2023-12-17T10:58:55.110Z"
   },
   {
    "duration": 146,
    "start_time": "2023-12-17T10:59:02.237Z"
   },
   {
    "duration": 24,
    "start_time": "2023-12-17T10:59:02.949Z"
   },
   {
    "duration": 10,
    "start_time": "2023-12-17T10:59:05.876Z"
   },
   {
    "duration": 16,
    "start_time": "2023-12-17T10:59:08.214Z"
   },
   {
    "duration": 57,
    "start_time": "2023-12-17T10:59:09.717Z"
   },
   {
    "duration": 43,
    "start_time": "2023-12-17T10:59:12.317Z"
   },
   {
    "duration": 80,
    "start_time": "2023-12-17T10:59:44.911Z"
   },
   {
    "duration": 94,
    "start_time": "2023-12-17T10:59:50.751Z"
   },
   {
    "duration": 45,
    "start_time": "2023-12-17T11:00:03.303Z"
   },
   {
    "duration": 93,
    "start_time": "2023-12-17T11:00:17.271Z"
   },
   {
    "duration": 203,
    "start_time": "2023-12-17T11:01:54.033Z"
   },
   {
    "duration": 53,
    "start_time": "2023-12-17T11:02:10.442Z"
   },
   {
    "duration": 153,
    "start_time": "2023-12-17T11:02:30.730Z"
   },
   {
    "duration": 93,
    "start_time": "2023-12-17T11:02:34.074Z"
   },
   {
    "duration": 83,
    "start_time": "2023-12-17T11:03:21.164Z"
   },
   {
    "duration": 50,
    "start_time": "2023-12-17T11:03:25.854Z"
   },
   {
    "duration": 44,
    "start_time": "2023-12-17T11:04:28.420Z"
   },
   {
    "duration": 71,
    "start_time": "2023-12-17T11:04:33.315Z"
   },
   {
    "duration": 45,
    "start_time": "2023-12-17T11:04:38.925Z"
   },
   {
    "duration": 45,
    "start_time": "2023-12-17T11:04:51.317Z"
   },
   {
    "duration": 83,
    "start_time": "2023-12-17T11:06:17.967Z"
   },
   {
    "duration": 86,
    "start_time": "2023-12-17T11:07:04.104Z"
   },
   {
    "duration": 44,
    "start_time": "2023-12-17T11:07:26.024Z"
   },
   {
    "duration": 90,
    "start_time": "2023-12-17T11:08:49.746Z"
   },
   {
    "duration": 123,
    "start_time": "2023-12-17T11:08:58.195Z"
   },
   {
    "duration": 44,
    "start_time": "2023-12-17T11:09:09.971Z"
   },
   {
    "duration": 87,
    "start_time": "2023-12-17T11:09:21.299Z"
   },
   {
    "duration": 43,
    "start_time": "2023-12-17T11:09:27.627Z"
   },
   {
    "duration": 2,
    "start_time": "2023-12-17T11:09:34.627Z"
   },
   {
    "duration": 40,
    "start_time": "2023-12-17T11:09:39.084Z"
   },
   {
    "duration": 42,
    "start_time": "2023-12-17T11:09:40.756Z"
   },
   {
    "duration": 40,
    "start_time": "2023-12-17T11:09:41.659Z"
   },
   {
    "duration": 40,
    "start_time": "2023-12-17T11:09:42.683Z"
   },
   {
    "duration": 43,
    "start_time": "2023-12-17T11:09:43.771Z"
   },
   {
    "duration": 40,
    "start_time": "2023-12-17T11:10:13.021Z"
   },
   {
    "duration": 40,
    "start_time": "2023-12-17T11:10:14.588Z"
   },
   {
    "duration": 43,
    "start_time": "2023-12-17T11:10:15.844Z"
   },
   {
    "duration": 42,
    "start_time": "2023-12-17T11:10:16.965Z"
   },
   {
    "duration": 2,
    "start_time": "2023-12-17T11:10:20.108Z"
   },
   {
    "duration": 40,
    "start_time": "2023-12-17T11:10:22.196Z"
   },
   {
    "duration": 42,
    "start_time": "2023-12-17T11:10:23.325Z"
   },
   {
    "duration": 58,
    "start_time": "2023-12-17T11:10:25.668Z"
   },
   {
    "duration": 42,
    "start_time": "2023-12-17T11:10:27.013Z"
   },
   {
    "duration": 44,
    "start_time": "2023-12-17T11:10:33.757Z"
   },
   {
    "duration": 41,
    "start_time": "2023-12-17T11:10:34.781Z"
   },
   {
    "duration": 41,
    "start_time": "2023-12-17T11:10:38.221Z"
   },
   {
    "duration": 16,
    "start_time": "2023-12-17T11:10:42.164Z"
   },
   {
    "duration": 80,
    "start_time": "2023-12-17T11:10:43.228Z"
   },
   {
    "duration": 1073,
    "start_time": "2023-12-17T11:10:51.362Z"
   },
   {
    "duration": 174,
    "start_time": "2023-12-17T11:10:52.437Z"
   },
   {
    "duration": 30,
    "start_time": "2023-12-17T11:10:52.613Z"
   },
   {
    "duration": 14,
    "start_time": "2023-12-17T11:10:52.645Z"
   },
   {
    "duration": 29,
    "start_time": "2023-12-17T11:10:52.661Z"
   },
   {
    "duration": 81,
    "start_time": "2023-12-17T11:10:52.692Z"
   },
   {
    "duration": 53,
    "start_time": "2023-12-17T11:10:52.775Z"
   },
   {
    "duration": 2,
    "start_time": "2023-12-17T11:10:52.830Z"
   },
   {
    "duration": 47,
    "start_time": "2023-12-17T11:10:52.833Z"
   },
   {
    "duration": 114,
    "start_time": "2023-12-17T11:11:02.646Z"
   },
   {
    "duration": 92,
    "start_time": "2023-12-17T11:11:21.175Z"
   },
   {
    "duration": 38,
    "start_time": "2023-12-17T11:11:33.791Z"
   },
   {
    "duration": 30,
    "start_time": "2023-12-17T11:11:37.998Z"
   },
   {
    "duration": 100,
    "start_time": "2023-12-17T11:15:35.212Z"
   },
   {
    "duration": 109,
    "start_time": "2023-12-17T11:15:53.284Z"
   },
   {
    "duration": 32,
    "start_time": "2023-12-17T11:16:10.876Z"
   },
   {
    "duration": 100,
    "start_time": "2023-12-17T11:16:12.860Z"
   },
   {
    "duration": 3,
    "start_time": "2023-12-17T11:17:15.717Z"
   },
   {
    "duration": 117,
    "start_time": "2023-12-17T11:21:19.835Z"
   },
   {
    "duration": 13,
    "start_time": "2023-12-17T11:22:42.677Z"
   },
   {
    "duration": 15,
    "start_time": "2023-12-17T11:22:46.204Z"
   },
   {
    "duration": 21,
    "start_time": "2023-12-17T11:22:51.534Z"
   },
   {
    "duration": 1328,
    "start_time": "2023-12-17T11:23:04.629Z"
   },
   {
    "duration": 17,
    "start_time": "2023-12-17T11:23:10.758Z"
   },
   {
    "duration": 12,
    "start_time": "2023-12-17T11:23:14.126Z"
   },
   {
    "duration": 16,
    "start_time": "2023-12-17T11:23:16.693Z"
   },
   {
    "duration": 12,
    "start_time": "2023-12-17T11:23:21.669Z"
   },
   {
    "duration": 12,
    "start_time": "2023-12-17T11:23:25.197Z"
   },
   {
    "duration": 12,
    "start_time": "2023-12-17T11:23:26.421Z"
   },
   {
    "duration": 12,
    "start_time": "2023-12-17T11:23:33.711Z"
   },
   {
    "duration": 12,
    "start_time": "2023-12-17T11:23:41.702Z"
   },
   {
    "duration": 12,
    "start_time": "2023-12-17T11:23:45.710Z"
   },
   {
    "duration": 13,
    "start_time": "2023-12-17T11:23:47.414Z"
   },
   {
    "duration": 11,
    "start_time": "2023-12-17T11:23:48.375Z"
   },
   {
    "duration": 12,
    "start_time": "2023-12-17T11:23:49.016Z"
   },
   {
    "duration": 1043,
    "start_time": "2023-12-17T11:23:55.728Z"
   },
   {
    "duration": 166,
    "start_time": "2023-12-17T11:23:56.773Z"
   },
   {
    "duration": 28,
    "start_time": "2023-12-17T11:23:56.941Z"
   },
   {
    "duration": 10,
    "start_time": "2023-12-17T11:23:56.971Z"
   },
   {
    "duration": 15,
    "start_time": "2023-12-17T11:23:56.982Z"
   },
   {
    "duration": 93,
    "start_time": "2023-12-17T11:23:56.999Z"
   },
   {
    "duration": 63,
    "start_time": "2023-12-17T11:23:57.093Z"
   },
   {
    "duration": 113,
    "start_time": "2023-12-17T11:23:57.158Z"
   },
   {
    "duration": 33,
    "start_time": "2023-12-17T11:23:57.273Z"
   },
   {
    "duration": 150,
    "start_time": "2023-12-17T11:23:57.308Z"
   },
   {
    "duration": 4,
    "start_time": "2023-12-17T11:24:05.422Z"
   },
   {
    "duration": 166,
    "start_time": "2023-12-17T11:24:07.117Z"
   },
   {
    "duration": 151,
    "start_time": "2023-12-17T11:24:24.454Z"
   },
   {
    "duration": 24,
    "start_time": "2023-12-17T11:24:25.830Z"
   },
   {
    "duration": 11,
    "start_time": "2023-12-17T11:24:29.198Z"
   },
   {
    "duration": 15,
    "start_time": "2023-12-17T11:24:31.478Z"
   },
   {
    "duration": 62,
    "start_time": "2023-12-17T11:24:35.494Z"
   },
   {
    "duration": 43,
    "start_time": "2023-12-17T11:24:37.709Z"
   },
   {
    "duration": 84,
    "start_time": "2023-12-17T11:24:39.247Z"
   },
   {
    "duration": 38,
    "start_time": "2023-12-17T11:24:44.286Z"
   },
   {
    "duration": 122,
    "start_time": "2023-12-17T11:24:46.311Z"
   },
   {
    "duration": 156,
    "start_time": "2023-12-17T11:28:15.484Z"
   },
   {
    "duration": 14,
    "start_time": "2023-12-17T11:38:00.449Z"
   },
   {
    "duration": 41,
    "start_time": "2023-12-17T11:38:23.720Z"
   },
   {
    "duration": 33,
    "start_time": "2023-12-17T11:39:16.208Z"
   },
   {
    "duration": 33,
    "start_time": "2023-12-17T11:39:23.049Z"
   },
   {
    "duration": 32,
    "start_time": "2023-12-17T11:40:31.075Z"
   },
   {
    "duration": 4,
    "start_time": "2023-12-17T11:41:58.172Z"
   },
   {
    "duration": 8,
    "start_time": "2023-12-17T11:42:27.573Z"
   },
   {
    "duration": 6,
    "start_time": "2023-12-17T11:42:31.046Z"
   },
   {
    "duration": 61,
    "start_time": "2023-12-17T11:44:55.048Z"
   },
   {
    "duration": 81,
    "start_time": "2023-12-17T11:51:28.202Z"
   },
   {
    "duration": 80,
    "start_time": "2023-12-17T11:51:32.945Z"
   },
   {
    "duration": 153,
    "start_time": "2023-12-17T11:51:36.865Z"
   },
   {
    "duration": 100,
    "start_time": "2023-12-17T11:51:40.689Z"
   },
   {
    "duration": 3,
    "start_time": "2023-12-17T11:51:48.161Z"
   },
   {
    "duration": 78,
    "start_time": "2023-12-17T11:52:36.858Z"
   },
   {
    "duration": 54,
    "start_time": "2023-12-17T11:53:11.139Z"
   },
   {
    "duration": 100,
    "start_time": "2023-12-17T11:54:24.254Z"
   },
   {
    "duration": 25,
    "start_time": "2023-12-17T11:54:41.750Z"
   },
   {
    "duration": 24,
    "start_time": "2023-12-17T11:54:44.968Z"
   },
   {
    "duration": 25,
    "start_time": "2023-12-17T11:55:11.214Z"
   },
   {
    "duration": 52,
    "start_time": "2023-12-17T11:55:19.942Z"
   },
   {
    "duration": 50,
    "start_time": "2023-12-17T11:56:07.351Z"
   },
   {
    "duration": 6,
    "start_time": "2023-12-17T11:56:10.431Z"
   },
   {
    "duration": 24,
    "start_time": "2023-12-17T11:56:24.176Z"
   },
   {
    "duration": 74,
    "start_time": "2023-12-17T11:57:47.530Z"
   },
   {
    "duration": 32,
    "start_time": "2023-12-17T11:59:43.060Z"
   },
   {
    "duration": 5,
    "start_time": "2023-12-17T12:00:07.940Z"
   },
   {
    "duration": 5,
    "start_time": "2023-12-17T12:00:43.856Z"
   },
   {
    "duration": 10,
    "start_time": "2023-12-17T12:01:25.135Z"
   },
   {
    "duration": 7,
    "start_time": "2023-12-17T12:01:59.857Z"
   },
   {
    "duration": 78,
    "start_time": "2023-12-17T12:04:19.858Z"
   },
   {
    "duration": 7,
    "start_time": "2023-12-17T12:08:30.392Z"
   },
   {
    "duration": 264,
    "start_time": "2023-12-17T12:13:55.543Z"
   },
   {
    "duration": 189,
    "start_time": "2023-12-17T12:14:06.719Z"
   },
   {
    "duration": 179,
    "start_time": "2023-12-17T12:14:51.602Z"
   },
   {
    "duration": 188,
    "start_time": "2023-12-17T12:15:36.218Z"
   },
   {
    "duration": 186,
    "start_time": "2023-12-17T12:16:19.514Z"
   },
   {
    "duration": 212,
    "start_time": "2023-12-17T12:16:24.940Z"
   },
   {
    "duration": 260,
    "start_time": "2023-12-17T12:16:40.092Z"
   },
   {
    "duration": 189,
    "start_time": "2023-12-17T12:16:54.820Z"
   },
   {
    "duration": 180,
    "start_time": "2023-12-17T12:16:56.587Z"
   },
   {
    "duration": 189,
    "start_time": "2023-12-17T12:16:57.450Z"
   },
   {
    "duration": 194,
    "start_time": "2023-12-17T12:16:58.867Z"
   },
   {
    "duration": 186,
    "start_time": "2023-12-17T12:16:59.795Z"
   },
   {
    "duration": 209,
    "start_time": "2023-12-17T12:17:05.027Z"
   },
   {
    "duration": 189,
    "start_time": "2023-12-17T12:17:10.996Z"
   },
   {
    "duration": 190,
    "start_time": "2023-12-17T12:17:12.243Z"
   },
   {
    "duration": 1100,
    "start_time": "2023-12-17T12:17:17.128Z"
   },
   {
    "duration": 164,
    "start_time": "2023-12-17T12:17:18.230Z"
   },
   {
    "duration": 29,
    "start_time": "2023-12-17T12:17:18.396Z"
   },
   {
    "duration": 27,
    "start_time": "2023-12-17T12:17:18.426Z"
   },
   {
    "duration": 17,
    "start_time": "2023-12-17T12:17:18.454Z"
   },
   {
    "duration": 30,
    "start_time": "2023-12-17T12:17:18.472Z"
   },
   {
    "duration": 4,
    "start_time": "2023-12-17T12:17:18.503Z"
   },
   {
    "duration": 96,
    "start_time": "2023-12-17T12:17:18.508Z"
   },
   {
    "duration": 58,
    "start_time": "2023-12-17T12:17:18.605Z"
   },
   {
    "duration": 122,
    "start_time": "2023-12-17T12:17:18.665Z"
   },
   {
    "duration": 121,
    "start_time": "2023-12-17T12:17:18.789Z"
   },
   {
    "duration": 8,
    "start_time": "2023-12-17T12:17:18.911Z"
   },
   {
    "duration": 50,
    "start_time": "2023-12-17T12:17:18.920Z"
   },
   {
    "duration": 7,
    "start_time": "2023-12-17T12:17:18.972Z"
   },
   {
    "duration": 48,
    "start_time": "2023-12-17T12:17:18.980Z"
   },
   {
    "duration": 47,
    "start_time": "2023-12-17T12:17:19.030Z"
   },
   {
    "duration": 7,
    "start_time": "2023-12-17T12:17:19.079Z"
   },
   {
    "duration": 285,
    "start_time": "2023-12-17T12:17:19.088Z"
   },
   {
    "duration": 186,
    "start_time": "2023-12-17T12:17:24.028Z"
   },
   {
    "duration": 199,
    "start_time": "2023-12-17T12:17:30.700Z"
   },
   {
    "duration": 190,
    "start_time": "2023-12-17T12:17:39.428Z"
   },
   {
    "duration": 187,
    "start_time": "2023-12-17T12:17:42.380Z"
   },
   {
    "duration": 192,
    "start_time": "2023-12-17T12:17:46.493Z"
   },
   {
    "duration": 195,
    "start_time": "2023-12-17T12:17:56.636Z"
   },
   {
    "duration": 251,
    "start_time": "2023-12-17T12:18:00.037Z"
   },
   {
    "duration": 224,
    "start_time": "2023-12-17T12:19:06.951Z"
   },
   {
    "duration": 188,
    "start_time": "2023-12-17T12:19:20.302Z"
   },
   {
    "duration": 67,
    "start_time": "2023-12-17T12:23:17.084Z"
   },
   {
    "duration": 11,
    "start_time": "2023-12-17T12:24:43.678Z"
   },
   {
    "duration": 192,
    "start_time": "2023-12-17T12:25:07.454Z"
   },
   {
    "duration": 188,
    "start_time": "2023-12-17T12:25:23.951Z"
   },
   {
    "duration": 201,
    "start_time": "2023-12-17T12:25:29.854Z"
   },
   {
    "duration": 204,
    "start_time": "2023-12-17T12:25:41.440Z"
   },
   {
    "duration": 43,
    "start_time": "2023-12-17T12:25:56.135Z"
   },
   {
    "duration": 47,
    "start_time": "2023-12-17T12:26:00.368Z"
   },
   {
    "duration": 9,
    "start_time": "2023-12-17T12:27:03.273Z"
   },
   {
    "duration": 6,
    "start_time": "2023-12-17T12:29:37.613Z"
   },
   {
    "duration": 5,
    "start_time": "2023-12-17T12:29:39.155Z"
   },
   {
    "duration": 10,
    "start_time": "2023-12-17T12:29:58.532Z"
   },
   {
    "duration": 116,
    "start_time": "2023-12-17T12:30:25.038Z"
   },
   {
    "duration": 10,
    "start_time": "2023-12-17T12:30:31.678Z"
   },
   {
    "duration": 10,
    "start_time": "2023-12-17T12:30:32.933Z"
   },
   {
    "duration": 9,
    "start_time": "2023-12-17T12:30:34.533Z"
   },
   {
    "duration": 10,
    "start_time": "2023-12-17T12:30:40.757Z"
   },
   {
    "duration": 10,
    "start_time": "2023-12-17T12:30:49.998Z"
   },
   {
    "duration": 10,
    "start_time": "2023-12-17T12:30:53.054Z"
   },
   {
    "duration": 11,
    "start_time": "2023-12-17T12:32:53.289Z"
   },
   {
    "duration": 11,
    "start_time": "2023-12-17T12:33:06.602Z"
   },
   {
    "duration": 11,
    "start_time": "2023-12-17T12:33:11.129Z"
   },
   {
    "duration": 10,
    "start_time": "2023-12-17T12:33:16.937Z"
   },
   {
    "duration": 11,
    "start_time": "2023-12-17T12:33:25.249Z"
   },
   {
    "duration": 9,
    "start_time": "2023-12-17T12:33:37.954Z"
   },
   {
    "duration": 10,
    "start_time": "2023-12-17T12:33:41.833Z"
   },
   {
    "duration": 10,
    "start_time": "2023-12-17T12:33:43.537Z"
   },
   {
    "duration": 100,
    "start_time": "2023-12-17T12:33:51.841Z"
   },
   {
    "duration": 12,
    "start_time": "2023-12-17T12:33:57.362Z"
   },
   {
    "duration": 11,
    "start_time": "2023-12-17T12:34:04.227Z"
   },
   {
    "duration": 12,
    "start_time": "2023-12-17T12:34:09.171Z"
   },
   {
    "duration": 11,
    "start_time": "2023-12-17T12:34:15.652Z"
   },
   {
    "duration": 11,
    "start_time": "2023-12-17T12:34:45.760Z"
   },
   {
    "duration": 12,
    "start_time": "2023-12-17T12:34:49.667Z"
   },
   {
    "duration": 10,
    "start_time": "2023-12-17T12:34:59.395Z"
   },
   {
    "duration": 10,
    "start_time": "2023-12-17T12:35:01.891Z"
   },
   {
    "duration": 89,
    "start_time": "2023-12-17T12:35:24.771Z"
   },
   {
    "duration": 12,
    "start_time": "2023-12-17T12:35:27.882Z"
   },
   {
    "duration": 10,
    "start_time": "2023-12-17T12:35:35.172Z"
   },
   {
    "duration": 15,
    "start_time": "2023-12-17T12:35:39.117Z"
   },
   {
    "duration": 9,
    "start_time": "2023-12-17T12:35:52.245Z"
   },
   {
    "duration": 18,
    "start_time": "2023-12-17T12:41:08.851Z"
   },
   {
    "duration": 25,
    "start_time": "2023-12-17T12:41:20.883Z"
   },
   {
    "duration": 26,
    "start_time": "2023-12-17T12:41:45.780Z"
   },
   {
    "duration": 26,
    "start_time": "2023-12-17T12:41:56.723Z"
   },
   {
    "duration": 16,
    "start_time": "2023-12-17T12:42:02.212Z"
   },
   {
    "duration": 29,
    "start_time": "2023-12-17T12:42:07.348Z"
   },
   {
    "duration": 29,
    "start_time": "2023-12-17T12:43:08.421Z"
   },
   {
    "duration": 31,
    "start_time": "2023-12-17T12:43:19.525Z"
   },
   {
    "duration": 211,
    "start_time": "2023-12-17T12:43:48.863Z"
   },
   {
    "duration": 33,
    "start_time": "2023-12-17T12:44:57.664Z"
   },
   {
    "duration": 33,
    "start_time": "2023-12-17T12:45:13.849Z"
   },
   {
    "duration": 39,
    "start_time": "2023-12-17T12:45:52.777Z"
   },
   {
    "duration": 40,
    "start_time": "2023-12-17T12:46:38.354Z"
   },
   {
    "duration": 69,
    "start_time": "2023-12-17T12:47:07.499Z"
   },
   {
    "duration": 182,
    "start_time": "2023-12-17T12:50:00.774Z"
   },
   {
    "duration": 176,
    "start_time": "2023-12-17T12:50:19.455Z"
   },
   {
    "duration": 167,
    "start_time": "2023-12-17T12:50:32.487Z"
   },
   {
    "duration": 243,
    "start_time": "2023-12-17T12:50:39.065Z"
   },
   {
    "duration": 176,
    "start_time": "2023-12-17T12:51:00.343Z"
   },
   {
    "duration": 167,
    "start_time": "2023-12-17T12:51:13.144Z"
   },
   {
    "duration": 99,
    "start_time": "2023-12-17T12:52:49.050Z"
   },
   {
    "duration": 168,
    "start_time": "2023-12-17T12:53:05.194Z"
   },
   {
    "duration": 48,
    "start_time": "2023-12-17T12:57:46.801Z"
   },
   {
    "duration": 31,
    "start_time": "2023-12-17T13:00:38.541Z"
   },
   {
    "duration": 29,
    "start_time": "2023-12-17T13:01:20.205Z"
   },
   {
    "duration": 2,
    "start_time": "2023-12-17T13:02:18.526Z"
   },
   {
    "duration": 31,
    "start_time": "2023-12-17T13:02:59.759Z"
   },
   {
    "duration": 31,
    "start_time": "2023-12-17T13:03:46.745Z"
   },
   {
    "duration": 30,
    "start_time": "2023-12-17T13:03:48.864Z"
   },
   {
    "duration": 29,
    "start_time": "2023-12-17T13:03:56.351Z"
   },
   {
    "duration": 76,
    "start_time": "2023-12-17T13:05:10.386Z"
   },
   {
    "duration": 2,
    "start_time": "2023-12-17T13:21:04.095Z"
   },
   {
    "duration": 75,
    "start_time": "2023-12-17T14:05:42.552Z"
   },
   {
    "duration": 77,
    "start_time": "2023-12-17T14:06:02.096Z"
   },
   {
    "duration": 3,
    "start_time": "2023-12-17T14:06:03.416Z"
   },
   {
    "duration": 81,
    "start_time": "2023-12-17T14:06:05.600Z"
   },
   {
    "duration": 85,
    "start_time": "2023-12-17T14:06:46.425Z"
   },
   {
    "duration": 31,
    "start_time": "2023-12-17T14:06:52.458Z"
   },
   {
    "duration": 30,
    "start_time": "2023-12-17T14:07:05.722Z"
   },
   {
    "duration": 28,
    "start_time": "2023-12-17T14:07:15.634Z"
   },
   {
    "duration": 29,
    "start_time": "2023-12-17T14:07:17.753Z"
   },
   {
    "duration": 28,
    "start_time": "2023-12-17T14:07:20.321Z"
   },
   {
    "duration": 28,
    "start_time": "2023-12-17T14:07:23.498Z"
   },
   {
    "duration": 26,
    "start_time": "2023-12-17T14:08:07.763Z"
   },
   {
    "duration": 27,
    "start_time": "2023-12-17T14:08:22.884Z"
   },
   {
    "duration": 26,
    "start_time": "2023-12-17T14:08:29.916Z"
   },
   {
    "duration": 27,
    "start_time": "2023-12-17T14:08:54.180Z"
   },
   {
    "duration": 35,
    "start_time": "2023-12-17T14:09:01.364Z"
   },
   {
    "duration": 26,
    "start_time": "2023-12-17T14:09:07.238Z"
   },
   {
    "duration": 66,
    "start_time": "2023-12-17T14:30:36.985Z"
   },
   {
    "duration": 62,
    "start_time": "2023-12-17T14:30:45.969Z"
   },
   {
    "duration": 61,
    "start_time": "2023-12-17T14:31:05.385Z"
   },
   {
    "duration": 61,
    "start_time": "2023-12-17T14:31:06.826Z"
   },
   {
    "duration": 67,
    "start_time": "2023-12-17T14:31:18.985Z"
   },
   {
    "duration": 66,
    "start_time": "2023-12-17T14:32:07.603Z"
   },
   {
    "duration": 64,
    "start_time": "2023-12-17T14:32:09.018Z"
   },
   {
    "duration": 4,
    "start_time": "2023-12-17T14:32:29.395Z"
   },
   {
    "duration": 3,
    "start_time": "2023-12-17T14:32:37.771Z"
   },
   {
    "duration": 68,
    "start_time": "2023-12-17T14:32:39.660Z"
   },
   {
    "duration": 78,
    "start_time": "2023-12-17T14:32:50.123Z"
   },
   {
    "duration": 3,
    "start_time": "2023-12-17T14:32:57.891Z"
   },
   {
    "duration": 66,
    "start_time": "2023-12-17T14:33:28.572Z"
   },
   {
    "duration": 63,
    "start_time": "2023-12-17T14:33:38.836Z"
   },
   {
    "duration": 66,
    "start_time": "2023-12-17T14:35:08.527Z"
   },
   {
    "duration": 75,
    "start_time": "2023-12-17T14:35:29.680Z"
   },
   {
    "duration": 65,
    "start_time": "2023-12-17T14:35:38.312Z"
   },
   {
    "duration": 65,
    "start_time": "2023-12-17T14:36:51.601Z"
   },
   {
    "duration": 50,
    "start_time": "2023-12-17T14:57:03.779Z"
   },
   {
    "duration": 46,
    "start_time": "2023-12-17T14:57:18.219Z"
   },
   {
    "duration": 45,
    "start_time": "2023-12-17T14:57:26.883Z"
   },
   {
    "duration": 46,
    "start_time": "2023-12-17T14:57:35.187Z"
   },
   {
    "duration": 44,
    "start_time": "2023-12-17T14:58:32.300Z"
   },
   {
    "duration": 52,
    "start_time": "2023-12-17T15:00:35.727Z"
   },
   {
    "duration": 49,
    "start_time": "2023-12-17T15:02:49.306Z"
   },
   {
    "duration": 160,
    "start_time": "2023-12-17T15:03:05.570Z"
   },
   {
    "duration": 49,
    "start_time": "2023-12-17T15:03:09.042Z"
   },
   {
    "duration": 156,
    "start_time": "2023-12-17T15:03:17.059Z"
   },
   {
    "duration": 48,
    "start_time": "2023-12-17T15:03:23.794Z"
   },
   {
    "duration": 4,
    "start_time": "2023-12-17T15:05:08.460Z"
   },
   {
    "duration": 45,
    "start_time": "2023-12-17T15:06:02.373Z"
   },
   {
    "duration": 4,
    "start_time": "2023-12-17T15:06:53.223Z"
   },
   {
    "duration": 4,
    "start_time": "2023-12-17T15:07:05.879Z"
   },
   {
    "duration": 1142,
    "start_time": "2023-12-17T15:28:05.083Z"
   },
   {
    "duration": 0,
    "start_time": "2023-12-17T15:28:07.573Z"
   },
   {
    "duration": 0,
    "start_time": "2023-12-17T15:28:09.499Z"
   },
   {
    "duration": 0,
    "start_time": "2023-12-17T15:28:12.049Z"
   },
   {
    "duration": 1213,
    "start_time": "2023-12-17T15:28:12.787Z"
   },
   {
    "duration": 0,
    "start_time": "2023-12-17T15:28:14.001Z"
   },
   {
    "duration": 1494,
    "start_time": "2023-12-17T15:28:36.821Z"
   },
   {
    "duration": 1582,
    "start_time": "2023-12-17T15:28:38.589Z"
   },
   {
    "duration": 50,
    "start_time": "2023-12-17T15:31:26.656Z"
   },
   {
    "duration": 46,
    "start_time": "2023-12-17T15:31:28.841Z"
   },
   {
    "duration": 43,
    "start_time": "2023-12-17T15:31:41.864Z"
   },
   {
    "duration": 55,
    "start_time": "2023-12-17T15:32:05.226Z"
   },
   {
    "duration": 45,
    "start_time": "2023-12-17T15:32:20.570Z"
   },
   {
    "duration": 47,
    "start_time": "2023-12-17T15:33:18.811Z"
   },
   {
    "duration": 44,
    "start_time": "2023-12-17T15:33:20.667Z"
   },
   {
    "duration": 46,
    "start_time": "2023-12-17T15:33:23.620Z"
   },
   {
    "duration": 3,
    "start_time": "2023-12-17T15:33:24.682Z"
   },
   {
    "duration": 44,
    "start_time": "2023-12-17T15:33:31.898Z"
   },
   {
    "duration": 43,
    "start_time": "2023-12-17T15:33:34.627Z"
   },
   {
    "duration": 1514,
    "start_time": "2023-12-17T15:36:10.175Z"
   },
   {
    "duration": 185,
    "start_time": "2023-12-17T15:36:25.031Z"
   },
   {
    "duration": 155,
    "start_time": "2023-12-17T15:37:24.279Z"
   },
   {
    "duration": 52,
    "start_time": "2023-12-17T15:44:38.386Z"
   },
   {
    "duration": 52,
    "start_time": "2023-12-17T15:45:04.123Z"
   },
   {
    "duration": 189,
    "start_time": "2023-12-17T15:45:48.795Z"
   },
   {
    "duration": 186,
    "start_time": "2023-12-17T15:46:28.460Z"
   },
   {
    "duration": 189,
    "start_time": "2023-12-17T15:46:34.812Z"
   },
   {
    "duration": 313,
    "start_time": "2023-12-17T15:46:42.060Z"
   },
   {
    "duration": 402,
    "start_time": "2023-12-17T15:46:44.212Z"
   },
   {
    "duration": 178,
    "start_time": "2023-12-17T15:47:11.589Z"
   },
   {
    "duration": 184,
    "start_time": "2023-12-17T15:47:16.717Z"
   },
   {
    "duration": 194,
    "start_time": "2023-12-17T15:47:18.100Z"
   },
   {
    "duration": 320,
    "start_time": "2023-12-17T15:47:23.749Z"
   },
   {
    "duration": 340,
    "start_time": "2023-12-17T15:47:27.341Z"
   },
   {
    "duration": 324,
    "start_time": "2023-12-17T15:47:28.269Z"
   },
   {
    "duration": 322,
    "start_time": "2023-12-17T15:47:29.749Z"
   },
   {
    "duration": 71,
    "start_time": "2023-12-17T15:48:06.942Z"
   },
   {
    "duration": 323,
    "start_time": "2023-12-17T15:48:12.429Z"
   },
   {
    "duration": 176,
    "start_time": "2023-12-17T15:48:23.366Z"
   },
   {
    "duration": 80,
    "start_time": "2023-12-17T15:49:45.528Z"
   },
   {
    "duration": 5,
    "start_time": "2023-12-17T15:53:04.843Z"
   },
   {
    "duration": 170,
    "start_time": "2023-12-17T15:55:23.183Z"
   },
   {
    "duration": 446,
    "start_time": "2023-12-17T15:56:15.370Z"
   },
   {
    "duration": 219,
    "start_time": "2023-12-17T15:56:38.347Z"
   },
   {
    "duration": 85,
    "start_time": "2023-12-17T15:56:46.785Z"
   },
   {
    "duration": 9,
    "start_time": "2023-12-17T15:56:50.216Z"
   },
   {
    "duration": 56,
    "start_time": "2023-12-17T15:57:31.354Z"
   },
   {
    "duration": 54,
    "start_time": "2023-12-17T15:58:13.458Z"
   },
   {
    "duration": 54,
    "start_time": "2023-12-17T15:59:09.444Z"
   },
   {
    "duration": 4,
    "start_time": "2023-12-17T16:01:39.927Z"
   },
   {
    "duration": 101,
    "start_time": "2023-12-17T16:01:46.623Z"
   },
   {
    "duration": 79,
    "start_time": "2023-12-17T16:02:21.863Z"
   },
   {
    "duration": 75,
    "start_time": "2023-12-17T16:02:38.513Z"
   },
   {
    "duration": 79,
    "start_time": "2023-12-17T16:02:47.369Z"
   },
   {
    "duration": 78,
    "start_time": "2023-12-17T16:02:48.624Z"
   },
   {
    "duration": 74,
    "start_time": "2023-12-17T16:02:51.192Z"
   },
   {
    "duration": 77,
    "start_time": "2023-12-17T16:02:53.496Z"
   },
   {
    "duration": 55,
    "start_time": "2023-12-17T16:03:14.481Z"
   },
   {
    "duration": 131,
    "start_time": "2023-12-17T16:07:01.695Z"
   },
   {
    "duration": 12,
    "start_time": "2023-12-17T16:07:14.269Z"
   },
   {
    "duration": 91,
    "start_time": "2023-12-17T16:09:55.307Z"
   },
   {
    "duration": 1281,
    "start_time": "2023-12-17T16:12:33.206Z"
   },
   {
    "duration": 1286,
    "start_time": "2023-12-17T16:12:36.413Z"
   },
   {
    "duration": 10,
    "start_time": "2023-12-17T16:15:30.850Z"
   },
   {
    "duration": 7,
    "start_time": "2023-12-17T16:15:39.889Z"
   },
   {
    "duration": 6,
    "start_time": "2023-12-17T16:15:48.360Z"
   },
   {
    "duration": 5,
    "start_time": "2023-12-17T16:15:55.864Z"
   },
   {
    "duration": 118,
    "start_time": "2023-12-17T16:16:14.928Z"
   },
   {
    "duration": 6,
    "start_time": "2023-12-17T16:16:17.049Z"
   },
   {
    "duration": 10,
    "start_time": "2023-12-17T16:16:53.626Z"
   },
   {
    "duration": 8,
    "start_time": "2023-12-17T16:17:14.250Z"
   },
   {
    "duration": 6,
    "start_time": "2023-12-17T16:17:18.803Z"
   },
   {
    "duration": 6,
    "start_time": "2023-12-17T16:17:23.331Z"
   },
   {
    "duration": 4,
    "start_time": "2023-12-17T16:17:26.059Z"
   },
   {
    "duration": 4,
    "start_time": "2023-12-17T16:17:27.466Z"
   },
   {
    "duration": 6,
    "start_time": "2023-12-17T16:17:35.587Z"
   },
   {
    "duration": 86,
    "start_time": "2023-12-17T16:27:12.935Z"
   },
   {
    "duration": 7,
    "start_time": "2023-12-17T16:27:19.959Z"
   },
   {
    "duration": 65,
    "start_time": "2023-12-17T16:27:34.784Z"
   },
   {
    "duration": 69,
    "start_time": "2023-12-17T16:27:48.616Z"
   },
   {
    "duration": 73,
    "start_time": "2023-12-17T16:28:02.312Z"
   },
   {
    "duration": 77,
    "start_time": "2023-12-17T16:28:08.825Z"
   },
   {
    "duration": 117,
    "start_time": "2023-12-17T16:28:09.792Z"
   },
   {
    "duration": 6,
    "start_time": "2023-12-17T16:28:19.096Z"
   },
   {
    "duration": 6,
    "start_time": "2023-12-17T16:29:06.370Z"
   },
   {
    "duration": 6,
    "start_time": "2023-12-17T16:29:16.154Z"
   },
   {
    "duration": 88,
    "start_time": "2023-12-17T16:33:55.873Z"
   },
   {
    "duration": 60,
    "start_time": "2023-12-17T16:34:02.576Z"
   },
   {
    "duration": 6,
    "start_time": "2023-12-17T16:34:06.848Z"
   },
   {
    "duration": 66,
    "start_time": "2023-12-17T16:34:19.585Z"
   },
   {
    "duration": 6,
    "start_time": "2023-12-17T16:34:21.928Z"
   },
   {
    "duration": 97,
    "start_time": "2023-12-17T16:34:28.952Z"
   },
   {
    "duration": 30,
    "start_time": "2023-12-17T16:44:42.487Z"
   },
   {
    "duration": 81,
    "start_time": "2023-12-17T16:47:12.841Z"
   },
   {
    "duration": 36,
    "start_time": "2023-12-17T16:55:44.308Z"
   },
   {
    "duration": 34,
    "start_time": "2023-12-17T16:55:58.236Z"
   },
   {
    "duration": 35,
    "start_time": "2023-12-17T16:56:02.149Z"
   },
   {
    "duration": 34,
    "start_time": "2023-12-17T16:56:05.069Z"
   },
   {
    "duration": 38,
    "start_time": "2023-12-17T16:56:48.934Z"
   },
   {
    "duration": 28,
    "start_time": "2023-12-17T16:57:42.351Z"
   },
   {
    "duration": 27,
    "start_time": "2023-12-17T16:57:43.895Z"
   },
   {
    "duration": 73,
    "start_time": "2023-12-17T16:58:47.969Z"
   },
   {
    "duration": 5,
    "start_time": "2023-12-17T17:15:39.287Z"
   },
   {
    "duration": 88,
    "start_time": "2023-12-17T17:33:13.399Z"
   },
   {
    "duration": 27,
    "start_time": "2023-12-17T17:42:55.122Z"
   },
   {
    "duration": 15,
    "start_time": "2023-12-17T17:44:13.053Z"
   },
   {
    "duration": 97,
    "start_time": "2023-12-17T17:44:25.500Z"
   },
   {
    "duration": 1120,
    "start_time": "2023-12-17T17:46:12.063Z"
   },
   {
    "duration": 0,
    "start_time": "2023-12-17T17:46:19.113Z"
   },
   {
    "duration": 1052,
    "start_time": "2023-12-17T17:46:19.982Z"
   },
   {
    "duration": 994,
    "start_time": "2023-12-17T17:46:21.943Z"
   },
   {
    "duration": 953,
    "start_time": "2023-12-17T17:46:23.030Z"
   },
   {
    "duration": 910,
    "start_time": "2023-12-17T17:46:55.944Z"
   },
   {
    "duration": 1315,
    "start_time": "2023-12-17T17:47:22.985Z"
   },
   {
    "duration": 1147,
    "start_time": "2023-12-17T17:47:24.624Z"
   },
   {
    "duration": 1040,
    "start_time": "2023-12-17T17:47:26.192Z"
   },
   {
    "duration": 944,
    "start_time": "2023-12-17T17:47:37.107Z"
   },
   {
    "duration": 1018,
    "start_time": "2023-12-17T17:48:46.451Z"
   },
   {
    "duration": 1015,
    "start_time": "2023-12-17T17:48:57.898Z"
   },
   {
    "duration": 986,
    "start_time": "2023-12-17T17:50:19.731Z"
   },
   {
    "duration": 1088,
    "start_time": "2023-12-17T17:50:20.829Z"
   },
   {
    "duration": 31,
    "start_time": "2023-12-17T17:50:40.548Z"
   },
   {
    "duration": 36,
    "start_time": "2023-12-17T17:51:21.428Z"
   },
   {
    "duration": 35,
    "start_time": "2023-12-17T17:51:30.413Z"
   },
   {
    "duration": 34,
    "start_time": "2023-12-17T17:51:51.078Z"
   },
   {
    "duration": 35,
    "start_time": "2023-12-17T17:52:08.726Z"
   },
   {
    "duration": 1033,
    "start_time": "2023-12-17T17:52:18.382Z"
   },
   {
    "duration": 1130,
    "start_time": "2023-12-17T17:52:31.150Z"
   },
   {
    "duration": 1137,
    "start_time": "2023-12-17T17:52:37.439Z"
   },
   {
    "duration": 950,
    "start_time": "2023-12-17T17:52:58.775Z"
   },
   {
    "duration": 32,
    "start_time": "2023-12-17T17:53:08.822Z"
   },
   {
    "duration": 32,
    "start_time": "2023-12-17T17:53:35.550Z"
   },
   {
    "duration": 48,
    "start_time": "2023-12-17T17:54:53.977Z"
   },
   {
    "duration": 112,
    "start_time": "2023-12-17T17:54:58.369Z"
   },
   {
    "duration": 106,
    "start_time": "2023-12-17T17:55:02.313Z"
   },
   {
    "duration": 100,
    "start_time": "2023-12-17T17:55:04.754Z"
   },
   {
    "duration": 104,
    "start_time": "2023-12-17T17:55:05.977Z"
   },
   {
    "duration": 97,
    "start_time": "2023-12-17T17:55:07.833Z"
   },
   {
    "duration": 97,
    "start_time": "2023-12-17T17:55:10.593Z"
   },
   {
    "duration": 29,
    "start_time": "2023-12-17T17:55:16.113Z"
   },
   {
    "duration": 103,
    "start_time": "2023-12-17T17:55:22.081Z"
   },
   {
    "duration": 109,
    "start_time": "2023-12-17T17:55:36.265Z"
   },
   {
    "duration": 118,
    "start_time": "2023-12-17T17:56:48.331Z"
   },
   {
    "duration": 109,
    "start_time": "2023-12-17T17:57:11.172Z"
   },
   {
    "duration": 112,
    "start_time": "2023-12-17T17:57:12.069Z"
   },
   {
    "duration": 117,
    "start_time": "2023-12-17T17:57:13.229Z"
   },
   {
    "duration": 108,
    "start_time": "2023-12-17T17:57:23.173Z"
   },
   {
    "duration": 112,
    "start_time": "2023-12-17T17:57:25.453Z"
   },
   {
    "duration": 106,
    "start_time": "2023-12-17T17:57:28.468Z"
   },
   {
    "duration": 121,
    "start_time": "2023-12-17T17:57:42.717Z"
   },
   {
    "duration": 77,
    "start_time": "2023-12-17T17:58:13.807Z"
   },
   {
    "duration": 78,
    "start_time": "2023-12-17T17:58:18.365Z"
   },
   {
    "duration": 11,
    "start_time": "2023-12-17T18:00:04.720Z"
   },
   {
    "duration": 1327,
    "start_time": "2023-12-17T18:00:11.431Z"
   },
   {
    "duration": 115,
    "start_time": "2023-12-17T18:00:18.488Z"
   },
   {
    "duration": 1202,
    "start_time": "2023-12-17T18:01:44.642Z"
   },
   {
    "duration": 18,
    "start_time": "2023-12-17T18:02:00.555Z"
   },
   {
    "duration": 16,
    "start_time": "2023-12-17T18:02:05.434Z"
   },
   {
    "duration": 6,
    "start_time": "2023-12-17T18:02:10.050Z"
   },
   {
    "duration": 5,
    "start_time": "2023-12-17T18:02:55.202Z"
   },
   {
    "duration": 167,
    "start_time": "2023-12-17T18:02:56.579Z"
   },
   {
    "duration": 17,
    "start_time": "2023-12-17T18:03:03.772Z"
   },
   {
    "duration": 16,
    "start_time": "2023-12-17T18:03:34.253Z"
   },
   {
    "duration": 1200,
    "start_time": "2023-12-17T18:03:42.795Z"
   },
   {
    "duration": 170,
    "start_time": "2023-12-17T18:03:43.997Z"
   },
   {
    "duration": 29,
    "start_time": "2023-12-17T18:03:44.168Z"
   },
   {
    "duration": 14,
    "start_time": "2023-12-17T18:03:44.199Z"
   },
   {
    "duration": 15,
    "start_time": "2023-12-17T18:03:44.214Z"
   },
   {
    "duration": 53,
    "start_time": "2023-12-17T18:03:44.231Z"
   },
   {
    "duration": 5,
    "start_time": "2023-12-17T18:03:44.286Z"
   },
   {
    "duration": 125,
    "start_time": "2023-12-17T18:03:44.294Z"
   },
   {
    "duration": 61,
    "start_time": "2023-12-17T18:03:44.421Z"
   },
   {
    "duration": 113,
    "start_time": "2023-12-17T18:03:44.484Z"
   },
   {
    "duration": 158,
    "start_time": "2023-12-17T18:03:44.599Z"
   },
   {
    "duration": 8,
    "start_time": "2023-12-17T18:03:44.758Z"
   },
   {
    "duration": 43,
    "start_time": "2023-12-17T18:03:44.767Z"
   },
   {
    "duration": 7,
    "start_time": "2023-12-17T18:03:44.811Z"
   },
   {
    "duration": 68,
    "start_time": "2023-12-17T18:03:44.819Z"
   },
   {
    "duration": 26,
    "start_time": "2023-12-17T18:03:44.889Z"
   },
   {
    "duration": 10,
    "start_time": "2023-12-17T18:03:44.917Z"
   },
   {
    "duration": 394,
    "start_time": "2023-12-17T18:03:44.928Z"
   },
   {
    "duration": 11,
    "start_time": "2023-12-17T18:03:45.323Z"
   },
   {
    "duration": 52,
    "start_time": "2023-12-17T18:03:45.335Z"
   },
   {
    "duration": 91,
    "start_time": "2023-12-17T18:03:45.389Z"
   },
   {
    "duration": 217,
    "start_time": "2023-12-17T18:03:45.482Z"
   },
   {
    "duration": 32,
    "start_time": "2023-12-17T18:03:45.701Z"
   },
   {
    "duration": 44,
    "start_time": "2023-12-17T18:03:45.734Z"
   },
   {
    "duration": 26,
    "start_time": "2023-12-17T18:03:45.780Z"
   },
   {
    "duration": 89,
    "start_time": "2023-12-17T18:03:45.807Z"
   },
   {
    "duration": 3,
    "start_time": "2023-12-17T18:03:45.897Z"
   },
   {
    "duration": 63,
    "start_time": "2023-12-17T18:03:45.903Z"
   },
   {
    "duration": 4,
    "start_time": "2023-12-17T18:03:45.968Z"
   },
   {
    "duration": 184,
    "start_time": "2023-12-17T18:03:45.973Z"
   },
   {
    "duration": 7,
    "start_time": "2023-12-17T18:03:46.159Z"
   },
   {
    "duration": 86,
    "start_time": "2023-12-17T18:03:46.168Z"
   },
   {
    "duration": 29,
    "start_time": "2023-12-17T18:03:46.256Z"
   },
   {
    "duration": 189,
    "start_time": "2023-12-17T18:03:46.287Z"
   },
   {
    "duration": 114,
    "start_time": "2023-12-17T18:03:46.477Z"
   },
   {
    "duration": 13,
    "start_time": "2023-12-17T18:03:54.085Z"
   },
   {
    "duration": 14,
    "start_time": "2023-12-17T18:04:13.758Z"
   },
   {
    "duration": 13,
    "start_time": "2023-12-17T18:04:17.221Z"
   },
   {
    "duration": 5,
    "start_time": "2023-12-17T18:04:39.974Z"
   },
   {
    "duration": 13,
    "start_time": "2023-12-17T18:04:44.086Z"
   },
   {
    "duration": 13,
    "start_time": "2023-12-17T18:04:47.998Z"
   },
   {
    "duration": 5,
    "start_time": "2023-12-17T18:05:44.703Z"
   },
   {
    "duration": 971,
    "start_time": "2023-12-17T18:05:49.063Z"
   },
   {
    "duration": 133,
    "start_time": "2023-12-17T18:06:16.688Z"
   },
   {
    "duration": 931,
    "start_time": "2023-12-17T18:06:31.001Z"
   },
   {
    "duration": 1130,
    "start_time": "2023-12-17T18:07:35.306Z"
   },
   {
    "duration": 185,
    "start_time": "2023-12-17T18:07:42.970Z"
   },
   {
    "duration": 932,
    "start_time": "2023-12-17T18:07:46.860Z"
   },
   {
    "duration": 1094,
    "start_time": "2023-12-17T18:11:12.136Z"
   },
   {
    "duration": 944,
    "start_time": "2023-12-17T18:11:19.232Z"
   },
   {
    "duration": 36,
    "start_time": "2023-12-17T18:12:01.480Z"
   },
   {
    "duration": 964,
    "start_time": "2023-12-17T18:13:36.340Z"
   },
   {
    "duration": 1096,
    "start_time": "2023-12-17T18:14:03.036Z"
   },
   {
    "duration": 973,
    "start_time": "2023-12-17T18:14:50.789Z"
   },
   {
    "duration": 1198,
    "start_time": "2023-12-17T18:14:56.978Z"
   },
   {
    "duration": 174,
    "start_time": "2023-12-17T18:14:58.178Z"
   },
   {
    "duration": 31,
    "start_time": "2023-12-17T18:14:58.354Z"
   },
   {
    "duration": 12,
    "start_time": "2023-12-17T18:14:58.387Z"
   },
   {
    "duration": 18,
    "start_time": "2023-12-17T18:14:58.401Z"
   },
   {
    "duration": 60,
    "start_time": "2023-12-17T18:14:58.421Z"
   },
   {
    "duration": 5,
    "start_time": "2023-12-17T18:14:58.483Z"
   },
   {
    "duration": 86,
    "start_time": "2023-12-17T18:14:58.489Z"
   },
   {
    "duration": 50,
    "start_time": "2023-12-17T18:14:58.576Z"
   },
   {
    "duration": 118,
    "start_time": "2023-12-17T18:14:58.629Z"
   },
   {
    "duration": 128,
    "start_time": "2023-12-17T18:14:58.752Z"
   },
   {
    "duration": 7,
    "start_time": "2023-12-17T18:14:58.881Z"
   },
   {
    "duration": 42,
    "start_time": "2023-12-17T18:14:58.889Z"
   },
   {
    "duration": 24,
    "start_time": "2023-12-17T18:14:58.932Z"
   },
   {
    "duration": 53,
    "start_time": "2023-12-17T18:14:58.957Z"
   },
   {
    "duration": 27,
    "start_time": "2023-12-17T18:14:59.011Z"
   },
   {
    "duration": 7,
    "start_time": "2023-12-17T18:14:59.052Z"
   },
   {
    "duration": 331,
    "start_time": "2023-12-17T18:14:59.060Z"
   },
   {
    "duration": 10,
    "start_time": "2023-12-17T18:14:59.393Z"
   },
   {
    "duration": 50,
    "start_time": "2023-12-17T18:14:59.404Z"
   },
   {
    "duration": 78,
    "start_time": "2023-12-17T18:14:59.456Z"
   },
   {
    "duration": 189,
    "start_time": "2023-12-17T18:14:59.552Z"
   },
   {
    "duration": 35,
    "start_time": "2023-12-17T18:14:59.743Z"
   },
   {
    "duration": 31,
    "start_time": "2023-12-17T18:14:59.779Z"
   },
   {
    "duration": 41,
    "start_time": "2023-12-17T18:14:59.812Z"
   },
   {
    "duration": 70,
    "start_time": "2023-12-17T18:14:59.854Z"
   },
   {
    "duration": 2,
    "start_time": "2023-12-17T18:14:59.925Z"
   },
   {
    "duration": 66,
    "start_time": "2023-12-17T18:14:59.931Z"
   },
   {
    "duration": 4,
    "start_time": "2023-12-17T18:14:59.999Z"
   },
   {
    "duration": 221,
    "start_time": "2023-12-17T18:15:00.005Z"
   },
   {
    "duration": 5,
    "start_time": "2023-12-17T18:15:00.229Z"
   },
   {
    "duration": 59,
    "start_time": "2023-12-17T18:15:00.236Z"
   },
   {
    "duration": 77,
    "start_time": "2023-12-17T18:15:00.297Z"
   },
   {
    "duration": 124,
    "start_time": "2023-12-17T18:15:00.375Z"
   },
   {
    "duration": 12,
    "start_time": "2023-12-17T18:15:11.268Z"
   },
   {
    "duration": 6,
    "start_time": "2023-12-17T18:15:30.356Z"
   },
   {
    "duration": 5,
    "start_time": "2023-12-17T18:15:32.541Z"
   },
   {
    "duration": 6,
    "start_time": "2023-12-17T18:15:35.685Z"
   },
   {
    "duration": 8,
    "start_time": "2023-12-17T18:16:54.670Z"
   },
   {
    "duration": 26,
    "start_time": "2023-12-17T18:17:06.439Z"
   },
   {
    "duration": 24,
    "start_time": "2023-12-17T18:17:10.326Z"
   },
   {
    "duration": 6,
    "start_time": "2023-12-17T18:17:25.367Z"
   },
   {
    "duration": 6,
    "start_time": "2023-12-17T18:17:35.895Z"
   },
   {
    "duration": 42,
    "start_time": "2023-12-17T18:17:37.271Z"
   },
   {
    "duration": 6,
    "start_time": "2023-12-17T18:17:55.530Z"
   },
   {
    "duration": 54,
    "start_time": "2023-12-17T18:17:57.480Z"
   },
   {
    "duration": 51,
    "start_time": "2023-12-17T18:18:00.793Z"
   },
   {
    "duration": 6,
    "start_time": "2023-12-17T18:18:21.191Z"
   },
   {
    "duration": 5,
    "start_time": "2023-12-17T18:18:23.119Z"
   },
   {
    "duration": 6,
    "start_time": "2023-12-17T18:18:26.681Z"
   },
   {
    "duration": 133,
    "start_time": "2023-12-17T18:18:27.514Z"
   },
   {
    "duration": 6,
    "start_time": "2023-12-17T18:18:59.081Z"
   },
   {
    "duration": 10,
    "start_time": "2023-12-17T18:19:09.377Z"
   },
   {
    "duration": 6,
    "start_time": "2023-12-17T18:19:11.043Z"
   },
   {
    "duration": 6,
    "start_time": "2023-12-17T18:19:12.075Z"
   },
   {
    "duration": 125,
    "start_time": "2023-12-17T18:19:13.738Z"
   },
   {
    "duration": 177,
    "start_time": "2023-12-17T18:20:12.277Z"
   },
   {
    "duration": 122,
    "start_time": "2023-12-17T18:20:24.437Z"
   },
   {
    "duration": 120,
    "start_time": "2023-12-17T18:20:47.025Z"
   },
   {
    "duration": 123,
    "start_time": "2023-12-17T18:28:29.279Z"
   },
   {
    "duration": 88,
    "start_time": "2023-12-17T18:29:15.472Z"
   },
   {
    "duration": 126,
    "start_time": "2023-12-17T18:30:45.267Z"
   },
   {
    "duration": 124,
    "start_time": "2023-12-17T18:31:04.411Z"
   },
   {
    "duration": 120,
    "start_time": "2023-12-17T18:31:19.515Z"
   },
   {
    "duration": 117,
    "start_time": "2023-12-17T18:32:22.267Z"
   },
   {
    "duration": 115,
    "start_time": "2023-12-17T18:32:33.330Z"
   },
   {
    "duration": 105,
    "start_time": "2023-12-17T18:47:32.911Z"
   },
   {
    "duration": 8,
    "start_time": "2023-12-17T18:51:32.372Z"
   },
   {
    "duration": 43,
    "start_time": "2023-12-17T18:51:43.372Z"
   },
   {
    "duration": 44,
    "start_time": "2023-12-17T18:51:50.948Z"
   },
   {
    "duration": 35,
    "start_time": "2023-12-17T18:52:21.398Z"
   },
   {
    "duration": 43,
    "start_time": "2023-12-17T18:53:12.278Z"
   },
   {
    "duration": 42,
    "start_time": "2023-12-17T18:53:17.926Z"
   },
   {
    "duration": 45,
    "start_time": "2023-12-17T18:53:22.965Z"
   },
   {
    "duration": 45,
    "start_time": "2023-12-17T18:53:39.198Z"
   },
   {
    "duration": 1198,
    "start_time": "2023-12-17T18:53:47.643Z"
   },
   {
    "duration": 159,
    "start_time": "2023-12-17T18:53:48.843Z"
   },
   {
    "duration": 28,
    "start_time": "2023-12-17T18:53:49.004Z"
   },
   {
    "duration": 19,
    "start_time": "2023-12-17T18:53:49.034Z"
   },
   {
    "duration": 15,
    "start_time": "2023-12-17T18:53:49.054Z"
   },
   {
    "duration": 34,
    "start_time": "2023-12-17T18:53:49.070Z"
   },
   {
    "duration": 5,
    "start_time": "2023-12-17T18:53:49.106Z"
   },
   {
    "duration": 96,
    "start_time": "2023-12-17T18:53:49.112Z"
   },
   {
    "duration": 62,
    "start_time": "2023-12-17T18:53:49.210Z"
   },
   {
    "duration": 112,
    "start_time": "2023-12-17T18:53:49.276Z"
   },
   {
    "duration": 140,
    "start_time": "2023-12-17T18:53:49.390Z"
   },
   {
    "duration": 22,
    "start_time": "2023-12-17T18:53:49.531Z"
   },
   {
    "duration": 32,
    "start_time": "2023-12-17T18:53:49.555Z"
   },
   {
    "duration": 6,
    "start_time": "2023-12-17T18:53:49.588Z"
   },
   {
    "duration": 71,
    "start_time": "2023-12-17T18:53:49.595Z"
   },
   {
    "duration": 27,
    "start_time": "2023-12-17T18:53:49.667Z"
   },
   {
    "duration": 7,
    "start_time": "2023-12-17T18:53:49.696Z"
   },
   {
    "duration": 324,
    "start_time": "2023-12-17T18:53:49.704Z"
   },
   {
    "duration": 12,
    "start_time": "2023-12-17T18:53:50.029Z"
   },
   {
    "duration": 38,
    "start_time": "2023-12-17T18:53:50.052Z"
   },
   {
    "duration": 99,
    "start_time": "2023-12-17T18:53:50.092Z"
   },
   {
    "duration": 199,
    "start_time": "2023-12-17T18:53:50.193Z"
   },
   {
    "duration": 30,
    "start_time": "2023-12-17T18:53:50.394Z"
   },
   {
    "duration": 49,
    "start_time": "2023-12-17T18:53:50.425Z"
   },
   {
    "duration": 28,
    "start_time": "2023-12-17T18:53:50.475Z"
   },
   {
    "duration": 81,
    "start_time": "2023-12-17T18:53:50.504Z"
   },
   {
    "duration": 3,
    "start_time": "2023-12-17T18:53:50.586Z"
   },
   {
    "duration": 74,
    "start_time": "2023-12-17T18:53:50.591Z"
   },
   {
    "duration": 4,
    "start_time": "2023-12-17T18:53:50.667Z"
   },
   {
    "duration": 178,
    "start_time": "2023-12-17T18:53:50.673Z"
   },
   {
    "duration": 6,
    "start_time": "2023-12-17T18:53:50.854Z"
   },
   {
    "duration": 92,
    "start_time": "2023-12-17T18:53:50.861Z"
   },
   {
    "duration": 31,
    "start_time": "2023-12-17T18:53:50.955Z"
   },
   {
    "duration": 5,
    "start_time": "2023-12-17T18:53:50.988Z"
   },
   {
    "duration": 159,
    "start_time": "2023-12-17T18:53:50.994Z"
   },
   {
    "duration": 119,
    "start_time": "2023-12-17T18:53:51.155Z"
   },
   {
    "duration": 128,
    "start_time": "2023-12-17T18:53:51.276Z"
   },
   {
    "duration": 122,
    "start_time": "2023-12-17T18:53:51.405Z"
   },
   {
    "duration": 130,
    "start_time": "2023-12-17T18:53:51.528Z"
   },
   {
    "duration": 135,
    "start_time": "2023-12-17T18:53:51.660Z"
   },
   {
    "duration": 139,
    "start_time": "2023-12-17T18:53:51.796Z"
   },
   {
    "duration": 43,
    "start_time": "2023-12-17T18:55:16.640Z"
   },
   {
    "duration": 9,
    "start_time": "2023-12-17T18:59:42.573Z"
   },
   {
    "duration": 127,
    "start_time": "2023-12-17T19:00:07.910Z"
   },
   {
    "duration": 104,
    "start_time": "2023-12-17T19:02:39.681Z"
   },
   {
    "duration": 35,
    "start_time": "2023-12-17T19:05:33.414Z"
   },
   {
    "duration": 1144,
    "start_time": "2023-12-17T19:05:41.398Z"
   },
   {
    "duration": 1166,
    "start_time": "2023-12-17T19:05:54.326Z"
   },
   {
    "duration": 1186,
    "start_time": "2023-12-17T19:06:16.910Z"
   },
   {
    "duration": 1232,
    "start_time": "2023-12-17T19:07:05.063Z"
   },
   {
    "duration": 1305,
    "start_time": "2023-12-17T19:10:24.422Z"
   },
   {
    "duration": 1190,
    "start_time": "2023-12-17T19:10:39.373Z"
   },
   {
    "duration": 1267,
    "start_time": "2023-12-17T19:10:51.566Z"
   },
   {
    "duration": 27,
    "start_time": "2023-12-17T19:11:58.199Z"
   },
   {
    "duration": 117,
    "start_time": "2023-12-17T19:12:06.086Z"
   },
   {
    "duration": 131,
    "start_time": "2023-12-17T19:13:00.647Z"
   },
   {
    "duration": 133,
    "start_time": "2023-12-17T19:13:14.535Z"
   },
   {
    "duration": 13,
    "start_time": "2023-12-17T19:13:31.704Z"
   },
   {
    "duration": 14,
    "start_time": "2023-12-17T19:13:37.759Z"
   },
   {
    "duration": 13,
    "start_time": "2023-12-17T19:13:38.888Z"
   },
   {
    "duration": 13,
    "start_time": "2023-12-17T19:13:39.720Z"
   },
   {
    "duration": 14,
    "start_time": "2023-12-17T19:13:49.344Z"
   },
   {
    "duration": 14,
    "start_time": "2023-12-17T19:13:55.120Z"
   },
   {
    "duration": 13,
    "start_time": "2023-12-17T19:13:58.841Z"
   },
   {
    "duration": 1133,
    "start_time": "2023-12-17T19:14:05.185Z"
   },
   {
    "duration": 172,
    "start_time": "2023-12-17T19:14:06.320Z"
   },
   {
    "duration": 29,
    "start_time": "2023-12-17T19:14:06.493Z"
   },
   {
    "duration": 12,
    "start_time": "2023-12-17T19:14:06.523Z"
   },
   {
    "duration": 17,
    "start_time": "2023-12-17T19:14:06.552Z"
   },
   {
    "duration": 39,
    "start_time": "2023-12-17T19:14:06.570Z"
   },
   {
    "duration": 4,
    "start_time": "2023-12-17T19:14:06.611Z"
   },
   {
    "duration": 91,
    "start_time": "2023-12-17T19:14:06.617Z"
   },
   {
    "duration": 56,
    "start_time": "2023-12-17T19:14:06.709Z"
   },
   {
    "duration": 108,
    "start_time": "2023-12-17T19:14:06.767Z"
   },
   {
    "duration": 129,
    "start_time": "2023-12-17T19:14:06.877Z"
   },
   {
    "duration": 7,
    "start_time": "2023-12-17T19:14:07.008Z"
   },
   {
    "duration": 55,
    "start_time": "2023-12-17T19:14:07.016Z"
   },
   {
    "duration": 6,
    "start_time": "2023-12-17T19:14:07.073Z"
   },
   {
    "duration": 122,
    "start_time": "2023-12-17T19:14:07.080Z"
   },
   {
    "duration": 25,
    "start_time": "2023-12-17T19:14:07.204Z"
   },
   {
    "duration": 7,
    "start_time": "2023-12-17T19:14:07.230Z"
   },
   {
    "duration": 341,
    "start_time": "2023-12-17T19:14:07.239Z"
   },
   {
    "duration": 10,
    "start_time": "2023-12-17T19:14:07.582Z"
   },
   {
    "duration": 35,
    "start_time": "2023-12-17T19:14:07.594Z"
   },
   {
    "duration": 88,
    "start_time": "2023-12-17T19:14:07.630Z"
   },
   {
    "duration": 198,
    "start_time": "2023-12-17T19:14:07.719Z"
   },
   {
    "duration": 34,
    "start_time": "2023-12-17T19:14:07.919Z"
   },
   {
    "duration": 66,
    "start_time": "2023-12-17T19:14:07.954Z"
   },
   {
    "duration": 26,
    "start_time": "2023-12-17T19:14:08.022Z"
   },
   {
    "duration": 77,
    "start_time": "2023-12-17T19:14:08.049Z"
   },
   {
    "duration": 3,
    "start_time": "2023-12-17T19:14:08.127Z"
   },
   {
    "duration": 91,
    "start_time": "2023-12-17T19:14:08.133Z"
   },
   {
    "duration": 18,
    "start_time": "2023-12-17T19:14:08.226Z"
   },
   {
    "duration": 204,
    "start_time": "2023-12-17T19:14:08.245Z"
   },
   {
    "duration": 5,
    "start_time": "2023-12-17T19:14:08.450Z"
   },
   {
    "duration": 42,
    "start_time": "2023-12-17T19:14:08.457Z"
   },
   {
    "duration": 73,
    "start_time": "2023-12-17T19:14:08.501Z"
   },
   {
    "duration": 6,
    "start_time": "2023-12-17T19:14:08.576Z"
   },
   {
    "duration": 156,
    "start_time": "2023-12-17T19:14:08.583Z"
   },
   {
    "duration": 125,
    "start_time": "2023-12-17T19:14:08.741Z"
   },
   {
    "duration": 130,
    "start_time": "2023-12-17T19:14:08.868Z"
   },
   {
    "duration": 129,
    "start_time": "2023-12-17T19:14:08.999Z"
   },
   {
    "duration": 138,
    "start_time": "2023-12-17T19:14:09.129Z"
   },
   {
    "duration": 141,
    "start_time": "2023-12-17T19:14:09.269Z"
   },
   {
    "duration": 15,
    "start_time": "2023-12-17T19:14:09.411Z"
   },
   {
    "duration": 25,
    "start_time": "2023-12-17T19:14:09.428Z"
   },
   {
    "duration": 19,
    "start_time": "2023-12-17T19:15:28.603Z"
   },
   {
    "duration": 19,
    "start_time": "2023-12-17T19:15:30.282Z"
   },
   {
    "duration": 14,
    "start_time": "2023-12-17T19:15:31.586Z"
   },
   {
    "duration": 14,
    "start_time": "2023-12-17T19:15:34.667Z"
   },
   {
    "duration": 14,
    "start_time": "2023-12-17T19:15:36.307Z"
   },
   {
    "duration": 13,
    "start_time": "2023-12-17T19:15:40.027Z"
   },
   {
    "duration": 2,
    "start_time": "2023-12-17T19:15:41.311Z"
   },
   {
    "duration": 127,
    "start_time": "2023-12-17T19:16:17.051Z"
   },
   {
    "duration": 135,
    "start_time": "2023-12-17T19:16:36.012Z"
   },
   {
    "duration": 128,
    "start_time": "2023-12-17T19:16:50.389Z"
   },
   {
    "duration": 116,
    "start_time": "2023-12-17T19:17:00.044Z"
   },
   {
    "duration": 1212,
    "start_time": "2023-12-17T19:17:13.241Z"
   },
   {
    "duration": 163,
    "start_time": "2023-12-17T19:17:14.454Z"
   },
   {
    "duration": 35,
    "start_time": "2023-12-17T19:17:14.618Z"
   },
   {
    "duration": 13,
    "start_time": "2023-12-17T19:17:14.655Z"
   },
   {
    "duration": 32,
    "start_time": "2023-12-17T19:17:14.670Z"
   },
   {
    "duration": 34,
    "start_time": "2023-12-17T19:17:14.704Z"
   },
   {
    "duration": 16,
    "start_time": "2023-12-17T19:17:14.739Z"
   },
   {
    "duration": 77,
    "start_time": "2023-12-17T19:17:14.757Z"
   },
   {
    "duration": 64,
    "start_time": "2023-12-17T19:17:14.836Z"
   },
   {
    "duration": 126,
    "start_time": "2023-12-17T19:17:14.902Z"
   },
   {
    "duration": 140,
    "start_time": "2023-12-17T19:17:15.030Z"
   },
   {
    "duration": 7,
    "start_time": "2023-12-17T19:17:15.171Z"
   },
   {
    "duration": 40,
    "start_time": "2023-12-17T19:17:15.179Z"
   },
   {
    "duration": 6,
    "start_time": "2023-12-17T19:17:15.221Z"
   },
   {
    "duration": 68,
    "start_time": "2023-12-17T19:17:15.228Z"
   },
   {
    "duration": 25,
    "start_time": "2023-12-17T19:17:15.298Z"
   },
   {
    "duration": 7,
    "start_time": "2023-12-17T19:17:15.325Z"
   },
   {
    "duration": 310,
    "start_time": "2023-12-17T19:17:15.351Z"
   },
   {
    "duration": 10,
    "start_time": "2023-12-17T19:17:15.662Z"
   },
   {
    "duration": 45,
    "start_time": "2023-12-17T19:17:15.674Z"
   },
   {
    "duration": 83,
    "start_time": "2023-12-17T19:17:15.721Z"
   },
   {
    "duration": 214,
    "start_time": "2023-12-17T19:17:15.805Z"
   },
   {
    "duration": 40,
    "start_time": "2023-12-17T19:17:16.021Z"
   },
   {
    "duration": 40,
    "start_time": "2023-12-17T19:17:16.063Z"
   },
   {
    "duration": 33,
    "start_time": "2023-12-17T19:17:16.105Z"
   },
   {
    "duration": 68,
    "start_time": "2023-12-17T19:17:16.152Z"
   },
   {
    "duration": 2,
    "start_time": "2023-12-17T19:17:16.221Z"
   },
   {
    "duration": 76,
    "start_time": "2023-12-17T19:17:16.226Z"
   },
   {
    "duration": 4,
    "start_time": "2023-12-17T19:17:16.303Z"
   },
   {
    "duration": 178,
    "start_time": "2023-12-17T19:17:16.308Z"
   },
   {
    "duration": 5,
    "start_time": "2023-12-17T19:17:16.488Z"
   },
   {
    "duration": 75,
    "start_time": "2023-12-17T19:17:16.495Z"
   },
   {
    "duration": 29,
    "start_time": "2023-12-17T19:17:16.571Z"
   },
   {
    "duration": 6,
    "start_time": "2023-12-17T19:17:16.653Z"
   },
   {
    "duration": 131,
    "start_time": "2023-12-17T19:17:16.661Z"
   },
   {
    "duration": 124,
    "start_time": "2023-12-17T19:17:16.793Z"
   },
   {
    "duration": 136,
    "start_time": "2023-12-17T19:17:16.918Z"
   },
   {
    "duration": 155,
    "start_time": "2023-12-17T19:17:17.056Z"
   },
   {
    "duration": 150,
    "start_time": "2023-12-17T19:17:17.212Z"
   },
   {
    "duration": 126,
    "start_time": "2023-12-17T19:17:17.364Z"
   },
   {
    "duration": 139,
    "start_time": "2023-12-17T19:17:17.492Z"
   },
   {
    "duration": 123,
    "start_time": "2023-12-17T19:17:17.633Z"
   },
   {
    "duration": 138,
    "start_time": "2023-12-17T19:17:26.702Z"
   },
   {
    "duration": 14,
    "start_time": "2023-12-17T19:18:30.105Z"
   },
   {
    "duration": 15,
    "start_time": "2023-12-17T19:18:56.791Z"
   },
   {
    "duration": 13,
    "start_time": "2023-12-17T19:19:02.120Z"
   },
   {
    "duration": 11,
    "start_time": "2023-12-17T19:19:03.248Z"
   },
   {
    "duration": 11,
    "start_time": "2023-12-17T19:19:19.672Z"
   },
   {
    "duration": 11,
    "start_time": "2023-12-17T19:19:22.240Z"
   },
   {
    "duration": 11,
    "start_time": "2023-12-17T19:19:44.857Z"
   },
   {
    "duration": 12,
    "start_time": "2023-12-17T19:22:14.356Z"
   },
   {
    "duration": 12,
    "start_time": "2023-12-17T19:22:16.124Z"
   },
   {
    "duration": 102,
    "start_time": "2023-12-17T19:22:17.308Z"
   },
   {
    "duration": 8,
    "start_time": "2023-12-17T19:22:23.597Z"
   },
   {
    "duration": 124,
    "start_time": "2023-12-17T19:22:37.685Z"
   },
   {
    "duration": 107,
    "start_time": "2023-12-17T19:22:46.485Z"
   },
   {
    "duration": 119,
    "start_time": "2023-12-17T19:22:55.653Z"
   },
   {
    "duration": 112,
    "start_time": "2023-12-17T19:23:19.622Z"
   },
   {
    "duration": 77,
    "start_time": "2023-12-17T19:24:51.696Z"
   },
   {
    "duration": 1194,
    "start_time": "2023-12-17T19:24:58.368Z"
   },
   {
    "duration": 72,
    "start_time": "2023-12-17T19:25:07.993Z"
   },
   {
    "duration": 71,
    "start_time": "2023-12-17T19:25:11.946Z"
   },
   {
    "duration": 73,
    "start_time": "2023-12-17T19:25:18.041Z"
   },
   {
    "duration": 77,
    "start_time": "2023-12-17T19:25:23.499Z"
   },
   {
    "duration": 70,
    "start_time": "2023-12-17T19:25:35.810Z"
   },
   {
    "duration": 69,
    "start_time": "2023-12-17T19:25:52.529Z"
   },
   {
    "duration": 68,
    "start_time": "2023-12-17T19:26:17.650Z"
   },
   {
    "duration": 71,
    "start_time": "2023-12-17T19:26:26.507Z"
   },
   {
    "duration": 1271,
    "start_time": "2023-12-17T19:26:49.474Z"
   },
   {
    "duration": 73,
    "start_time": "2023-12-17T19:26:59.491Z"
   },
   {
    "duration": 75,
    "start_time": "2023-12-17T19:27:06.003Z"
   },
   {
    "duration": 71,
    "start_time": "2023-12-17T19:27:11.075Z"
   },
   {
    "duration": 75,
    "start_time": "2023-12-17T19:27:20.475Z"
   },
   {
    "duration": 77,
    "start_time": "2023-12-17T19:27:33.222Z"
   },
   {
    "duration": 91,
    "start_time": "2023-12-17T19:27:55.101Z"
   },
   {
    "duration": 76,
    "start_time": "2023-12-17T19:28:35.342Z"
   },
   {
    "duration": 7,
    "start_time": "2023-12-17T19:29:51.423Z"
   },
   {
    "duration": 9,
    "start_time": "2023-12-17T19:30:18.919Z"
   },
   {
    "duration": 20,
    "start_time": "2023-12-17T19:30:26.478Z"
   },
   {
    "duration": 76,
    "start_time": "2023-12-17T19:30:50.041Z"
   },
   {
    "duration": 19,
    "start_time": "2023-12-17T19:31:20.370Z"
   },
   {
    "duration": 7,
    "start_time": "2023-12-17T19:31:31.754Z"
   },
   {
    "duration": 8,
    "start_time": "2023-12-17T19:31:41.377Z"
   },
   {
    "duration": 9,
    "start_time": "2023-12-17T19:32:22.867Z"
   },
   {
    "duration": 18,
    "start_time": "2023-12-17T19:32:26.107Z"
   },
   {
    "duration": 19,
    "start_time": "2023-12-17T19:32:45.332Z"
   },
   {
    "duration": 6,
    "start_time": "2023-12-17T19:33:32.380Z"
   },
   {
    "duration": 20,
    "start_time": "2023-12-17T19:33:34.116Z"
   },
   {
    "duration": 6,
    "start_time": "2023-12-17T19:34:15.813Z"
   },
   {
    "duration": 22,
    "start_time": "2023-12-17T19:34:21.077Z"
   },
   {
    "duration": 92,
    "start_time": "2023-12-17T19:34:36.191Z"
   },
   {
    "duration": 7,
    "start_time": "2023-12-17T19:34:44.217Z"
   },
   {
    "duration": 6,
    "start_time": "2023-12-17T19:34:47.157Z"
   },
   {
    "duration": 76,
    "start_time": "2023-12-17T19:34:50.717Z"
   },
   {
    "duration": 7,
    "start_time": "2023-12-17T19:34:53.285Z"
   },
   {
    "duration": 21,
    "start_time": "2023-12-17T19:35:01.205Z"
   },
   {
    "duration": 79,
    "start_time": "2023-12-17T19:35:21.295Z"
   },
   {
    "duration": 81,
    "start_time": "2023-12-17T19:35:30.919Z"
   },
   {
    "duration": 6,
    "start_time": "2023-12-17T19:35:33.070Z"
   },
   {
    "duration": 6,
    "start_time": "2023-12-17T19:36:08.992Z"
   },
   {
    "duration": 75,
    "start_time": "2023-12-17T19:36:19.616Z"
   },
   {
    "duration": 955,
    "start_time": "2023-12-17T19:37:56.083Z"
   },
   {
    "duration": 102,
    "start_time": "2023-12-17T19:38:03.073Z"
   },
   {
    "duration": 1450,
    "start_time": "2023-12-17T19:42:59.649Z"
   },
   {
    "duration": 5,
    "start_time": "2023-12-17T19:43:02.953Z"
   },
   {
    "duration": 102,
    "start_time": "2023-12-17T19:43:26.788Z"
   },
   {
    "duration": 93,
    "start_time": "2023-12-17T19:46:47.621Z"
   },
   {
    "duration": 11,
    "start_time": "2023-12-17T19:51:38.660Z"
   },
   {
    "duration": 12,
    "start_time": "2023-12-17T19:51:48.188Z"
   },
   {
    "duration": 109,
    "start_time": "2023-12-17T19:51:53.996Z"
   },
   {
    "duration": 116,
    "start_time": "2023-12-17T19:51:59.162Z"
   },
   {
    "duration": 11,
    "start_time": "2023-12-17T19:52:43.660Z"
   },
   {
    "duration": 8,
    "start_time": "2023-12-17T19:52:50.142Z"
   },
   {
    "duration": 120,
    "start_time": "2023-12-17T19:52:51.556Z"
   },
   {
    "duration": 110,
    "start_time": "2023-12-17T19:52:54.636Z"
   },
   {
    "duration": 6,
    "start_time": "2023-12-17T20:00:15.862Z"
   },
   {
    "duration": 1161,
    "start_time": "2023-12-17T20:44:43.675Z"
   },
   {
    "duration": 697,
    "start_time": "2023-12-17T20:44:44.839Z"
   },
   {
    "duration": 31,
    "start_time": "2023-12-17T20:44:45.537Z"
   },
   {
    "duration": 12,
    "start_time": "2023-12-17T20:44:45.570Z"
   },
   {
    "duration": 16,
    "start_time": "2023-12-17T20:44:45.584Z"
   },
   {
    "duration": 35,
    "start_time": "2023-12-17T20:44:45.614Z"
   },
   {
    "duration": 6,
    "start_time": "2023-12-17T20:44:45.650Z"
   },
   {
    "duration": 94,
    "start_time": "2023-12-17T20:44:45.658Z"
   },
   {
    "duration": 69,
    "start_time": "2023-12-17T20:44:45.753Z"
   },
   {
    "duration": 124,
    "start_time": "2023-12-17T20:44:45.825Z"
   },
   {
    "duration": 146,
    "start_time": "2023-12-17T20:44:45.950Z"
   },
   {
    "duration": 20,
    "start_time": "2023-12-17T20:44:46.097Z"
   },
   {
    "duration": 36,
    "start_time": "2023-12-17T20:44:46.118Z"
   },
   {
    "duration": 6,
    "start_time": "2023-12-17T20:44:46.156Z"
   },
   {
    "duration": 83,
    "start_time": "2023-12-17T20:44:46.163Z"
   },
   {
    "duration": 29,
    "start_time": "2023-12-17T20:44:46.248Z"
   },
   {
    "duration": 8,
    "start_time": "2023-12-17T20:44:46.278Z"
   },
   {
    "duration": 350,
    "start_time": "2023-12-17T20:44:46.288Z"
   },
   {
    "duration": 10,
    "start_time": "2023-12-17T20:44:46.639Z"
   },
   {
    "duration": 35,
    "start_time": "2023-12-17T20:44:46.651Z"
   },
   {
    "duration": 95,
    "start_time": "2023-12-17T20:44:46.687Z"
   },
   {
    "duration": 231,
    "start_time": "2023-12-17T20:44:46.784Z"
   },
   {
    "duration": 43,
    "start_time": "2023-12-17T20:44:47.016Z"
   },
   {
    "duration": 55,
    "start_time": "2023-12-17T20:44:47.061Z"
   },
   {
    "duration": 41,
    "start_time": "2023-12-17T20:44:47.119Z"
   },
   {
    "duration": 99,
    "start_time": "2023-12-17T20:44:47.162Z"
   },
   {
    "duration": 3,
    "start_time": "2023-12-17T20:44:47.263Z"
   },
   {
    "duration": 71,
    "start_time": "2023-12-17T20:44:47.269Z"
   },
   {
    "duration": 5,
    "start_time": "2023-12-17T20:44:47.341Z"
   },
   {
    "duration": 417,
    "start_time": "2023-12-17T20:44:47.347Z"
   },
   {
    "duration": 7,
    "start_time": "2023-12-17T20:44:47.766Z"
   },
   {
    "duration": 78,
    "start_time": "2023-12-17T20:44:47.775Z"
   },
   {
    "duration": 92,
    "start_time": "2023-12-17T20:44:47.855Z"
   },
   {
    "duration": 6,
    "start_time": "2023-12-17T20:44:47.949Z"
   },
   {
    "duration": 148,
    "start_time": "2023-12-17T20:44:47.957Z"
   },
   {
    "duration": 141,
    "start_time": "2023-12-17T20:44:48.107Z"
   },
   {
    "duration": 142,
    "start_time": "2023-12-17T20:44:48.251Z"
   },
   {
    "duration": 147,
    "start_time": "2023-12-17T20:44:48.394Z"
   },
   {
    "duration": 134,
    "start_time": "2023-12-17T20:44:48.543Z"
   },
   {
    "duration": 154,
    "start_time": "2023-12-17T20:44:48.679Z"
   },
   {
    "duration": 6,
    "start_time": "2023-12-17T20:44:48.834Z"
   },
   {
    "duration": 149,
    "start_time": "2023-12-17T20:44:48.841Z"
   },
   {
    "duration": 144,
    "start_time": "2023-12-17T20:44:48.992Z"
   },
   {
    "duration": 90,
    "start_time": "2023-12-17T21:22:05.790Z"
   },
   {
    "duration": 65,
    "start_time": "2023-12-17T21:22:53.965Z"
   },
   {
    "duration": 45,
    "start_time": "2023-12-17T21:26:52.724Z"
   },
   {
    "duration": 7,
    "start_time": "2023-12-17T21:27:55.155Z"
   },
   {
    "duration": 7,
    "start_time": "2023-12-17T21:28:33.445Z"
   },
   {
    "duration": 9,
    "start_time": "2023-12-17T21:31:26.800Z"
   },
   {
    "duration": 7,
    "start_time": "2023-12-17T21:32:21.450Z"
   },
   {
    "duration": 7,
    "start_time": "2023-12-17T21:32:22.994Z"
   },
   {
    "duration": 8,
    "start_time": "2023-12-17T21:32:31.545Z"
   },
   {
    "duration": 1419,
    "start_time": "2023-12-17T21:32:51.363Z"
   },
   {
    "duration": 717,
    "start_time": "2023-12-17T21:32:54.931Z"
   },
   {
    "duration": 35,
    "start_time": "2023-12-17T21:32:57.165Z"
   },
   {
    "duration": 15,
    "start_time": "2023-12-17T21:32:59.340Z"
   },
   {
    "duration": 18,
    "start_time": "2023-12-17T21:33:00.939Z"
   },
   {
    "duration": 6,
    "start_time": "2023-12-17T21:33:03.538Z"
   },
   {
    "duration": 88,
    "start_time": "2023-12-17T21:33:06.267Z"
   },
   {
    "duration": 69,
    "start_time": "2023-12-17T21:33:08.034Z"
   },
   {
    "duration": 134,
    "start_time": "2023-12-17T21:33:10.161Z"
   },
   {
    "duration": 762,
    "start_time": "2023-12-17T21:33:13.722Z"
   },
   {
    "duration": 716,
    "start_time": "2023-12-17T21:33:16.336Z"
   },
   {
    "duration": 14,
    "start_time": "2023-12-17T21:33:21.109Z"
   },
   {
    "duration": 51,
    "start_time": "2023-12-17T21:33:24.226Z"
   },
   {
    "duration": 12,
    "start_time": "2023-12-17T21:33:28.595Z"
   },
   {
    "duration": 13,
    "start_time": "2023-12-17T21:33:31.227Z"
   },
   {
    "duration": 15,
    "start_time": "2023-12-17T21:33:36.307Z"
   },
   {
    "duration": 121,
    "start_time": "2023-12-17T21:33:38.875Z"
   },
   {
    "duration": 71,
    "start_time": "2023-12-17T21:33:41.091Z"
   },
   {
    "duration": 78,
    "start_time": "2023-12-17T21:33:42.764Z"
   },
   {
    "duration": 74,
    "start_time": "2023-12-17T21:33:43.980Z"
   },
   {
    "duration": 89,
    "start_time": "2023-12-17T21:33:44.659Z"
   },
   {
    "duration": 5,
    "start_time": "2023-12-17T21:33:46.291Z"
   },
   {
    "duration": 4,
    "start_time": "2023-12-17T21:33:47.195Z"
   },
   {
    "duration": 13,
    "start_time": "2023-12-17T21:33:49.954Z"
   },
   {
    "duration": 12,
    "start_time": "2023-12-17T21:34:04.187Z"
   },
   {
    "duration": 131,
    "start_time": "2023-12-17T21:34:08.715Z"
   },
   {
    "duration": 722,
    "start_time": "2023-12-17T21:34:11.069Z"
   },
   {
    "duration": 760,
    "start_time": "2023-12-17T21:34:16.653Z"
   },
   {
    "duration": 36,
    "start_time": "2023-12-17T21:34:22.076Z"
   },
   {
    "duration": 6,
    "start_time": "2023-12-17T21:34:27.476Z"
   },
   {
    "duration": 5,
    "start_time": "2023-12-17T21:34:28.276Z"
   },
   {
    "duration": 5,
    "start_time": "2023-12-17T21:34:29.211Z"
   },
   {
    "duration": 5,
    "start_time": "2023-12-17T21:34:29.884Z"
   },
   {
    "duration": 5,
    "start_time": "2023-12-17T21:34:31.100Z"
   },
   {
    "duration": 163,
    "start_time": "2023-12-17T21:34:33.283Z"
   },
   {
    "duration": 30,
    "start_time": "2023-12-17T21:34:36.002Z"
   },
   {
    "duration": 31,
    "start_time": "2023-12-17T21:34:36.820Z"
   },
   {
    "duration": 29,
    "start_time": "2023-12-17T21:34:37.492Z"
   },
   {
    "duration": 13,
    "start_time": "2023-12-17T21:34:42.189Z"
   },
   {
    "duration": 12,
    "start_time": "2023-12-17T21:34:43.086Z"
   },
   {
    "duration": 13,
    "start_time": "2023-12-17T21:34:43.884Z"
   },
   {
    "duration": 18,
    "start_time": "2023-12-17T21:34:46.428Z"
   },
   {
    "duration": 33,
    "start_time": "2023-12-17T21:34:48.836Z"
   },
   {
    "duration": 40,
    "start_time": "2023-12-17T21:34:51.212Z"
   },
   {
    "duration": 43,
    "start_time": "2023-12-17T21:34:52.300Z"
   },
   {
    "duration": 103,
    "start_time": "2023-12-17T21:34:53.589Z"
   },
   {
    "duration": 7,
    "start_time": "2023-12-17T21:34:56.027Z"
   },
   {
    "duration": 73,
    "start_time": "2023-12-17T21:34:58.182Z"
   },
   {
    "duration": 50,
    "start_time": "2023-12-17T21:35:00.332Z"
   },
   {
    "duration": 111,
    "start_time": "2023-12-17T21:35:02.005Z"
   },
   {
    "duration": 143,
    "start_time": "2023-12-17T21:35:03.453Z"
   },
   {
    "duration": 9,
    "start_time": "2023-12-17T21:35:06.756Z"
   },
   {
    "duration": 52,
    "start_time": "2023-12-17T21:35:10.069Z"
   },
   {
    "duration": 8,
    "start_time": "2023-12-17T21:35:11.446Z"
   },
   {
    "duration": 58,
    "start_time": "2023-12-17T21:35:12.476Z"
   },
   {
    "duration": 34,
    "start_time": "2023-12-17T21:35:14.020Z"
   },
   {
    "duration": 10,
    "start_time": "2023-12-17T21:35:16.036Z"
   },
   {
    "duration": 331,
    "start_time": "2023-12-17T21:35:19.765Z"
   },
   {
    "duration": 17,
    "start_time": "2023-12-17T21:35:21.918Z"
   },
   {
    "duration": 230,
    "start_time": "2023-12-17T21:35:23.787Z"
   },
   {
    "duration": 259,
    "start_time": "2023-12-17T21:35:34.285Z"
   },
   {
    "duration": 269,
    "start_time": "2023-12-17T21:35:47.869Z"
   },
   {
    "duration": 250,
    "start_time": "2023-12-17T21:36:04.829Z"
   },
   {
    "duration": 232,
    "start_time": "2023-12-17T21:36:13.022Z"
   },
   {
    "duration": 272,
    "start_time": "2023-12-17T21:36:47.127Z"
   },
   {
    "duration": 264,
    "start_time": "2023-12-17T21:37:04.863Z"
   },
   {
    "duration": 245,
    "start_time": "2023-12-17T21:37:06.143Z"
   },
   {
    "duration": 321,
    "start_time": "2023-12-17T21:37:06.920Z"
   },
   {
    "duration": 241,
    "start_time": "2023-12-17T21:37:08.327Z"
   },
   {
    "duration": 46,
    "start_time": "2023-12-17T21:48:46.238Z"
   },
   {
    "duration": 49,
    "start_time": "2023-12-17T21:48:47.590Z"
   },
   {
    "duration": 22,
    "start_time": "2023-12-17T21:50:37.481Z"
   },
   {
    "duration": 20,
    "start_time": "2023-12-17T21:50:40.752Z"
   },
   {
    "duration": 21,
    "start_time": "2023-12-17T21:50:42.481Z"
   },
   {
    "duration": 21,
    "start_time": "2023-12-17T21:50:43.416Z"
   },
   {
    "duration": 13,
    "start_time": "2023-12-17T21:50:46.272Z"
   },
   {
    "duration": 53,
    "start_time": "2023-12-17T21:50:48.841Z"
   },
   {
    "duration": 45,
    "start_time": "2023-12-17T21:50:51.080Z"
   },
   {
    "duration": 57,
    "start_time": "2023-12-17T21:50:58.466Z"
   },
   {
    "duration": 46,
    "start_time": "2023-12-17T21:51:01.609Z"
   },
   {
    "duration": 115,
    "start_time": "2023-12-17T21:51:11.816Z"
   },
   {
    "duration": 244,
    "start_time": "2023-12-17T21:51:14.320Z"
   },
   {
    "duration": 38,
    "start_time": "2023-12-17T21:51:17.688Z"
   },
   {
    "duration": 37,
    "start_time": "2023-12-17T21:52:20.146Z"
   },
   {
    "duration": 34,
    "start_time": "2023-12-17T21:52:22.747Z"
   },
   {
    "duration": 75,
    "start_time": "2023-12-17T21:52:48.235Z"
   },
   {
    "duration": 34,
    "start_time": "2023-12-17T21:52:57.955Z"
   },
   {
    "duration": 33,
    "start_time": "2023-12-17T21:53:34.868Z"
   },
   {
    "duration": 37,
    "start_time": "2023-12-17T21:53:42.116Z"
   },
   {
    "duration": 34,
    "start_time": "2023-12-17T21:54:54.637Z"
   },
   {
    "duration": 39,
    "start_time": "2023-12-17T21:55:43.494Z"
   },
   {
    "duration": 40,
    "start_time": "2023-12-17T21:56:06.088Z"
   },
   {
    "duration": 47,
    "start_time": "2023-12-17T21:56:18.225Z"
   },
   {
    "duration": 37,
    "start_time": "2023-12-17T21:56:22.200Z"
   },
   {
    "duration": 82,
    "start_time": "2023-12-17T21:56:23.488Z"
   },
   {
    "duration": 195,
    "start_time": "2023-12-17T21:59:53.606Z"
   },
   {
    "duration": 83,
    "start_time": "2023-12-17T22:02:02.417Z"
   },
   {
    "duration": 54,
    "start_time": "2023-12-17T22:02:25.881Z"
   },
   {
    "duration": 196,
    "start_time": "2023-12-17T22:02:30.816Z"
   },
   {
    "duration": 189,
    "start_time": "2023-12-17T22:02:47.545Z"
   },
   {
    "duration": 187,
    "start_time": "2023-12-17T22:03:32.930Z"
   },
   {
    "duration": 195,
    "start_time": "2023-12-17T22:03:44.482Z"
   },
   {
    "duration": 178,
    "start_time": "2023-12-17T22:04:54.548Z"
   },
   {
    "duration": 71,
    "start_time": "2023-12-17T22:05:14.450Z"
   },
   {
    "duration": 67,
    "start_time": "2023-12-17T22:06:29.166Z"
   },
   {
    "duration": 68,
    "start_time": "2023-12-17T22:06:35.750Z"
   },
   {
    "duration": 62,
    "start_time": "2023-12-17T22:06:59.367Z"
   },
   {
    "duration": 65,
    "start_time": "2023-12-17T22:08:08.592Z"
   },
   {
    "duration": 65,
    "start_time": "2023-12-17T22:08:40.561Z"
   },
   {
    "duration": 76,
    "start_time": "2023-12-17T22:09:05.401Z"
   },
   {
    "duration": 64,
    "start_time": "2023-12-17T22:09:42.124Z"
   },
   {
    "duration": 64,
    "start_time": "2023-12-17T22:09:56.786Z"
   },
   {
    "duration": 87,
    "start_time": "2023-12-17T22:10:13.346Z"
   },
   {
    "duration": 7,
    "start_time": "2023-12-17T22:10:23.610Z"
   },
   {
    "duration": 60,
    "start_time": "2023-12-17T22:11:51.101Z"
   },
   {
    "duration": 7,
    "start_time": "2023-12-17T22:11:57.580Z"
   },
   {
    "duration": 36,
    "start_time": "2023-12-17T22:12:01.236Z"
   },
   {
    "duration": 33,
    "start_time": "2023-12-17T22:12:03.228Z"
   },
   {
    "duration": 86,
    "start_time": "2023-12-17T22:16:23.131Z"
   },
   {
    "duration": 83,
    "start_time": "2023-12-17T22:16:34.034Z"
   },
   {
    "duration": 97,
    "start_time": "2023-12-17T22:16:35.452Z"
   },
   {
    "duration": 27,
    "start_time": "2023-12-17T22:17:04.723Z"
   },
   {
    "duration": 27,
    "start_time": "2023-12-17T22:17:24.555Z"
   },
   {
    "duration": 28,
    "start_time": "2023-12-17T22:17:56.101Z"
   },
   {
    "duration": 30,
    "start_time": "2023-12-17T22:18:24.413Z"
   },
   {
    "duration": 28,
    "start_time": "2023-12-17T22:18:25.885Z"
   },
   {
    "duration": 56,
    "start_time": "2023-12-17T22:19:17.983Z"
   },
   {
    "duration": 58,
    "start_time": "2023-12-17T22:19:22.566Z"
   },
   {
    "duration": 37,
    "start_time": "2023-12-17T22:19:52.927Z"
   },
   {
    "duration": 33,
    "start_time": "2023-12-17T22:20:16.607Z"
   },
   {
    "duration": 36,
    "start_time": "2023-12-17T22:20:21.328Z"
   },
   {
    "duration": 54,
    "start_time": "2023-12-17T22:21:07.936Z"
   },
   {
    "duration": 49,
    "start_time": "2023-12-17T22:21:26.616Z"
   },
   {
    "duration": 254,
    "start_time": "2023-12-17T22:27:39.945Z"
   },
   {
    "duration": 929,
    "start_time": "2023-12-17T22:29:14.683Z"
   },
   {
    "duration": 225,
    "start_time": "2023-12-17T22:29:17.795Z"
   },
   {
    "duration": 258,
    "start_time": "2023-12-17T22:29:50.939Z"
   },
   {
    "duration": 0,
    "start_time": "2023-12-17T22:30:00.749Z"
   },
   {
    "duration": 924,
    "start_time": "2023-12-17T22:30:13.731Z"
   },
   {
    "duration": 2367,
    "start_time": "2023-12-17T22:31:02.743Z"
   },
   {
    "duration": 9391,
    "start_time": "2023-12-17T22:31:33.902Z"
   },
   {
    "duration": 35,
    "start_time": "2023-12-17T22:31:44.429Z"
   },
   {
    "duration": 55,
    "start_time": "2023-12-17T22:33:32.087Z"
   },
   {
    "duration": 1178,
    "start_time": "2023-12-18T09:08:46.309Z"
   },
   {
    "duration": 497,
    "start_time": "2023-12-18T09:08:47.489Z"
   },
   {
    "duration": 31,
    "start_time": "2023-12-18T09:08:47.987Z"
   },
   {
    "duration": 13,
    "start_time": "2023-12-18T09:08:48.020Z"
   },
   {
    "duration": 16,
    "start_time": "2023-12-18T09:08:48.035Z"
   },
   {
    "duration": 42,
    "start_time": "2023-12-18T09:08:48.053Z"
   },
   {
    "duration": 5,
    "start_time": "2023-12-18T09:08:48.097Z"
   },
   {
    "duration": 91,
    "start_time": "2023-12-18T09:08:48.103Z"
   },
   {
    "duration": 53,
    "start_time": "2023-12-18T09:08:48.196Z"
   },
   {
    "duration": 133,
    "start_time": "2023-12-18T09:08:48.251Z"
   },
   {
    "duration": 131,
    "start_time": "2023-12-18T09:08:48.386Z"
   },
   {
    "duration": 7,
    "start_time": "2023-12-18T09:08:48.519Z"
   },
   {
    "duration": 55,
    "start_time": "2023-12-18T09:08:48.527Z"
   },
   {
    "duration": 7,
    "start_time": "2023-12-18T09:08:48.583Z"
   },
   {
    "duration": 51,
    "start_time": "2023-12-18T09:08:48.591Z"
   },
   {
    "duration": 47,
    "start_time": "2023-12-18T09:08:48.643Z"
   },
   {
    "duration": 7,
    "start_time": "2023-12-18T09:08:48.691Z"
   },
   {
    "duration": 326,
    "start_time": "2023-12-18T09:08:48.700Z"
   },
   {
    "duration": 11,
    "start_time": "2023-12-18T09:08:49.028Z"
   },
   {
    "duration": 51,
    "start_time": "2023-12-18T09:08:49.040Z"
   },
   {
    "duration": 87,
    "start_time": "2023-12-18T09:08:49.092Z"
   },
   {
    "duration": 202,
    "start_time": "2023-12-18T09:08:49.180Z"
   },
   {
    "duration": 30,
    "start_time": "2023-12-18T09:08:49.383Z"
   },
   {
    "duration": 33,
    "start_time": "2023-12-18T09:08:49.415Z"
   },
   {
    "duration": 27,
    "start_time": "2023-12-18T09:08:49.465Z"
   },
   {
    "duration": 91,
    "start_time": "2023-12-18T09:08:49.493Z"
   },
   {
    "duration": 2,
    "start_time": "2023-12-18T09:08:49.586Z"
   },
   {
    "duration": 58,
    "start_time": "2023-12-18T09:08:49.592Z"
   },
   {
    "duration": 4,
    "start_time": "2023-12-18T09:08:49.664Z"
   },
   {
    "duration": 440,
    "start_time": "2023-12-18T09:08:49.670Z"
   },
   {
    "duration": 6,
    "start_time": "2023-12-18T09:08:50.112Z"
   },
   {
    "duration": 63,
    "start_time": "2023-12-18T09:08:50.119Z"
   },
   {
    "duration": 81,
    "start_time": "2023-12-18T09:08:50.184Z"
   },
   {
    "duration": 135,
    "start_time": "2023-12-18T09:08:50.267Z"
   },
   {
    "duration": 0,
    "start_time": "2023-12-18T09:08:50.403Z"
   },
   {
    "duration": 0,
    "start_time": "2023-12-18T09:08:50.404Z"
   },
   {
    "duration": 0,
    "start_time": "2023-12-18T09:08:50.406Z"
   },
   {
    "duration": 0,
    "start_time": "2023-12-18T09:08:50.406Z"
   },
   {
    "duration": 0,
    "start_time": "2023-12-18T09:08:50.407Z"
   },
   {
    "duration": 0,
    "start_time": "2023-12-18T09:08:50.408Z"
   },
   {
    "duration": 0,
    "start_time": "2023-12-18T09:08:50.409Z"
   },
   {
    "duration": 0,
    "start_time": "2023-12-18T09:08:50.410Z"
   },
   {
    "duration": 0,
    "start_time": "2023-12-18T09:08:50.411Z"
   },
   {
    "duration": 0,
    "start_time": "2023-12-18T09:08:50.412Z"
   },
   {
    "duration": 47,
    "start_time": "2023-12-18T09:13:26.356Z"
   },
   {
    "duration": 7,
    "start_time": "2023-12-18T09:13:28.122Z"
   },
   {
    "duration": 8,
    "start_time": "2023-12-18T09:14:00.457Z"
   },
   {
    "duration": 1341,
    "start_time": "2023-12-18T09:14:11.475Z"
   },
   {
    "duration": 64,
    "start_time": "2023-12-18T09:14:14.210Z"
   },
   {
    "duration": 9,
    "start_time": "2023-12-18T09:14:15.745Z"
   },
   {
    "duration": 4,
    "start_time": "2023-12-18T09:14:19.313Z"
   },
   {
    "duration": 9,
    "start_time": "2023-12-18T09:14:20.985Z"
   },
   {
    "duration": 4,
    "start_time": "2023-12-18T09:14:25.154Z"
   },
   {
    "duration": 4,
    "start_time": "2023-12-18T09:14:26.090Z"
   },
   {
    "duration": 707,
    "start_time": "2023-12-18T09:14:29.073Z"
   },
   {
    "duration": 32,
    "start_time": "2023-12-18T09:14:29.905Z"
   },
   {
    "duration": 14,
    "start_time": "2023-12-18T09:14:32.452Z"
   },
   {
    "duration": 15,
    "start_time": "2023-12-18T09:14:34.722Z"
   },
   {
    "duration": 17,
    "start_time": "2023-12-18T09:14:36.265Z"
   },
   {
    "duration": 34,
    "start_time": "2023-12-18T09:14:38.322Z"
   },
   {
    "duration": 5,
    "start_time": "2023-12-18T09:14:40.186Z"
   },
   {
    "duration": 73,
    "start_time": "2023-12-18T09:14:42.273Z"
   },
   {
    "duration": 53,
    "start_time": "2023-12-18T09:14:44.521Z"
   },
   {
    "duration": 113,
    "start_time": "2023-12-18T09:14:45.353Z"
   },
   {
    "duration": 140,
    "start_time": "2023-12-18T09:14:46.292Z"
   },
   {
    "duration": 8,
    "start_time": "2023-12-18T09:14:48.145Z"
   },
   {
    "duration": 36,
    "start_time": "2023-12-18T09:14:49.818Z"
   },
   {
    "duration": 57,
    "start_time": "2023-12-18T09:14:51.746Z"
   },
   {
    "duration": 7,
    "start_time": "2023-12-18T09:14:52.482Z"
   },
   {
    "duration": 29,
    "start_time": "2023-12-18T09:14:54.410Z"
   },
   {
    "duration": 8,
    "start_time": "2023-12-18T09:14:55.730Z"
   },
   {
    "duration": 326,
    "start_time": "2023-12-18T09:14:57.554Z"
   },
   {
    "duration": 11,
    "start_time": "2023-12-18T09:14:59.834Z"
   },
   {
    "duration": 41,
    "start_time": "2023-12-18T09:15:03.018Z"
   },
   {
    "duration": 83,
    "start_time": "2023-12-18T09:15:05.363Z"
   },
   {
    "duration": 196,
    "start_time": "2023-12-18T09:15:07.963Z"
   },
   {
    "duration": 33,
    "start_time": "2023-12-18T09:15:09.763Z"
   },
   {
    "duration": 35,
    "start_time": "2023-12-18T09:15:14.098Z"
   },
   {
    "duration": 31,
    "start_time": "2023-12-18T09:15:16.890Z"
   },
   {
    "duration": 71,
    "start_time": "2023-12-18T09:15:18.364Z"
   },
   {
    "duration": 58,
    "start_time": "2023-12-18T09:15:23.123Z"
   },
   {
    "duration": 4,
    "start_time": "2023-12-18T09:15:25.627Z"
   },
   {
    "duration": 10,
    "start_time": "2023-12-18T09:15:30.155Z"
   },
   {
    "duration": 280,
    "start_time": "2023-12-18T09:15:33.045Z"
   },
   {
    "duration": 72,
    "start_time": "2023-12-18T09:15:40.236Z"
   },
   {
    "duration": 31,
    "start_time": "2023-12-18T09:15:46.691Z"
   },
   {
    "duration": 41,
    "start_time": "2023-12-18T09:15:49.708Z"
   },
   {
    "duration": 28,
    "start_time": "2023-12-18T09:15:52.116Z"
   },
   {
    "duration": 68,
    "start_time": "2023-12-18T09:15:54.395Z"
   },
   {
    "duration": 60,
    "start_time": "2023-12-18T09:16:01.236Z"
   },
   {
    "duration": 4,
    "start_time": "2023-12-18T09:16:03.844Z"
   },
   {
    "duration": 61,
    "start_time": "2023-12-18T09:16:05.733Z"
   },
   {
    "duration": 6,
    "start_time": "2023-12-18T09:16:08.212Z"
   },
   {
    "duration": 30,
    "start_time": "2023-12-18T09:16:13.219Z"
   },
   {
    "duration": 32,
    "start_time": "2023-12-18T09:16:15.756Z"
   },
   {
    "duration": 33,
    "start_time": "2023-12-18T09:16:19.357Z"
   },
   {
    "duration": 34,
    "start_time": "2023-12-18T09:16:27.060Z"
   },
   {
    "duration": 29,
    "start_time": "2023-12-18T09:16:37.628Z"
   },
   {
    "duration": 35,
    "start_time": "2023-12-18T09:16:57.349Z"
   },
   {
    "duration": 542,
    "start_time": "2023-12-18T09:17:40.574Z"
   },
   {
    "duration": 31,
    "start_time": "2023-12-18T09:18:08.293Z"
   },
   {
    "duration": 32,
    "start_time": "2023-12-18T09:18:09.541Z"
   },
   {
    "duration": 32,
    "start_time": "2023-12-18T09:18:10.638Z"
   },
   {
    "duration": 31,
    "start_time": "2023-12-18T09:18:11.853Z"
   },
   {
    "duration": 31,
    "start_time": "2023-12-18T09:18:12.630Z"
   },
   {
    "duration": 31,
    "start_time": "2023-12-18T09:18:13.239Z"
   },
   {
    "duration": 31,
    "start_time": "2023-12-18T09:18:13.847Z"
   },
   {
    "duration": 31,
    "start_time": "2023-12-18T09:18:15.902Z"
   },
   {
    "duration": 32,
    "start_time": "2023-12-18T09:18:20.494Z"
   },
   {
    "duration": 30,
    "start_time": "2023-12-18T09:18:21.367Z"
   },
   {
    "duration": 32,
    "start_time": "2023-12-18T09:18:28.270Z"
   },
   {
    "duration": 33,
    "start_time": "2023-12-18T09:18:30.998Z"
   },
   {
    "duration": 1209,
    "start_time": "2023-12-18T10:08:33.387Z"
   },
   {
    "duration": 176,
    "start_time": "2023-12-18T10:08:34.597Z"
   },
   {
    "duration": 29,
    "start_time": "2023-12-18T10:08:34.774Z"
   },
   {
    "duration": 13,
    "start_time": "2023-12-18T10:08:34.804Z"
   },
   {
    "duration": 31,
    "start_time": "2023-12-18T10:08:34.818Z"
   },
   {
    "duration": 44,
    "start_time": "2023-12-18T10:08:34.850Z"
   },
   {
    "duration": 5,
    "start_time": "2023-12-18T10:08:34.896Z"
   },
   {
    "duration": 86,
    "start_time": "2023-12-18T10:08:34.902Z"
   },
   {
    "duration": 51,
    "start_time": "2023-12-18T10:08:34.990Z"
   },
   {
    "duration": 124,
    "start_time": "2023-12-18T10:08:35.043Z"
   },
   {
    "duration": 120,
    "start_time": "2023-12-18T10:08:35.169Z"
   },
   {
    "duration": 22,
    "start_time": "2023-12-18T10:08:35.291Z"
   },
   {
    "duration": 71,
    "start_time": "2023-12-18T10:08:35.314Z"
   },
   {
    "duration": 11,
    "start_time": "2023-12-18T10:08:35.387Z"
   },
   {
    "duration": 90,
    "start_time": "2023-12-18T10:08:35.399Z"
   },
   {
    "duration": 27,
    "start_time": "2023-12-18T10:08:35.491Z"
   },
   {
    "duration": 7,
    "start_time": "2023-12-18T10:08:35.519Z"
   },
   {
    "duration": 373,
    "start_time": "2023-12-18T10:08:35.527Z"
   },
   {
    "duration": 14,
    "start_time": "2023-12-18T10:08:35.902Z"
   },
   {
    "duration": 68,
    "start_time": "2023-12-18T10:08:35.917Z"
   },
   {
    "duration": 89,
    "start_time": "2023-12-18T10:08:35.986Z"
   },
   {
    "duration": 200,
    "start_time": "2023-12-18T10:08:36.076Z"
   },
   {
    "duration": 31,
    "start_time": "2023-12-18T10:08:36.277Z"
   },
   {
    "duration": 32,
    "start_time": "2023-12-18T10:08:36.310Z"
   },
   {
    "duration": 47,
    "start_time": "2023-12-18T10:08:36.344Z"
   },
   {
    "duration": 77,
    "start_time": "2023-12-18T10:08:36.392Z"
   },
   {
    "duration": 2,
    "start_time": "2023-12-18T10:08:36.471Z"
   },
   {
    "duration": 61,
    "start_time": "2023-12-18T10:08:36.476Z"
   },
   {
    "duration": 3,
    "start_time": "2023-12-18T10:08:36.538Z"
   },
   {
    "duration": 450,
    "start_time": "2023-12-18T10:08:36.543Z"
   },
   {
    "duration": 6,
    "start_time": "2023-12-18T10:08:36.994Z"
   },
   {
    "duration": 89,
    "start_time": "2023-12-18T10:08:37.001Z"
   },
   {
    "duration": 28,
    "start_time": "2023-12-18T10:08:37.091Z"
   },
   {
    "duration": 68,
    "start_time": "2023-12-18T10:08:37.121Z"
   },
   {
    "duration": 5,
    "start_time": "2023-12-18T10:08:37.191Z"
   },
   {
    "duration": 150,
    "start_time": "2023-12-18T10:08:37.197Z"
   },
   {
    "duration": 0,
    "start_time": "2023-12-18T10:08:37.349Z"
   },
   {
    "duration": 0,
    "start_time": "2023-12-18T10:08:37.350Z"
   },
   {
    "duration": 0,
    "start_time": "2023-12-18T10:08:37.351Z"
   },
   {
    "duration": 0,
    "start_time": "2023-12-18T10:08:37.352Z"
   },
   {
    "duration": 0,
    "start_time": "2023-12-18T10:08:37.353Z"
   },
   {
    "duration": 0,
    "start_time": "2023-12-18T10:08:37.354Z"
   },
   {
    "duration": 0,
    "start_time": "2023-12-18T10:08:37.365Z"
   },
   {
    "duration": 0,
    "start_time": "2023-12-18T10:08:37.367Z"
   },
   {
    "duration": 1320,
    "start_time": "2023-12-18T10:14:40.432Z"
   },
   {
    "duration": 204,
    "start_time": "2023-12-18T10:14:41.755Z"
   },
   {
    "duration": 35,
    "start_time": "2023-12-18T10:14:41.961Z"
   },
   {
    "duration": 27,
    "start_time": "2023-12-18T10:14:42.015Z"
   },
   {
    "duration": 17,
    "start_time": "2023-12-18T10:14:42.044Z"
   },
   {
    "duration": 57,
    "start_time": "2023-12-18T10:14:42.062Z"
   },
   {
    "duration": 8,
    "start_time": "2023-12-18T10:14:42.121Z"
   },
   {
    "duration": 120,
    "start_time": "2023-12-18T10:14:42.132Z"
   },
   {
    "duration": 90,
    "start_time": "2023-12-18T10:14:42.254Z"
   },
   {
    "duration": 131,
    "start_time": "2023-12-18T10:14:42.347Z"
   },
   {
    "duration": 158,
    "start_time": "2023-12-18T10:14:42.480Z"
   },
   {
    "duration": 7,
    "start_time": "2023-12-18T10:14:42.640Z"
   },
   {
    "duration": 37,
    "start_time": "2023-12-18T10:14:42.649Z"
   },
   {
    "duration": 41,
    "start_time": "2023-12-18T10:14:42.688Z"
   },
   {
    "duration": 55,
    "start_time": "2023-12-18T10:14:42.731Z"
   },
   {
    "duration": 59,
    "start_time": "2023-12-18T10:14:42.788Z"
   },
   {
    "duration": 7,
    "start_time": "2023-12-18T10:14:42.849Z"
   },
   {
    "duration": 385,
    "start_time": "2023-12-18T10:14:42.858Z"
   },
   {
    "duration": 11,
    "start_time": "2023-12-18T10:14:43.244Z"
   },
   {
    "duration": 42,
    "start_time": "2023-12-18T10:14:43.257Z"
   },
   {
    "duration": 129,
    "start_time": "2023-12-18T10:14:43.301Z"
   },
   {
    "duration": 245,
    "start_time": "2023-12-18T10:14:43.433Z"
   },
   {
    "duration": 46,
    "start_time": "2023-12-18T10:14:43.679Z"
   },
   {
    "duration": 41,
    "start_time": "2023-12-18T10:14:43.727Z"
   },
   {
    "duration": 32,
    "start_time": "2023-12-18T10:14:43.770Z"
   },
   {
    "duration": 77,
    "start_time": "2023-12-18T10:14:43.825Z"
   },
   {
    "duration": 18,
    "start_time": "2023-12-18T10:14:43.904Z"
   },
   {
    "duration": 64,
    "start_time": "2023-12-18T10:14:43.928Z"
   },
   {
    "duration": 5,
    "start_time": "2023-12-18T10:14:43.993Z"
   },
   {
    "duration": 235,
    "start_time": "2023-12-18T10:14:44.000Z"
   },
   {
    "duration": 8,
    "start_time": "2023-12-18T10:14:44.236Z"
   },
   {
    "duration": 95,
    "start_time": "2023-12-18T10:14:44.246Z"
   },
   {
    "duration": 77,
    "start_time": "2023-12-18T10:14:44.342Z"
   },
   {
    "duration": 31,
    "start_time": "2023-12-18T10:14:44.423Z"
   },
   {
    "duration": 6,
    "start_time": "2023-12-18T10:14:44.456Z"
   },
   {
    "duration": 205,
    "start_time": "2023-12-18T10:14:44.463Z"
   },
   {
    "duration": 0,
    "start_time": "2023-12-18T10:14:44.670Z"
   },
   {
    "duration": 0,
    "start_time": "2023-12-18T10:14:44.671Z"
   },
   {
    "duration": 0,
    "start_time": "2023-12-18T10:14:44.672Z"
   },
   {
    "duration": 0,
    "start_time": "2023-12-18T10:14:44.672Z"
   },
   {
    "duration": 0,
    "start_time": "2023-12-18T10:14:44.673Z"
   },
   {
    "duration": 0,
    "start_time": "2023-12-18T10:14:44.674Z"
   },
   {
    "duration": 0,
    "start_time": "2023-12-18T10:14:44.675Z"
   },
   {
    "duration": 0,
    "start_time": "2023-12-18T10:14:44.676Z"
   },
   {
    "duration": 5,
    "start_time": "2023-12-18T10:14:59.325Z"
   },
   {
    "duration": 181,
    "start_time": "2023-12-18T10:15:01.511Z"
   },
   {
    "duration": 12,
    "start_time": "2023-12-18T10:15:07.582Z"
   },
   {
    "duration": 18,
    "start_time": "2023-12-18T10:15:09.606Z"
   },
   {
    "duration": 33,
    "start_time": "2023-12-18T10:15:11.238Z"
   },
   {
    "duration": 6,
    "start_time": "2023-12-18T10:15:12.845Z"
   },
   {
    "duration": 70,
    "start_time": "2023-12-18T10:15:14.261Z"
   },
   {
    "duration": 67,
    "start_time": "2023-12-18T10:15:15.415Z"
   },
   {
    "duration": 113,
    "start_time": "2023-12-18T10:15:16.509Z"
   },
   {
    "duration": 797,
    "start_time": "2023-12-18T10:15:19.045Z"
   },
   {
    "duration": 124,
    "start_time": "2023-12-18T10:15:22.894Z"
   },
   {
    "duration": 75,
    "start_time": "2023-12-18T10:15:24.534Z"
   },
   {
    "duration": 778,
    "start_time": "2023-12-18T10:15:27.197Z"
   },
   {
    "duration": 1033,
    "start_time": "2023-12-18T10:15:29.926Z"
   },
   {
    "duration": 36,
    "start_time": "2023-12-18T10:15:32.238Z"
   },
   {
    "duration": 7,
    "start_time": "2023-12-18T10:15:33.782Z"
   },
   {
    "duration": 54,
    "start_time": "2023-12-18T10:15:34.422Z"
   },
   {
    "duration": 31,
    "start_time": "2023-12-18T10:15:36.224Z"
   },
   {
    "duration": 855,
    "start_time": "2023-12-18T10:15:38.374Z"
   },
   {
    "duration": 864,
    "start_time": "2023-12-18T10:15:40.046Z"
   },
   {
    "duration": 766,
    "start_time": "2023-12-18T10:15:45.695Z"
   },
   {
    "duration": 738,
    "start_time": "2023-12-18T10:15:49.031Z"
   },
   {
    "duration": 57,
    "start_time": "2023-12-18T10:15:52.152Z"
   },
   {
    "duration": 7,
    "start_time": "2023-12-18T10:15:53.302Z"
   },
   {
    "duration": 40,
    "start_time": "2023-12-18T10:15:55.455Z"
   },
   {
    "duration": 7,
    "start_time": "2023-12-18T10:15:57.382Z"
   },
   {
    "duration": 58,
    "start_time": "2023-12-18T10:15:58.190Z"
   },
   {
    "duration": 31,
    "start_time": "2023-12-18T10:15:59.374Z"
   },
   {
    "duration": 809,
    "start_time": "2023-12-18T10:16:00.727Z"
   },
   {
    "duration": 131,
    "start_time": "2023-12-18T10:16:07.849Z"
   },
   {
    "duration": 137,
    "start_time": "2023-12-18T10:16:09.656Z"
   },
   {
    "duration": 9,
    "start_time": "2023-12-18T10:16:13.959Z"
   },
   {
    "duration": 47,
    "start_time": "2023-12-18T10:16:17.040Z"
   },
   {
    "duration": 10,
    "start_time": "2023-12-18T10:16:18.967Z"
   },
   {
    "duration": 55,
    "start_time": "2023-12-18T10:16:19.959Z"
   },
   {
    "duration": 28,
    "start_time": "2023-12-18T10:16:21.342Z"
   },
   {
    "duration": 7,
    "start_time": "2023-12-18T10:16:23.528Z"
   },
   {
    "duration": 329,
    "start_time": "2023-12-18T10:16:25.712Z"
   },
   {
    "duration": 11,
    "start_time": "2023-12-18T10:16:28.375Z"
   },
   {
    "duration": 35,
    "start_time": "2023-12-18T10:16:30.168Z"
   },
   {
    "duration": 75,
    "start_time": "2023-12-18T10:16:32.416Z"
   },
   {
    "duration": 99,
    "start_time": "2023-12-18T10:16:35.216Z"
   },
   {
    "duration": 78,
    "start_time": "2023-12-18T10:16:36.783Z"
   },
   {
    "duration": 224,
    "start_time": "2023-12-18T10:16:39.616Z"
   },
   {
    "duration": 33,
    "start_time": "2023-12-18T10:16:42.376Z"
   },
   {
    "duration": 43,
    "start_time": "2023-12-18T10:16:44.943Z"
   },
   {
    "duration": 33,
    "start_time": "2023-12-18T10:16:46.679Z"
   },
   {
    "duration": 70,
    "start_time": "2023-12-18T10:16:48.344Z"
   },
   {
    "duration": 55,
    "start_time": "2023-12-18T10:16:56.984Z"
   },
   {
    "duration": 4,
    "start_time": "2023-12-18T10:16:58.975Z"
   },
   {
    "duration": 66,
    "start_time": "2023-12-18T10:17:00.874Z"
   },
   {
    "duration": 7,
    "start_time": "2023-12-18T10:17:04.823Z"
   },
   {
    "duration": 35,
    "start_time": "2023-12-18T10:17:07.937Z"
   },
   {
    "duration": 33,
    "start_time": "2023-12-18T10:17:10.152Z"
   },
   {
    "duration": 28,
    "start_time": "2023-12-18T10:17:11.696Z"
   },
   {
    "duration": 9,
    "start_time": "2023-12-18T10:17:15.897Z"
   },
   {
    "duration": 64,
    "start_time": "2023-12-18T10:17:16.832Z"
   },
   {
    "duration": 57,
    "start_time": "2023-12-18T10:17:18.440Z"
   },
   {
    "duration": 6,
    "start_time": "2023-12-18T10:17:20.169Z"
   },
   {
    "duration": 6,
    "start_time": "2023-12-18T10:17:22.096Z"
   },
   {
    "duration": 28,
    "start_time": "2023-12-18T10:17:30.064Z"
   },
   {
    "duration": 6,
    "start_time": "2023-12-18T10:17:32.505Z"
   },
   {
    "duration": 7,
    "start_time": "2023-12-18T10:17:34.977Z"
   },
   {
    "duration": 6,
    "start_time": "2023-12-18T10:17:36.777Z"
   },
   {
    "duration": 54,
    "start_time": "2023-12-18T10:17:39.697Z"
   },
   {
    "duration": 7,
    "start_time": "2023-12-18T10:17:52.985Z"
   },
   {
    "duration": 7,
    "start_time": "2023-12-18T10:17:55.298Z"
   },
   {
    "duration": 6,
    "start_time": "2023-12-18T10:18:14.497Z"
   },
   {
    "duration": 5,
    "start_time": "2023-12-18T10:18:15.529Z"
   },
   {
    "duration": 6,
    "start_time": "2023-12-18T10:18:18.002Z"
   },
   {
    "duration": 5,
    "start_time": "2023-12-18T10:18:19.154Z"
   },
   {
    "duration": 5,
    "start_time": "2023-12-18T10:18:29.753Z"
   },
   {
    "duration": 6,
    "start_time": "2023-12-18T10:18:35.955Z"
   },
   {
    "duration": 149,
    "start_time": "2023-12-18T10:18:37.361Z"
   },
   {
    "duration": 10,
    "start_time": "2023-12-18T10:18:39.132Z"
   },
   {
    "duration": 142,
    "start_time": "2023-12-18T10:18:41.345Z"
   },
   {
    "duration": 185,
    "start_time": "2023-12-18T10:18:44.787Z"
   },
   {
    "duration": 142,
    "start_time": "2023-12-18T10:18:46.066Z"
   },
   {
    "duration": 134,
    "start_time": "2023-12-18T10:18:48.153Z"
   },
   {
    "duration": 159,
    "start_time": "2023-12-18T10:18:50.116Z"
   },
   {
    "duration": 145,
    "start_time": "2023-12-18T10:18:52.201Z"
   },
   {
    "duration": 6,
    "start_time": "2023-12-18T10:18:54.258Z"
   },
   {
    "duration": 146,
    "start_time": "2023-12-18T10:18:55.314Z"
   },
   {
    "duration": 138,
    "start_time": "2023-12-18T10:18:56.217Z"
   },
   {
    "duration": 5,
    "start_time": "2023-12-18T10:19:10.252Z"
   },
   {
    "duration": 29,
    "start_time": "2023-12-18T10:19:13.108Z"
   },
   {
    "duration": 13,
    "start_time": "2023-12-18T10:19:16.347Z"
   },
   {
    "duration": 17,
    "start_time": "2023-12-18T10:19:17.858Z"
   },
   {
    "duration": 35,
    "start_time": "2023-12-18T10:19:19.531Z"
   },
   {
    "duration": 6,
    "start_time": "2023-12-18T10:19:21.747Z"
   },
   {
    "duration": 84,
    "start_time": "2023-12-18T10:19:23.570Z"
   },
   {
    "duration": 62,
    "start_time": "2023-12-18T10:19:25.659Z"
   },
   {
    "duration": 143,
    "start_time": "2023-12-18T10:19:27.011Z"
   },
   {
    "duration": 146,
    "start_time": "2023-12-18T10:19:28.460Z"
   },
   {
    "duration": 9,
    "start_time": "2023-12-18T10:19:31.123Z"
   },
   {
    "duration": 35,
    "start_time": "2023-12-18T10:19:33.563Z"
   },
   {
    "duration": 7,
    "start_time": "2023-12-18T10:19:34.779Z"
   },
   {
    "duration": 85,
    "start_time": "2023-12-18T10:19:36.483Z"
   },
   {
    "duration": 29,
    "start_time": "2023-12-18T10:19:37.578Z"
   },
   {
    "duration": 8,
    "start_time": "2023-12-18T10:19:39.499Z"
   },
   {
    "duration": 251,
    "start_time": "2023-12-18T10:19:41.619Z"
   },
   {
    "duration": 10,
    "start_time": "2023-12-18T10:19:43.580Z"
   },
   {
    "duration": 33,
    "start_time": "2023-12-18T10:19:45.221Z"
   },
   {
    "duration": 86,
    "start_time": "2023-12-18T10:19:47.467Z"
   },
   {
    "duration": 84,
    "start_time": "2023-12-18T10:19:50.973Z"
   },
   {
    "duration": 225,
    "start_time": "2023-12-18T10:19:53.731Z"
   },
   {
    "duration": 32,
    "start_time": "2023-12-18T10:19:55.723Z"
   },
   {
    "duration": 32,
    "start_time": "2023-12-18T10:19:57.236Z"
   },
   {
    "duration": 30,
    "start_time": "2023-12-18T10:19:59.380Z"
   },
   {
    "duration": 74,
    "start_time": "2023-12-18T10:20:01.468Z"
   },
   {
    "duration": 68,
    "start_time": "2023-12-18T10:20:05.356Z"
   },
   {
    "duration": 59,
    "start_time": "2023-12-18T10:20:07.860Z"
   },
   {
    "duration": 4,
    "start_time": "2023-12-18T10:20:09.884Z"
   },
   {
    "duration": 65,
    "start_time": "2023-12-18T10:20:11.109Z"
   },
   {
    "duration": 6,
    "start_time": "2023-12-18T10:20:14.444Z"
   },
   {
    "duration": 34,
    "start_time": "2023-12-18T10:20:17.979Z"
   },
   {
    "duration": 38,
    "start_time": "2023-12-18T10:20:19.708Z"
   },
   {
    "duration": 29,
    "start_time": "2023-12-18T10:20:23.117Z"
   },
   {
    "duration": 6,
    "start_time": "2023-12-18T10:20:27.261Z"
   },
   {
    "duration": 149,
    "start_time": "2023-12-18T10:20:29.667Z"
   },
   {
    "duration": 143,
    "start_time": "2023-12-18T10:20:34.644Z"
   },
   {
    "duration": 149,
    "start_time": "2023-12-18T10:20:38.365Z"
   },
   {
    "duration": 137,
    "start_time": "2023-12-18T10:20:40.036Z"
   },
   {
    "duration": 168,
    "start_time": "2023-12-18T10:20:42.284Z"
   },
   {
    "duration": 145,
    "start_time": "2023-12-18T10:20:43.764Z"
   },
   {
    "duration": 7,
    "start_time": "2023-12-18T10:20:48.294Z"
   },
   {
    "duration": 139,
    "start_time": "2023-12-18T10:20:49.476Z"
   },
   {
    "duration": 159,
    "start_time": "2023-12-18T10:20:50.988Z"
   },
   {
    "duration": 1478,
    "start_time": "2023-12-18T14:13:29.485Z"
   },
   {
    "duration": 492,
    "start_time": "2023-12-18T14:13:30.965Z"
   },
   {
    "duration": 30,
    "start_time": "2023-12-18T14:13:31.459Z"
   },
   {
    "duration": 64,
    "start_time": "2023-12-18T14:13:31.491Z"
   },
   {
    "duration": 111,
    "start_time": "2023-12-18T14:13:31.557Z"
   },
   {
    "duration": 128,
    "start_time": "2023-12-18T14:13:31.670Z"
   },
   {
    "duration": 200,
    "start_time": "2023-12-18T14:13:31.799Z"
   },
   {
    "duration": 143,
    "start_time": "2023-12-18T14:13:32.001Z"
   },
   {
    "duration": 73,
    "start_time": "2023-12-18T14:13:32.146Z"
   },
   {
    "duration": 135,
    "start_time": "2023-12-18T14:13:32.222Z"
   },
   {
    "duration": 138,
    "start_time": "2023-12-18T14:13:32.359Z"
   },
   {
    "duration": 108,
    "start_time": "2023-12-18T14:13:32.499Z"
   },
   {
    "duration": 91,
    "start_time": "2023-12-18T14:13:32.609Z"
   },
   {
    "duration": 13,
    "start_time": "2023-12-18T14:13:32.702Z"
   },
   {
    "duration": 80,
    "start_time": "2023-12-18T14:13:32.716Z"
   },
   {
    "duration": 28,
    "start_time": "2023-12-18T14:13:32.797Z"
   },
   {
    "duration": 12,
    "start_time": "2023-12-18T14:13:32.826Z"
   },
   {
    "duration": 420,
    "start_time": "2023-12-18T14:13:32.840Z"
   },
   {
    "duration": 16,
    "start_time": "2023-12-18T14:13:33.262Z"
   },
   {
    "duration": 47,
    "start_time": "2023-12-18T14:13:33.288Z"
   },
   {
    "duration": 87,
    "start_time": "2023-12-18T14:13:33.337Z"
   },
   {
    "duration": 220,
    "start_time": "2023-12-18T14:13:33.426Z"
   },
   {
    "duration": 49,
    "start_time": "2023-12-18T14:13:33.648Z"
   },
   {
    "duration": 37,
    "start_time": "2023-12-18T14:13:33.699Z"
   },
   {
    "duration": 28,
    "start_time": "2023-12-18T14:13:33.737Z"
   },
   {
    "duration": 94,
    "start_time": "2023-12-18T14:13:33.766Z"
   },
   {
    "duration": 2,
    "start_time": "2023-12-18T14:13:33.862Z"
   },
   {
    "duration": 77,
    "start_time": "2023-12-18T14:13:33.867Z"
   },
   {
    "duration": 4,
    "start_time": "2023-12-18T14:13:33.945Z"
   },
   {
    "duration": 424,
    "start_time": "2023-12-18T14:13:33.950Z"
   },
   {
    "duration": 6,
    "start_time": "2023-12-18T14:13:34.375Z"
   },
   {
    "duration": 50,
    "start_time": "2023-12-18T14:13:34.383Z"
   },
   {
    "duration": 81,
    "start_time": "2023-12-18T14:13:34.435Z"
   },
   {
    "duration": 28,
    "start_time": "2023-12-18T14:13:34.517Z"
   },
   {
    "duration": 42,
    "start_time": "2023-12-18T14:13:34.546Z"
   },
   {
    "duration": 161,
    "start_time": "2023-12-18T14:13:34.590Z"
   },
   {
    "duration": 148,
    "start_time": "2023-12-18T14:13:34.753Z"
   },
   {
    "duration": 152,
    "start_time": "2023-12-18T14:13:34.903Z"
   },
   {
    "duration": 153,
    "start_time": "2023-12-18T14:13:35.056Z"
   },
   {
    "duration": 166,
    "start_time": "2023-12-18T14:13:35.210Z"
   },
   {
    "duration": 162,
    "start_time": "2023-12-18T14:13:35.377Z"
   },
   {
    "duration": 6,
    "start_time": "2023-12-18T14:13:35.540Z"
   },
   {
    "duration": 169,
    "start_time": "2023-12-18T14:13:35.548Z"
   },
   {
    "duration": 142,
    "start_time": "2023-12-18T14:13:35.719Z"
   },
   {
    "duration": 40,
    "start_time": "2023-12-18T14:16:40.521Z"
   },
   {
    "duration": 47,
    "start_time": "2024-01-06T11:53:22.167Z"
   },
   {
    "duration": 44,
    "start_time": "2024-01-28T13:18:37.026Z"
   },
   {
    "duration": 6,
    "start_time": "2024-01-28T13:18:43.547Z"
   },
   {
    "duration": 1337,
    "start_time": "2024-01-28T13:20:06.953Z"
   },
   {
    "duration": 485,
    "start_time": "2024-01-28T13:20:08.292Z"
   },
   {
    "duration": 17,
    "start_time": "2024-01-28T13:20:10.672Z"
   },
   {
    "duration": 33,
    "start_time": "2024-01-28T13:20:13.048Z"
   },
   {
    "duration": 5,
    "start_time": "2024-01-28T13:20:15.327Z"
   },
   {
    "duration": 79,
    "start_time": "2024-01-28T13:20:17.639Z"
   },
   {
    "duration": 51,
    "start_time": "2024-01-28T13:20:19.695Z"
   },
   {
    "duration": 116,
    "start_time": "2024-01-28T13:20:21.719Z"
   },
   {
    "duration": 125,
    "start_time": "2024-01-28T13:20:25.473Z"
   },
   {
    "duration": 113,
    "start_time": "2024-01-28T13:20:26.463Z"
   },
   {
    "duration": 8,
    "start_time": "2024-01-28T13:20:28.423Z"
   },
   {
    "duration": 33,
    "start_time": "2024-01-28T13:20:30.064Z"
   },
   {
    "duration": 7,
    "start_time": "2024-01-28T13:20:31.375Z"
   },
   {
    "duration": 26,
    "start_time": "2024-01-28T13:20:32.983Z"
   },
   {
    "duration": 7,
    "start_time": "2024-01-28T13:20:34.816Z"
   },
   {
    "duration": 292,
    "start_time": "2024-01-28T13:20:36.255Z"
   },
   {
    "duration": 10,
    "start_time": "2024-01-28T13:21:00.145Z"
   },
   {
    "duration": 32,
    "start_time": "2024-01-28T13:21:02.680Z"
   },
   {
    "duration": 69,
    "start_time": "2024-01-28T13:21:04.932Z"
   },
   {
    "duration": 177,
    "start_time": "2024-01-28T13:21:07.336Z"
   },
   {
    "duration": 67,
    "start_time": "2024-01-28T13:21:11.377Z"
   },
   {
    "duration": 29,
    "start_time": "2024-01-28T13:21:15.170Z"
   },
   {
    "duration": 27,
    "start_time": "2024-01-28T13:21:17.770Z"
   },
   {
    "duration": 26,
    "start_time": "2024-01-28T13:21:22.713Z"
   },
   {
    "duration": 65,
    "start_time": "2024-01-28T13:21:24.833Z"
   },
   {
    "duration": 60,
    "start_time": "2024-01-28T13:21:28.201Z"
   },
   {
    "duration": 4,
    "start_time": "2024-01-28T13:21:30.032Z"
   },
   {
    "duration": 4,
    "start_time": "2024-01-28T13:21:39.400Z"
   },
   {
    "duration": 221,
    "start_time": "2024-01-28T13:21:42.289Z"
   },
   {
    "duration": 6,
    "start_time": "2024-01-28T13:21:44.317Z"
   },
   {
    "duration": 5,
    "start_time": "2024-01-28T13:21:49.417Z"
   },
   {
    "duration": 31,
    "start_time": "2024-01-28T13:21:52.177Z"
   },
   {
    "duration": 30,
    "start_time": "2024-01-28T13:21:55.393Z"
   },
   {
    "duration": 27,
    "start_time": "2024-01-28T13:21:57.057Z"
   },
   {
    "duration": 34,
    "start_time": "2024-01-28T13:21:58.921Z"
   },
   {
    "duration": 36,
    "start_time": "2024-01-28T13:22:01.273Z"
   },
   {
    "duration": 35,
    "start_time": "2024-01-28T13:22:11.377Z"
   },
   {
    "duration": 29,
    "start_time": "2024-01-28T13:22:14.426Z"
   },
   {
    "duration": 28,
    "start_time": "2024-01-28T13:22:16.138Z"
   },
   {
    "duration": 34,
    "start_time": "2024-01-28T13:22:18.377Z"
   },
   {
    "duration": 6,
    "start_time": "2024-01-28T13:22:21.938Z"
   },
   {
    "duration": 117,
    "start_time": "2024-01-28T13:22:23.673Z"
   },
   {
    "duration": 34,
    "start_time": "2024-01-28T13:22:31.505Z"
   },
   {
    "duration": 29,
    "start_time": "2024-01-28T13:22:33.402Z"
   },
   {
    "duration": 27,
    "start_time": "2024-01-28T13:22:35.163Z"
   },
   {
    "duration": 30,
    "start_time": "2024-01-28T13:22:36.801Z"
   },
   {
    "duration": 27,
    "start_time": "2024-01-28T13:22:43.091Z"
   },
   {
    "duration": 33,
    "start_time": "2024-01-28T13:22:44.923Z"
   },
   {
    "duration": 6,
    "start_time": "2024-01-28T13:22:55.675Z"
   },
   {
    "duration": 128,
    "start_time": "2024-01-28T13:22:58.339Z"
   },
   {
    "duration": 129,
    "start_time": "2024-01-28T13:23:01.524Z"
   },
   {
    "duration": 116,
    "start_time": "2024-01-28T13:23:03.573Z"
   },
   {
    "duration": 118,
    "start_time": "2024-01-28T13:23:06.074Z"
   },
   {
    "duration": 117,
    "start_time": "2024-01-28T13:23:07.714Z"
   },
   {
    "duration": 64,
    "start_time": "2024-01-28T13:23:09.962Z"
   },
   {
    "duration": 6,
    "start_time": "2024-01-28T13:23:12.146Z"
   },
   {
    "duration": 6,
    "start_time": "2024-01-28T13:23:13.650Z"
   },
   {
    "duration": 115,
    "start_time": "2024-01-28T13:23:14.618Z"
   },
   {
    "duration": 114,
    "start_time": "2024-01-28T13:23:16.731Z"
   },
   {
    "duration": 68,
    "start_time": "2024-01-31T19:00:41.976Z"
   },
   {
    "duration": 1038,
    "start_time": "2024-02-07T11:46:56.303Z"
   },
   {
    "duration": 436,
    "start_time": "2024-02-07T11:46:57.342Z"
   },
   {
    "duration": 23,
    "start_time": "2024-02-07T11:46:57.779Z"
   },
   {
    "duration": 16,
    "start_time": "2024-02-07T11:46:57.803Z"
   },
   {
    "duration": 12,
    "start_time": "2024-02-07T11:46:57.820Z"
   },
   {
    "duration": 24,
    "start_time": "2024-02-07T11:46:57.833Z"
   },
   {
    "duration": 5,
    "start_time": "2024-02-07T11:46:57.858Z"
   },
   {
    "duration": 82,
    "start_time": "2024-02-07T11:46:57.864Z"
   },
   {
    "duration": 54,
    "start_time": "2024-02-07T11:46:57.947Z"
   },
   {
    "duration": 99,
    "start_time": "2024-02-07T11:46:58.003Z"
   },
   {
    "duration": 111,
    "start_time": "2024-02-07T11:46:58.103Z"
   },
   {
    "duration": 6,
    "start_time": "2024-02-07T11:46:58.215Z"
   },
   {
    "duration": 25,
    "start_time": "2024-02-07T11:46:58.223Z"
   },
   {
    "duration": 4,
    "start_time": "2024-02-07T11:46:58.249Z"
   },
   {
    "duration": 68,
    "start_time": "2024-02-07T11:46:58.255Z"
   },
   {
    "duration": 21,
    "start_time": "2024-02-07T11:46:58.324Z"
   },
   {
    "duration": 6,
    "start_time": "2024-02-07T11:46:58.346Z"
   },
   {
    "duration": 285,
    "start_time": "2024-02-07T11:46:58.353Z"
   },
   {
    "duration": 9,
    "start_time": "2024-02-07T11:46:58.639Z"
   },
   {
    "duration": 35,
    "start_time": "2024-02-07T11:46:58.650Z"
   },
   {
    "duration": 58,
    "start_time": "2024-02-07T11:46:58.686Z"
   },
   {
    "duration": 169,
    "start_time": "2024-02-07T11:46:58.745Z"
   },
   {
    "duration": 21,
    "start_time": "2024-02-07T11:46:58.915Z"
   },
   {
    "duration": 28,
    "start_time": "2024-02-07T11:46:58.937Z"
   },
   {
    "duration": 38,
    "start_time": "2024-02-07T11:46:58.966Z"
   },
   {
    "duration": 59,
    "start_time": "2024-02-07T11:46:59.005Z"
   },
   {
    "duration": 2,
    "start_time": "2024-02-07T11:46:59.066Z"
   },
   {
    "duration": 53,
    "start_time": "2024-02-07T11:46:59.070Z"
   },
   {
    "duration": 3,
    "start_time": "2024-02-07T11:46:59.125Z"
   },
   {
    "duration": 190,
    "start_time": "2024-02-07T11:46:59.129Z"
   },
   {
    "duration": 5,
    "start_time": "2024-02-07T11:46:59.320Z"
   },
   {
    "duration": 37,
    "start_time": "2024-02-07T11:46:59.326Z"
   },
   {
    "duration": 61,
    "start_time": "2024-02-07T11:46:59.364Z"
   },
   {
    "duration": 23,
    "start_time": "2024-02-07T11:46:59.427Z"
   },
   {
    "duration": 69,
    "start_time": "2024-02-07T11:46:59.452Z"
   },
   {
    "duration": 7,
    "start_time": "2024-02-07T11:46:59.523Z"
   },
   {
    "duration": 114,
    "start_time": "2024-02-07T11:46:59.532Z"
   },
   {
    "duration": 111,
    "start_time": "2024-02-07T11:46:59.647Z"
   },
   {
    "duration": 108,
    "start_time": "2024-02-07T11:46:59.760Z"
   },
   {
    "duration": 111,
    "start_time": "2024-02-07T11:46:59.869Z"
   },
   {
    "duration": 123,
    "start_time": "2024-02-07T11:46:59.981Z"
   },
   {
    "duration": 124,
    "start_time": "2024-02-07T11:47:00.106Z"
   },
   {
    "duration": 4,
    "start_time": "2024-02-07T11:47:00.232Z"
   },
   {
    "duration": 152,
    "start_time": "2024-02-07T11:47:00.237Z"
   },
   {
    "duration": 129,
    "start_time": "2024-02-07T11:47:00.390Z"
   },
   {
    "duration": 1401,
    "start_time": "2024-03-26T11:25:46.323Z"
   },
   {
    "duration": 822,
    "start_time": "2024-03-26T11:25:47.792Z"
   },
   {
    "duration": 29,
    "start_time": "2024-03-26T11:25:48.615Z"
   },
   {
    "duration": 15,
    "start_time": "2024-03-26T11:25:50.194Z"
   },
   {
    "duration": 18,
    "start_time": "2024-03-26T11:25:52.048Z"
   },
   {
    "duration": 34,
    "start_time": "2024-03-26T11:25:53.145Z"
   },
   {
    "duration": 6,
    "start_time": "2024-03-26T11:25:54.744Z"
   },
   {
    "duration": 75,
    "start_time": "2024-03-26T11:25:55.576Z"
   },
   {
    "duration": 54,
    "start_time": "2024-03-26T11:25:57.241Z"
   },
   {
    "duration": 110,
    "start_time": "2024-03-26T11:25:57.977Z"
   },
   {
    "duration": 126,
    "start_time": "2024-03-26T11:25:58.712Z"
   },
   {
    "duration": 10,
    "start_time": "2024-03-26T11:26:00.217Z"
   },
   {
    "duration": 37,
    "start_time": "2024-03-26T11:26:01.561Z"
   },
   {
    "duration": 7,
    "start_time": "2024-03-26T11:26:03.672Z"
   },
   {
    "duration": 53,
    "start_time": "2024-03-26T11:26:04.385Z"
   },
   {
    "duration": 28,
    "start_time": "2024-03-26T11:26:05.344Z"
   },
   {
    "duration": 8,
    "start_time": "2024-03-26T11:26:07.233Z"
   },
   {
    "duration": 317,
    "start_time": "2024-03-26T11:26:08.737Z"
   },
   {
    "duration": 11,
    "start_time": "2024-03-26T11:26:11.042Z"
   },
   {
    "duration": 38,
    "start_time": "2024-03-26T11:26:12.417Z"
   },
   {
    "duration": 77,
    "start_time": "2024-03-26T11:26:13.833Z"
   },
   {
    "duration": 196,
    "start_time": "2024-03-26T11:26:15.401Z"
   },
   {
    "duration": 30,
    "start_time": "2024-03-26T11:26:16.746Z"
   },
   {
    "duration": 33,
    "start_time": "2024-03-26T11:26:18.153Z"
   },
   {
    "duration": 28,
    "start_time": "2024-03-26T11:26:19.657Z"
   },
   {
    "duration": 70,
    "start_time": "2024-03-26T11:26:21.034Z"
   },
   {
    "duration": 56,
    "start_time": "2024-03-26T11:26:22.665Z"
   },
   {
    "duration": 226,
    "start_time": "2024-03-26T11:26:24.585Z"
   },
   {
    "duration": 65,
    "start_time": "2024-03-26T11:26:27.241Z"
   },
   {
    "duration": 6,
    "start_time": "2024-03-26T11:26:29.524Z"
   },
   {
    "duration": 32,
    "start_time": "2024-03-26T11:26:31.858Z"
   },
   {
    "duration": 33,
    "start_time": "2024-03-26T11:26:33.459Z"
   },
   {
    "duration": 26,
    "start_time": "2024-03-26T11:26:35.058Z"
   },
   {
    "duration": 38,
    "start_time": "2024-03-26T11:26:36.376Z"
   },
   {
    "duration": 6,
    "start_time": "2024-03-26T11:26:41.786Z"
   },
   {
    "duration": 122,
    "start_time": "2024-03-26T11:26:50.819Z"
   },
   {
    "duration": 119,
    "start_time": "2024-03-26T11:26:52.224Z"
   },
   {
    "duration": 124,
    "start_time": "2024-03-26T11:26:53.570Z"
   },
   {
    "duration": 126,
    "start_time": "2024-03-26T11:26:54.854Z"
   },
   {
    "duration": 123,
    "start_time": "2024-03-26T11:26:56.585Z"
   },
   {
    "duration": 129,
    "start_time": "2024-03-26T11:26:58.058Z"
   },
   {
    "duration": 6,
    "start_time": "2024-03-26T11:26:59.850Z"
   },
   {
    "duration": 151,
    "start_time": "2024-03-26T11:27:01.033Z"
   },
   {
    "duration": 132,
    "start_time": "2024-03-26T11:27:02.506Z"
   }
  ],
  "kernelspec": {
   "display_name": "Python 3 (ipykernel)",
   "language": "python",
   "name": "python3"
  },
  "language_info": {
   "codemirror_mode": {
    "name": "ipython",
    "version": 3
   },
   "file_extension": ".py",
   "mimetype": "text/x-python",
   "name": "python",
   "nbconvert_exporter": "python",
   "pygments_lexer": "ipython3",
   "version": "3.9.5"
  },
  "toc": {
   "base_numbering": "",
   "nav_menu": {},
   "number_sections": false,
   "sideBar": true,
   "skip_h1_title": true,
   "title_cell": "Содержание",
   "title_sidebar": "Contents",
   "toc_cell": false,
   "toc_position": {
    "height": "calc(100% - 180px)",
    "left": "10px",
    "top": "150px",
    "width": "362.656px"
   },
   "toc_section_display": true,
   "toc_window_display": false
  }
 },
 "nbformat": 4,
 "nbformat_minor": 2
}
